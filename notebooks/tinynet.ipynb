{
 "cells": [
  {
   "cell_type": "code",
   "execution_count": 2,
   "id": "45b04cd4",
   "metadata": {},
   "outputs": [
    {
     "name": "stdout",
     "output_type": "stream",
     "text": [
      "Looking in indexes: https://pypi.org/simple, https://pip.repos.neuron.amazonaws.com\n",
      "Collecting deeplake\n",
      "  Using cached deeplake-3.1.3.tar.gz (397 kB)\n",
      "  Preparing metadata (setup.py) ... \u001b[?25ldone\n",
      "\u001b[?25hRequirement already satisfied: numpy in /home/ec2-user/anaconda3/envs/amazonei_pytorch_latest_p37/lib/python3.7/site-packages (from deeplake) (1.21.5)\n",
      "Requirement already satisfied: pillow in /home/ec2-user/anaconda3/envs/amazonei_pytorch_latest_p37/lib/python3.7/site-packages (from deeplake) (9.0.1)\n",
      "Requirement already satisfied: boto3 in /home/ec2-user/anaconda3/envs/amazonei_pytorch_latest_p37/lib/python3.7/site-packages (from deeplake) (1.26.22)\n",
      "Requirement already satisfied: click in /home/ec2-user/anaconda3/envs/amazonei_pytorch_latest_p37/lib/python3.7/site-packages (from deeplake) (8.0.4)\n",
      "Requirement already satisfied: pathos in /home/ec2-user/anaconda3/envs/amazonei_pytorch_latest_p37/lib/python3.7/site-packages (from deeplake) (0.2.8)\n",
      "Collecting humbug>=0.2.6\n",
      "  Downloading humbug-0.2.7-py3-none-any.whl (11 kB)\n",
      "Requirement already satisfied: tqdm in /home/ec2-user/anaconda3/envs/amazonei_pytorch_latest_p37/lib/python3.7/site-packages (from deeplake) (4.63.0)\n",
      "Collecting numcodecs\n",
      "  Downloading numcodecs-0.10.2-cp37-cp37m-manylinux_2_17_x86_64.manylinux2014_x86_64.whl (6.6 MB)\n",
      "\u001b[2K     \u001b[90m━━━━━━━━━━━━━━━━━━━━━━━━━━━━━━━━━━━━━━━━\u001b[0m \u001b[32m6.6/6.6 MB\u001b[0m \u001b[31m36.6 MB/s\u001b[0m eta \u001b[36m0:00:00\u001b[0m00:01\u001b[0m00:01\u001b[0m\n",
      "\u001b[?25hCollecting pyjwt\n",
      "  Downloading PyJWT-2.6.0-py3-none-any.whl (20 kB)\n",
      "Collecting hub>=2.8.7\n",
      "  Downloading hub-3.0.1-py3-none-any.whl (1.4 kB)\n",
      "Requirement already satisfied: requests in /home/ec2-user/anaconda3/envs/amazonei_pytorch_latest_p37/lib/python3.7/site-packages (from humbug>=0.2.6->deeplake) (2.27.1)\n",
      "Requirement already satisfied: jmespath<2.0.0,>=0.7.1 in /home/ec2-user/anaconda3/envs/amazonei_pytorch_latest_p37/lib/python3.7/site-packages (from boto3->deeplake) (0.10.0)\n",
      "Requirement already satisfied: s3transfer<0.7.0,>=0.6.0 in /home/ec2-user/anaconda3/envs/amazonei_pytorch_latest_p37/lib/python3.7/site-packages (from boto3->deeplake) (0.6.0)\n",
      "Requirement already satisfied: botocore<1.30.0,>=1.29.22 in /home/ec2-user/anaconda3/envs/amazonei_pytorch_latest_p37/lib/python3.7/site-packages (from boto3->deeplake) (1.29.22)\n",
      "Requirement already satisfied: importlib-metadata in /home/ec2-user/anaconda3/envs/amazonei_pytorch_latest_p37/lib/python3.7/site-packages (from click->deeplake) (4.11.3)\n",
      "Requirement already satisfied: typing-extensions>=3.7.4 in /home/ec2-user/anaconda3/envs/amazonei_pytorch_latest_p37/lib/python3.7/site-packages (from numcodecs->deeplake) (4.1.1)\n",
      "Requirement already satisfied: entrypoints in /home/ec2-user/anaconda3/envs/amazonei_pytorch_latest_p37/lib/python3.7/site-packages (from numcodecs->deeplake) (0.4)\n",
      "Requirement already satisfied: pox>=0.3.0 in /home/ec2-user/anaconda3/envs/amazonei_pytorch_latest_p37/lib/python3.7/site-packages (from pathos->deeplake) (0.3.0)\n",
      "Requirement already satisfied: dill>=0.3.4 in /home/ec2-user/anaconda3/envs/amazonei_pytorch_latest_p37/lib/python3.7/site-packages (from pathos->deeplake) (0.3.4)\n",
      "Requirement already satisfied: multiprocess>=0.70.12 in /home/ec2-user/anaconda3/envs/amazonei_pytorch_latest_p37/lib/python3.7/site-packages (from pathos->deeplake) (0.70.12.2)\n",
      "Requirement already satisfied: ppft>=1.6.6.4 in /home/ec2-user/anaconda3/envs/amazonei_pytorch_latest_p37/lib/python3.7/site-packages (from pathos->deeplake) (1.6.6.4)\n",
      "Requirement already satisfied: python-dateutil<3.0.0,>=2.1 in /home/ec2-user/anaconda3/envs/amazonei_pytorch_latest_p37/lib/python3.7/site-packages (from botocore<1.30.0,>=1.29.22->boto3->deeplake) (2.8.2)\n",
      "Requirement already satisfied: urllib3<1.27,>=1.25.4 in /home/ec2-user/anaconda3/envs/amazonei_pytorch_latest_p37/lib/python3.7/site-packages (from botocore<1.30.0,>=1.29.22->boto3->deeplake) (1.26.8)\n",
      "Requirement already satisfied: six>=1.7.3 in /home/ec2-user/anaconda3/envs/amazonei_pytorch_latest_p37/lib/python3.7/site-packages (from ppft>=1.6.6.4->pathos->deeplake) (1.16.0)\n",
      "Requirement already satisfied: zipp>=0.5 in /home/ec2-user/anaconda3/envs/amazonei_pytorch_latest_p37/lib/python3.7/site-packages (from importlib-metadata->click->deeplake) (3.7.0)\n",
      "Requirement already satisfied: idna<4,>=2.5 in /home/ec2-user/anaconda3/envs/amazonei_pytorch_latest_p37/lib/python3.7/site-packages (from requests->humbug>=0.2.6->deeplake) (3.3)\n",
      "Requirement already satisfied: charset-normalizer~=2.0.0 in /home/ec2-user/anaconda3/envs/amazonei_pytorch_latest_p37/lib/python3.7/site-packages (from requests->humbug>=0.2.6->deeplake) (2.0.12)\n",
      "Requirement already satisfied: certifi>=2017.4.17 in /home/ec2-user/anaconda3/envs/amazonei_pytorch_latest_p37/lib/python3.7/site-packages (from requests->humbug>=0.2.6->deeplake) (2021.10.8)\n",
      "Building wheels for collected packages: deeplake\n",
      "  Building wheel for deeplake (setup.py) ... \u001b[?25ldone\n",
      "\u001b[?25h  Created wheel for deeplake: filename=deeplake-3.1.3-py3-none-any.whl size=481644 sha256=2b322d7a0580908da75953927d42aaeb89768a0644cb31ba76a6f36094ecb5fc\n",
      "  Stored in directory: /home/ec2-user/.cache/pip/wheels/d1/af/f6/f03661a46f5e33fe3d4beb7210709c07873449f7d7bb8d0449\n",
      "Successfully built deeplake\n",
      "Installing collected packages: pyjwt, numcodecs, humbug, hub, deeplake\n",
      "Successfully installed deeplake-3.1.3 hub-3.0.1 humbug-0.2.7 numcodecs-0.10.2 pyjwt-2.6.0\n",
      "Looking in indexes: https://pypi.org/simple, https://pip.repos.neuron.amazonaws.com\n",
      "Requirement already satisfied: numpy in /home/ec2-user/anaconda3/envs/amazonei_pytorch_latest_p37/lib/python3.7/site-packages (1.21.5)\n",
      "Collecting numpy\n",
      "  Downloading numpy-1.21.6-cp37-cp37m-manylinux_2_12_x86_64.manylinux2010_x86_64.whl (15.7 MB)\n",
      "\u001b[2K     \u001b[90m━━━━━━━━━━━━━━━━━━━━━━━━━━━━━━━━━━━━━━━━\u001b[0m \u001b[32m15.7/15.7 MB\u001b[0m \u001b[31m31.2 MB/s\u001b[0m eta \u001b[36m0:00:00\u001b[0m00:01\u001b[0m00:01\u001b[0m\n",
      "\u001b[?25hInstalling collected packages: numpy\n",
      "  Attempting uninstall: numpy\n",
      "    Found existing installation: numpy 1.21.5\n",
      "    Uninstalling numpy-1.21.5:\n",
      "      Successfully uninstalled numpy-1.21.5\n",
      "Successfully installed numpy-1.21.6\n",
      "Looking in indexes: https://pypi.org/simple, https://pip.repos.neuron.amazonaws.com\n",
      "Collecting timm\n",
      "  Downloading timm-0.6.12-py3-none-any.whl (549 kB)\n",
      "\u001b[2K     \u001b[90m━━━━━━━━━━━━━━━━━━━━━━━━━━━━━━━━━━━━━━━\u001b[0m \u001b[32m549.1/549.1 KB\u001b[0m \u001b[31m6.5 MB/s\u001b[0m eta \u001b[36m0:00:00\u001b[0m00:01\u001b[0m00:01\u001b[0m\n",
      "\u001b[?25hCollecting torch>=1.7\n",
      "  Downloading torch-1.13.0-cp37-cp37m-manylinux1_x86_64.whl (890.2 MB)\n",
      "\u001b[2K     \u001b[90m━━━━━━━━━━━━━━━━━━━━━━━━━━━━━━━━━━━━━━━\u001b[0m \u001b[32m890.2/890.2 MB\u001b[0m \u001b[31m1.3 MB/s\u001b[0m eta \u001b[36m0:00:00\u001b[0m00:01\u001b[0m00:01\u001b[0m\n",
      "\u001b[?25hRequirement already satisfied: huggingface-hub in /home/ec2-user/anaconda3/envs/amazonei_pytorch_latest_p37/lib/python3.7/site-packages (from timm) (0.4.0)\n",
      "Requirement already satisfied: torchvision in /home/ec2-user/anaconda3/envs/amazonei_pytorch_latest_p37/lib/python3.7/site-packages (from timm) (0.6.1)\n",
      "Requirement already satisfied: pyyaml in /home/ec2-user/anaconda3/envs/amazonei_pytorch_latest_p37/lib/python3.7/site-packages (from timm) (5.4.1)\n",
      "Collecting nvidia-cuda-runtime-cu11==11.7.99\n",
      "  Downloading nvidia_cuda_runtime_cu11-11.7.99-py3-none-manylinux1_x86_64.whl (849 kB)\n",
      "\u001b[2K     \u001b[90m━━━━━━━━━━━━━━━━━━━━━━━━━━━━━━━━━━━━━━\u001b[0m \u001b[32m849.3/849.3 KB\u001b[0m \u001b[31m15.6 MB/s\u001b[0m eta \u001b[36m0:00:00\u001b[0m00:01\u001b[0m\n",
      "\u001b[?25hCollecting nvidia-cudnn-cu11==8.5.0.96\n",
      "  Downloading nvidia_cudnn_cu11-8.5.0.96-2-py3-none-manylinux1_x86_64.whl (557.1 MB)\n",
      "\u001b[2K     \u001b[90m━━━━━━━━━━━━━━━━━━━━━━━━━━━━━━━━━━━━━━━\u001b[0m \u001b[32m557.1/557.1 MB\u001b[0m \u001b[31m2.2 MB/s\u001b[0m eta \u001b[36m0:00:00\u001b[0m00:01\u001b[0m00:01\u001b[0m\n",
      "\u001b[?25hRequirement already satisfied: typing-extensions in /home/ec2-user/anaconda3/envs/amazonei_pytorch_latest_p37/lib/python3.7/site-packages (from torch>=1.7->timm) (4.1.1)\n",
      "Collecting nvidia-cublas-cu11==11.10.3.66\n",
      "  Downloading nvidia_cublas_cu11-11.10.3.66-py3-none-manylinux1_x86_64.whl (317.1 MB)\n",
      "\u001b[2K     \u001b[90m━━━━━━━━━━━━━━━━━━━━━━━━━━━━━━━━━━━━━━━\u001b[0m \u001b[32m317.1/317.1 MB\u001b[0m \u001b[31m4.7 MB/s\u001b[0m eta \u001b[36m0:00:00\u001b[0m00:01\u001b[0m00:01\u001b[0m\n",
      "\u001b[?25hCollecting nvidia-cuda-nvrtc-cu11==11.7.99\n",
      "  Downloading nvidia_cuda_nvrtc_cu11-11.7.99-2-py3-none-manylinux1_x86_64.whl (21.0 MB)\n"
     ]
    },
    {
     "name": "stdout",
     "output_type": "stream",
     "text": [
      "\u001b[2K     \u001b[90m━━━━━━━━━━━━━━━━━━━━━━━━━━━━━━━━━━━━━━━━\u001b[0m \u001b[32m21.0/21.0 MB\u001b[0m \u001b[31m22.0 MB/s\u001b[0m eta \u001b[36m0:00:00\u001b[0m00:01\u001b[0m00:01\u001b[0m\n",
      "\u001b[?25hRequirement already satisfied: wheel in /home/ec2-user/anaconda3/envs/amazonei_pytorch_latest_p37/lib/python3.7/site-packages (from nvidia-cublas-cu11==11.10.3.66->torch>=1.7->timm) (0.37.1)\n",
      "Requirement already satisfied: setuptools in /home/ec2-user/anaconda3/envs/amazonei_pytorch_latest_p37/lib/python3.7/site-packages (from nvidia-cublas-cu11==11.10.3.66->torch>=1.7->timm) (60.10.0)\n",
      "Requirement already satisfied: filelock in /home/ec2-user/anaconda3/envs/amazonei_pytorch_latest_p37/lib/python3.7/site-packages (from huggingface-hub->timm) (3.6.0)\n",
      "Requirement already satisfied: tqdm in /home/ec2-user/anaconda3/envs/amazonei_pytorch_latest_p37/lib/python3.7/site-packages (from huggingface-hub->timm) (4.63.0)\n",
      "Requirement already satisfied: requests in /home/ec2-user/anaconda3/envs/amazonei_pytorch_latest_p37/lib/python3.7/site-packages (from huggingface-hub->timm) (2.27.1)\n",
      "Requirement already satisfied: importlib-metadata in /home/ec2-user/anaconda3/envs/amazonei_pytorch_latest_p37/lib/python3.7/site-packages (from huggingface-hub->timm) (4.11.3)\n",
      "Requirement already satisfied: packaging>=20.9 in /home/ec2-user/anaconda3/envs/amazonei_pytorch_latest_p37/lib/python3.7/site-packages (from huggingface-hub->timm) (21.3)\n",
      "Collecting torchvision\n",
      "  Downloading torchvision-0.14.0-cp37-cp37m-manylinux1_x86_64.whl (24.3 MB)\n",
      "\u001b[2K     \u001b[90m━━━━━━━━━━━━━━━━━━━━━━━━━━━━━━━━━━━━━━━━\u001b[0m \u001b[32m24.3/24.3 MB\u001b[0m \u001b[31m18.4 MB/s\u001b[0m eta \u001b[36m0:00:00\u001b[0m00:01\u001b[0m00:01\u001b[0m\n",
      "\u001b[?25hRequirement already satisfied: numpy in /home/ec2-user/anaconda3/envs/amazonei_pytorch_latest_p37/lib/python3.7/site-packages (from torchvision->timm) (1.21.6)\n",
      "Requirement already satisfied: pillow!=8.3.*,>=5.3.0 in /home/ec2-user/anaconda3/envs/amazonei_pytorch_latest_p37/lib/python3.7/site-packages (from torchvision->timm) (9.0.1)\n",
      "Requirement already satisfied: pyparsing!=3.0.5,>=2.0.2 in /home/ec2-user/anaconda3/envs/amazonei_pytorch_latest_p37/lib/python3.7/site-packages (from packaging>=20.9->huggingface-hub->timm) (3.0.7)\n",
      "Requirement already satisfied: zipp>=0.5 in /home/ec2-user/anaconda3/envs/amazonei_pytorch_latest_p37/lib/python3.7/site-packages (from importlib-metadata->huggingface-hub->timm) (3.7.0)\n",
      "Requirement already satisfied: idna<4,>=2.5 in /home/ec2-user/anaconda3/envs/amazonei_pytorch_latest_p37/lib/python3.7/site-packages (from requests->huggingface-hub->timm) (3.3)\n",
      "Requirement already satisfied: charset-normalizer~=2.0.0 in /home/ec2-user/anaconda3/envs/amazonei_pytorch_latest_p37/lib/python3.7/site-packages (from requests->huggingface-hub->timm) (2.0.12)\n",
      "Requirement already satisfied: urllib3<1.27,>=1.21.1 in /home/ec2-user/anaconda3/envs/amazonei_pytorch_latest_p37/lib/python3.7/site-packages (from requests->huggingface-hub->timm) (1.26.8)\n",
      "Requirement already satisfied: certifi>=2017.4.17 in /home/ec2-user/anaconda3/envs/amazonei_pytorch_latest_p37/lib/python3.7/site-packages (from requests->huggingface-hub->timm) (2021.10.8)\n",
      "Installing collected packages: nvidia-cuda-runtime-cu11, nvidia-cuda-nvrtc-cu11, nvidia-cublas-cu11, nvidia-cudnn-cu11, torch, torchvision, timm\n",
      "  Attempting uninstall: torch\n",
      "    Found existing installation: torch 1.5.1\n",
      "    Uninstalling torch-1.5.1:\n",
      "      Successfully uninstalled torch-1.5.1\n",
      "  Attempting uninstall: torchvision\n",
      "    Found existing installation: torchvision 0.6.1\n",
      "    Uninstalling torchvision-0.6.1:\n",
      "      Successfully uninstalled torchvision-0.6.1\n",
      "\u001b[31mERROR: pip's dependency resolver does not currently take into account all the packages that are installed. This behaviour is the source of the following dependency conflicts.\n",
      "torcheia 1.0.0 requires torch==1.5.1, but you have torch 1.13.0 which is incompatible.\u001b[0m\u001b[31m\n",
      "\u001b[0mSuccessfully installed nvidia-cublas-cu11-11.10.3.66 nvidia-cuda-nvrtc-cu11-11.7.99 nvidia-cuda-runtime-cu11-11.7.99 nvidia-cudnn-cu11-8.5.0.96 timm-0.6.12 torch-1.13.0 torchvision-0.14.0\n",
      "Looking in indexes: https://pypi.org/simple, https://pip.repos.neuron.amazonaws.com\n",
      "Collecting einops\n",
      "  Downloading einops-0.6.0-py3-none-any.whl (41 kB)\n",
      "\u001b[2K     \u001b[90m━━━━━━━━━━━━━━━━━━━━━━━━━━━━━━━━━━━━━━━━\u001b[0m \u001b[32m41.6/41.6 KB\u001b[0m \u001b[31m1.8 MB/s\u001b[0m eta \u001b[36m0:00:00\u001b[0m\n",
      "\u001b[?25hInstalling collected packages: einops\n",
      "Successfully installed einops-0.6.0\n",
      "Looking in indexes: https://pypi.org/simple, https://pip.repos.neuron.amazonaws.com\n",
      "Collecting pycocotools\n",
      "  Downloading pycocotools-2.0.6.tar.gz (24 kB)\n",
      "  Installing build dependencies ... \u001b[?25ldone\n",
      "\u001b[?25h  Getting requirements to build wheel ... \u001b[?25ldone\n",
      "\u001b[?25h  Preparing metadata (pyproject.toml) ... \u001b[?25ldone\n",
      "\u001b[?25hRequirement already satisfied: matplotlib>=2.1.0 in /home/ec2-user/anaconda3/envs/amazonei_pytorch_latest_p37/lib/python3.7/site-packages (from pycocotools) (3.5.1)\n",
      "Requirement already satisfied: numpy in /home/ec2-user/anaconda3/envs/amazonei_pytorch_latest_p37/lib/python3.7/site-packages (from pycocotools) (1.21.6)\n",
      "Requirement already satisfied: pyparsing>=2.2.1 in /home/ec2-user/anaconda3/envs/amazonei_pytorch_latest_p37/lib/python3.7/site-packages (from matplotlib>=2.1.0->pycocotools) (3.0.7)\n",
      "Requirement already satisfied: fonttools>=4.22.0 in /home/ec2-user/anaconda3/envs/amazonei_pytorch_latest_p37/lib/python3.7/site-packages (from matplotlib>=2.1.0->pycocotools) (4.31.1)\n",
      "Requirement already satisfied: python-dateutil>=2.7 in /home/ec2-user/anaconda3/envs/amazonei_pytorch_latest_p37/lib/python3.7/site-packages (from matplotlib>=2.1.0->pycocotools) (2.8.2)\n",
      "Requirement already satisfied: cycler>=0.10 in /home/ec2-user/anaconda3/envs/amazonei_pytorch_latest_p37/lib/python3.7/site-packages (from matplotlib>=2.1.0->pycocotools) (0.11.0)\n",
      "Requirement already satisfied: packaging>=20.0 in /home/ec2-user/anaconda3/envs/amazonei_pytorch_latest_p37/lib/python3.7/site-packages (from matplotlib>=2.1.0->pycocotools) (21.3)\n",
      "Requirement already satisfied: pillow>=6.2.0 in /home/ec2-user/anaconda3/envs/amazonei_pytorch_latest_p37/lib/python3.7/site-packages (from matplotlib>=2.1.0->pycocotools) (9.0.1)\n",
      "Requirement already satisfied: kiwisolver>=1.0.1 in /home/ec2-user/anaconda3/envs/amazonei_pytorch_latest_p37/lib/python3.7/site-packages (from matplotlib>=2.1.0->pycocotools) (1.4.0)\n",
      "Requirement already satisfied: typing-extensions in /home/ec2-user/anaconda3/envs/amazonei_pytorch_latest_p37/lib/python3.7/site-packages (from kiwisolver>=1.0.1->matplotlib>=2.1.0->pycocotools) (4.1.1)\n",
      "Requirement already satisfied: six>=1.5 in /home/ec2-user/anaconda3/envs/amazonei_pytorch_latest_p37/lib/python3.7/site-packages (from python-dateutil>=2.7->matplotlib>=2.1.0->pycocotools) (1.16.0)\n",
      "Building wheels for collected packages: pycocotools\n",
      "  Building wheel for pycocotools (pyproject.toml) ... \u001b[?25ldone\n",
      "\u001b[?25h  Created wheel for pycocotools: filename=pycocotools-2.0.6-cp37-cp37m-linux_x86_64.whl size=272420 sha256=b9ddf0bb38eef19de730127baec94308fdc60fe21377275558298636f59cc689\n",
      "  Stored in directory: /home/ec2-user/.cache/pip/wheels/06/f6/f9/9cc49c6de8e3cf27dfddd91bf46595a057141d4583a2adaf03\n",
      "Successfully built pycocotools\n",
      "Installing collected packages: pycocotools\n",
      "Successfully installed pycocotools-2.0.6\n"
     ]
    }
   ],
   "source": [
    "#!pip install torch==1.10.0+cu111 torchvision==0.11.0+cu111 -f https://download.pytorch.org/whl/torch_stable.html\n",
    "!pip install deeplake\n",
    "!pip install --upgrade numpy\n",
    "! pip install timm\n",
    "! pip install einops\n",
    "! pip install pycocotools"
   ]
  },
  {
   "cell_type": "code",
   "execution_count": 2,
   "id": "47e89e5d",
   "metadata": {},
   "outputs": [],
   "source": [
    "#!pip install --upgrade torch torchvision"
   ]
  },
  {
   "cell_type": "code",
   "execution_count": 3,
   "id": "4f606608",
   "metadata": {},
   "outputs": [],
   "source": [
    "#! pip install torchvision==0.14.0"
   ]
  },
  {
   "cell_type": "code",
   "execution_count": 4,
   "id": "3b514f4d",
   "metadata": {},
   "outputs": [
    {
     "data": {
      "text/plain": [
       "'Implementation of New Instance segmentation network motivated by SOLO but much simpler. The idea is that the task\\nfor veg detetion is not that diffucult can we build a network which is much simpler and atleast 10x faster than what is out there\\n'"
      ]
     },
     "execution_count": 4,
     "metadata": {},
     "output_type": "execute_result"
    }
   ],
   "source": [
    "\"\"\"Implementation of New Instance segmentation network motivated by SOLO but much simpler. The idea is that the task\n",
    "for veg detetion is not that diffucult can we build a network which is much simpler and atleast 10x faster than what is out there\n",
    "\"\"\""
   ]
  },
  {
   "cell_type": "code",
   "execution_count": 3,
   "id": "4649bc9c",
   "metadata": {},
   "outputs": [],
   "source": [
    "%load_ext autoreload\n",
    "%autoreload 2"
   ]
  },
  {
   "cell_type": "code",
   "execution_count": 4,
   "id": "330b0a62",
   "metadata": {},
   "outputs": [],
   "source": [
    "import deeplake as hub\n",
    "import numpy.random as random\n",
    "import numpy as np\n",
    "import matplotlib.pyplot as plt\n",
    "import cv2\n",
    "from tqdm import tqdm"
   ]
  },
  {
   "cell_type": "code",
   "execution_count": 5,
   "id": "a4f3e53c",
   "metadata": {},
   "outputs": [],
   "source": [
    "import torch"
   ]
  },
  {
   "cell_type": "code",
   "execution_count": 6,
   "id": "dc35b862",
   "metadata": {},
   "outputs": [],
   "source": [
    "import torchvision"
   ]
  },
  {
   "cell_type": "code",
   "execution_count": 7,
   "id": "d90c537a",
   "metadata": {},
   "outputs": [
    {
     "data": {
      "text/plain": [
       "('1.13.0+cu117', '0.14.0+cu117')"
      ]
     },
     "execution_count": 7,
     "metadata": {},
     "output_type": "execute_result"
    }
   ],
   "source": [
    "torch.__version__,torchvision.__version__"
   ]
  },
  {
   "cell_type": "code",
   "execution_count": 8,
   "id": "8938a878",
   "metadata": {},
   "outputs": [],
   "source": [
    "from torchvision.ops import sigmoid_focal_loss\n",
    "from torchvision.ops import generalized_box_iou_loss"
   ]
  },
  {
   "cell_type": "code",
   "execution_count": 9,
   "id": "8611efee",
   "metadata": {},
   "outputs": [],
   "source": [
    "src=\"hub://aismail2/cucumber_OD\"\n",
    "#src=\"hub://aismail2/pepper_Scalecam_OD\""
   ]
  },
  {
   "cell_type": "code",
   "execution_count": 11,
   "id": "f97bbba0",
   "metadata": {},
   "outputs": [
    {
     "name": "stdout",
     "output_type": "stream",
     "text": [
      "hub://aismail2/cucumber_OD loaded successfully.\n",
      "This dataset can be visualized in Jupyter Notebook by ds.visualize() or at https://app.activeloop.ai/aismail2/cucumber_OD\n"
     ]
    }
   ],
   "source": [
    "ds = hub.load(src)"
   ]
  },
  {
   "cell_type": "code",
   "execution_count": 12,
   "id": "64fb51bd",
   "metadata": {},
   "outputs": [
    {
     "data": {
      "text/plain": [
       "295"
      ]
     },
     "execution_count": 12,
     "metadata": {},
     "output_type": "execute_result"
    }
   ],
   "source": [
    "len(ds)"
   ]
  },
  {
   "cell_type": "code",
   "execution_count": 13,
   "id": "968aea00",
   "metadata": {},
   "outputs": [
    {
     "name": "stdout",
     "output_type": "stream",
     "text": [
      "(1536, 2048, 2)\n"
     ]
    },
    {
     "data": {
      "text/plain": [
       "<matplotlib.image.AxesImage at 0x7fe0b15ea990>"
      ]
     },
     "execution_count": 13,
     "metadata": {},
     "output_type": "execute_result"
    },
    {
     "data": {
      "image/png": "[encoded data removed]",
      "text/plain": [
       "<Figure size 432x288 with 1 Axes>"
      ]
     },
     "metadata": {
      "needs_background": "light"
     },
     "output_type": "display_data"
    }
   ],
   "source": [
    "i=220\n",
    "image=ds.images[i].numpy()\n",
    "masks=ds.masks[i].numpy().astype(np.uint8)*255\n",
    "print(masks.shape)\n",
    "all_cnts=[]\n",
    "for j in range(masks.shape[-1]):\n",
    "    randcolor=[np.random.randint(0,255) for _ in range(3)]\n",
    "    image[np.where(masks[...,j]!=0)]=randcolor\n",
    "plt.imshow(image)"
   ]
  },
  {
   "cell_type": "code",
   "execution_count": 14,
   "id": "90e16882",
   "metadata": {},
   "outputs": [],
   "source": [
    "## For solo we need to find the centroid of objects"
   ]
  },
  {
   "cell_type": "code",
   "execution_count": 18,
   "id": "a21ff3b4",
   "metadata": {},
   "outputs": [],
   "source": [
    "\"\"\"Fixed Mask if centroid is not in the middle go to left to find one valid point\"\"\"\n",
    "def fixed_points(x,y,mask):\n",
    "    h,w=mask.shape\n",
    "    while x<w and mask[y][x]==0:\n",
    "        x+=1\n",
    "    return (y,x)"
   ]
  },
  {
   "cell_type": "code",
   "execution_count": 19,
   "id": "1e1f3c0d",
   "metadata": {},
   "outputs": [],
   "source": [
    "def get_quantized_center(x,y,mask,dst_size=24,p_sofar=None):\n",
    "    h,w=mask.shape\n",
    "    cy=y*(dst_size/h)\n",
    "    cx=x*(dst_size/w) \n",
    "    # Quantized centers\n",
    "    cyq=int(cy)\n",
    "    cxq=int(cx)\n",
    "    # Offsets of centers\n",
    "    offy=cy-cyq\n",
    "    offx=cx-cxq\n",
    "    if (cyq,cxq) in p_sofar:\n",
    "        assert False\n",
    "    p_sofar.add((cyq,cxq))\n",
    "    return cyq,cxq,offy,offx,p_sofar"
   ]
  },
  {
   "cell_type": "code",
   "execution_count": 20,
   "id": "5e1e7945",
   "metadata": {},
   "outputs": [],
   "source": [
    "def find_center(mask):\n",
    "    (ys,xs)=np.nonzero(mask)\n",
    "    points=list(zip(xs,ys))\n",
    "    h,w=mask.shape\n",
    "    assert max(ys)<h and max(xs)<w\n",
    "    #horizontal cucumber\n",
    "    midx=None\n",
    "    midy=None\n",
    "    if abs(max(ys)-min(ys))<abs(max(xs)-min(xs)):\n",
    "        xs=sorted(xs)\n",
    "        midx=xs[len(xs)//2]\n",
    "        yrel=[y for  x,y in points if x==midx]\n",
    "        yrel=sorted(yrel)\n",
    "        midy=yrel[len(yrel)//2]\n",
    "    else:\n",
    "        ys=sorted(ys)\n",
    "        midy=ys[len(ys)//2]\n",
    "        xrel=[x for  x,y in points if y==midy]\n",
    "        xrel=sorted(xrel)\n",
    "        midx=xrel[len(xrel)//2]\n",
    "    return (midy,midx)    "
   ]
  },
  {
   "cell_type": "code",
   "execution_count": 21,
   "id": "73287761",
   "metadata": {},
   "outputs": [],
   "source": [
    "def find_center_cv(mask):\n",
    "    contours, hierarchy = cv2.findContours(mask,cv2.RETR_EXTERNAL,cv2.CHAIN_APPROX_SIMPLE)\n",
    "    h,w=mask.shape\n",
    "    c = max(contours, key = cv2.contourArea)\n",
    "    M = cv2.moments(c)\n",
    "    #calculate x,y coordinate of center\n",
    "    cX = int(M[\"m10\"] / M[\"m00\"])\n",
    "    cY = int(M[\"m01\"] / M[\"m00\"])\n",
    "    return (cY,cX)"
   ]
  },
  {
   "cell_type": "code",
   "execution_count": 22,
   "id": "ee38005e",
   "metadata": {},
   "outputs": [],
   "source": [
    "## Pytorch Dataloader"
   ]
  },
  {
   "cell_type": "code",
   "execution_count": 23,
   "id": "b4f6feef",
   "metadata": {},
   "outputs": [],
   "source": [
    "from torchvision.transforms import Compose, Resize,Normalize,Lambda\n",
    "import torch"
   ]
  },
  {
   "cell_type": "code",
   "execution_count": 24,
   "id": "5a4d0d96",
   "metadata": {},
   "outputs": [],
   "source": [
    "mean=torch.tensor([0.4850, 0.4560, 0.4060])\n",
    "std=torch.tensor([0.2290, 0.2240, 0.2250])"
   ]
  },
  {
   "cell_type": "code",
   "execution_count": 25,
   "id": "231e6c35",
   "metadata": {},
   "outputs": [],
   "source": [
    "transform = Compose([\n",
    "            Lambda(lambda t: t.permute(2, 0, 1)), # HWC to CHW\n",
    "            Normalize(mean, std)\n",
    "])"
   ]
  },
  {
   "cell_type": "code",
   "execution_count": 26,
   "id": "a3f07374",
   "metadata": {},
   "outputs": [],
   "source": [
    "postprocess = Compose([\n",
    "     Lambda(lambda t: (t.cpu() * std.reshape(3,1,1))+mean.reshape(3,1,1)),\n",
    "     Lambda(lambda t: t.permute(1, 2, 0)), # CHW to HWC\n",
    "     Lambda(lambda t: t * 255.),\n",
    "     Lambda(lambda t: t.cpu().numpy().astype(np.uint8)),\n",
    "])"
   ]
  },
  {
   "cell_type": "code",
   "execution_count": 27,
   "id": "004290e1",
   "metadata": {},
   "outputs": [],
   "source": [
    "import torch.utils.data as data\n",
    "import torch\n",
    "class DataLoader(data.Dataset):\n",
    "    def __init__(self,ds,img_sz=512,grid_sz=64,seg_sz=64,data=None):\n",
    "        super(DataLoader, self).__init__()\n",
    "        self.img_sz=img_sz\n",
    "        self.grid_sz=grid_sz\n",
    "        self.seg_sz=seg_sz\n",
    "        self.imgs=[]\n",
    "        self.label_pts=[]\n",
    "        self.label_off=[]\n",
    "        self.label_masks=[]\n",
    "        self.label_boxes=[]\n",
    "        self.getData(ds)\n",
    "        \n",
    "    def getData(self,ds):\n",
    "        for i,d in tqdm(enumerate(ds)):\n",
    "            image=d.images.numpy()\n",
    "            image=cv2.resize(image,(self.img_sz,self.img_sz))\n",
    "            masks=d.masks.numpy().astype(np.uint8)*255\n",
    "            img_cs=set(())\n",
    "            mod_masks=[]\n",
    "            mod_boxes=[]\n",
    "            mod_centers=[]\n",
    "            mod_offsets=[]\n",
    "            grid=np.zeros((self.grid_sz,self.grid_sz),dtype=np.uint8)\n",
    "            for j in range(masks.shape[-1]):\n",
    "                mask=masks[...,j]\n",
    "                mask=cv2.resize(mask,(self.img_sz,self.img_sz),cv2.INTER_NEAREST)\n",
    "                cY,cX=find_center(mask)\n",
    "                if not mask[cY][cX]:\n",
    "                    cY,cX=fixed_points(cX,cY,mask)\n",
    "                cY,cX,offy,offx,img_cs=get_quantized_center(cX,cY,mask,dst_size=self.grid_sz,p_sofar=img_cs)\n",
    "                mod_centers.append([cY,cX])\n",
    "                mod_offsets.append([offy,offx])\n",
    "                nzeros=np.nonzero(mask)\n",
    "                ys=nzeros[0]\n",
    "                xs=nzeros[1]\n",
    "                ymin=min(ys)\n",
    "                ymax=max(ys)\n",
    "                xmin=min(xs)\n",
    "                xmax=max(xs)\n",
    "                croped_mask = mask[ymin : ymax , xmin: xmax]\n",
    "                ## resize masks to eventual size of masks to be predicted\n",
    "                croped_mask=cv2.resize(croped_mask,(self.seg_sz,self.seg_sz),cv2.INTER_NEAREST)\n",
    "                mod_masks.append(croped_mask)            \n",
    "                mod_boxes.append([xmin,ymin,xmax,ymax])\n",
    "                # Considering only one calss can add dict with value corresponding to class for multiclass\n",
    "            self.label_pts.append(mod_centers)\n",
    "            self.label_off.append(mod_offsets)\n",
    "            self.imgs.append(image)\n",
    "            self.label_masks.append(mod_masks)\n",
    "            self.label_boxes.append(mod_boxes)\n",
    "        \n",
    "    def __getitem__(self, index):\n",
    "        \n",
    "        tgt_img = self.imgs[index]\n",
    "        pts = self.label_pts[index]\n",
    "        offs= self.label_off[index]\n",
    "        masks = self.label_masks[index]\n",
    "        boxes = self.label_boxes[index]\n",
    "        tgt_masks=np.zeros((self.grid_sz*self.grid_sz,self.seg_sz,self.seg_sz),dtype=np.uint8)\n",
    "        tgt_label=np.zeros((self.grid_sz,self.grid_sz),dtype=np.uint8)\n",
    "        tgt_boxes=np.zeros((self.grid_sz,self.grid_sz,4),dtype=np.float32)\n",
    "        for i,pt in enumerate(pts):\n",
    "            #first point is y second is x\n",
    "            tgt_label[pt[0]][pt[1]]=1\n",
    "            idx=pt[0]*self.grid_sz+pt[1]\n",
    "            tgt_masks[idx]= masks[i]//255\n",
    "            for j in range(4):\n",
    "                tgt_boxes[pt[0]][pt[1]][j]= boxes[i][j]\n",
    "        data={}\n",
    "        data[\"img\"]=transform((torch.from_numpy(tgt_img).float()/255))\n",
    "        data[\"pts\"]=torch.tensor(pts)\n",
    "        data[\"offs\"]=torch.tensor(offs).float()\n",
    "        data[\"center\"]=torch.from_numpy(tgt_label).float()\n",
    "        data[\"bboxs\"]=torch.from_numpy(tgt_boxes).float()\n",
    "        data[\"msks\"]=torch.from_numpy(tgt_masks).float()   \n",
    "        return data\n",
    "    \n",
    "    def __len__(self):\n",
    "        return len(ds)"
   ]
  },
  {
   "cell_type": "code",
   "execution_count": 28,
   "id": "782f45ff",
   "metadata": {},
   "outputs": [
    {
     "name": "stderr",
     "output_type": "stream",
     "text": [
      "295it [00:29,  9.91it/s]\n"
     ]
    }
   ],
   "source": [
    "data=DataLoader(ds=ds)"
   ]
  },
  {
   "cell_type": "code",
   "execution_count": 29,
   "id": "12635b8d",
   "metadata": {},
   "outputs": [],
   "source": [
    "assert len(data.label_pts)==len(data.imgs)"
   ]
  },
  {
   "cell_type": "code",
   "execution_count": 30,
   "id": "fbf3a495",
   "metadata": {},
   "outputs": [],
   "source": [
    "#data.label_pts[251]"
   ]
  },
  {
   "cell_type": "code",
   "execution_count": 31,
   "id": "39b5d11b",
   "metadata": {},
   "outputs": [
    {
     "data": {
      "text/plain": [
       "(torch.Size([3, 512, 512]),\n",
       " torch.Size([3, 2]),\n",
       " torch.Size([3, 2]),\n",
       " torch.Size([64, 64]),\n",
       " torch.Size([64, 64, 4]),\n",
       " torch.Size([4096, 64, 64]))"
      ]
     },
     "execution_count": 31,
     "metadata": {},
     "output_type": "execute_result"
    }
   ],
   "source": [
    "d=data[219]\n",
    "img=d[\"img\"]\n",
    "pts=d[\"pts\"]\n",
    "offs=d[\"offs\"]\n",
    "boxes=d[\"bboxs\"]\n",
    "lbl=d[\"center\"]\n",
    "msks=d[\"msks\"]\n",
    "img.shape,pts.shape,offs.shape,lbl.shape,boxes.shape,msks.shape"
   ]
  },
  {
   "cell_type": "code",
   "execution_count": 32,
   "id": "d87acf00",
   "metadata": {},
   "outputs": [
    {
     "data": {
      "text/plain": [
       "(tensor(-2.1179),\n",
       " tensor(1.4307),\n",
       " tensor(0.),\n",
       " tensor(1.),\n",
       " tensor(46),\n",
       " tensor(17),\n",
       " tensor(0.),\n",
       " tensor(0.6250),\n",
       " tensor(0.),\n",
       " tensor(423.))"
      ]
     },
     "execution_count": 32,
     "metadata": {},
     "output_type": "execute_result"
    }
   ],
   "source": [
    "img.min(),img.max(), lbl.min(),lbl.max(),pts.max(),pts.min(),offs.min(),offs.max(),boxes.min(),boxes.max()"
   ]
  },
  {
   "cell_type": "code",
   "execution_count": 33,
   "id": "03b81ff3",
   "metadata": {},
   "outputs": [
    {
     "data": {
      "text/plain": [
       "<matplotlib.image.AxesImage at 0x7fe0a8169e10>"
      ]
     },
     "execution_count": 33,
     "metadata": {},
     "output_type": "execute_result"
    },
    {
     "data": {
      "image/png": "[encoded data removed]",
      "text/plain": [
       "<Figure size 432x288 with 1 Axes>"
      ]
     },
     "metadata": {
      "needs_background": "light"
     },
     "output_type": "display_data"
    }
   ],
   "source": [
    "vis_img=postprocess(img)\n",
    "plt.imshow(vis_img)"
   ]
  },
  {
   "cell_type": "code",
   "execution_count": 34,
   "id": "c0129ada",
   "metadata": {},
   "outputs": [
    {
     "data": {
      "text/plain": [
       "<matplotlib.image.AxesImage at 0x7fe0aa4ec1d0>"
      ]
     },
     "execution_count": 34,
     "metadata": {},
     "output_type": "execute_result"
    },
    {
     "data": {
      "image/png": "[encoded data removed]",
      "text/plain": [
       "<Figure size 432x288 with 1 Axes>"
      ]
     },
     "metadata": {
      "needs_background": "light"
     },
     "output_type": "display_data"
    }
   ],
   "source": [
    "plt.imshow(lbl.numpy().astype(np.uint8))"
   ]
  },
  {
   "cell_type": "code",
   "execution_count": 35,
   "id": "beaa7f08",
   "metadata": {},
   "outputs": [],
   "source": [
    "for idx in range(len(pts)):\n",
    "    box=boxes[pts[idx][0],pts[idx][1]]\n",
    "    cv2.rectangle(vis_img, (box[0],box[1]), (box[2],box[3]), (255,0,0), 5)"
   ]
  },
  {
   "cell_type": "code",
   "execution_count": 36,
   "id": "697c2cdd",
   "metadata": {},
   "outputs": [
    {
     "data": {
      "text/plain": [
       "<matplotlib.image.AxesImage at 0x7fe0a0273d50>"
      ]
     },
     "execution_count": 36,
     "metadata": {},
     "output_type": "execute_result"
    },
    {
     "data": {
      "image/png": "[encoded data removed]",
      "text/plain": [
       "<Figure size 432x288 with 1 Axes>"
      ]
     },
     "metadata": {
      "needs_background": "light"
     },
     "output_type": "display_data"
    }
   ],
   "source": [
    "plt.imshow(vis_img)"
   ]
  },
  {
   "cell_type": "code",
   "execution_count": 37,
   "id": "1885b39e",
   "metadata": {},
   "outputs": [
    {
     "data": {
      "image/png": "[encoded data removed]",
      "text/plain": [
       "<Figure size 432x288 with 1 Axes>"
      ]
     },
     "metadata": {
      "needs_background": "light"
     },
     "output_type": "display_data"
    },
    {
     "data": {
      "image/png": "[encoded data removed]",
      "text/plain": [
       "<Figure size 432x288 with 1 Axes>"
      ]
     },
     "metadata": {
      "needs_background": "light"
     },
     "output_type": "display_data"
    },
    {
     "data": {
      "image/png": "[encoded data removed]",
      "text/plain": [
       "<Figure size 432x288 with 1 Axes>"
      ]
     },
     "metadata": {
      "needs_background": "light"
     },
     "output_type": "display_data"
    }
   ],
   "source": [
    "for idx in range(len(pts)):\n",
    "    msk=msks[pts[idx][0]*64+pts[idx][1]]\n",
    "    msk=msk.numpy()\n",
    "    plt.figure(idx+1)\n",
    "    plt.imshow(msk)"
   ]
  },
  {
   "cell_type": "code",
   "execution_count": 36,
   "id": "bb544800",
   "metadata": {},
   "outputs": [],
   "source": [
    "### Build effective but simple model"
   ]
  },
  {
   "cell_type": "code",
   "execution_count": 37,
   "id": "24b11325",
   "metadata": {},
   "outputs": [],
   "source": [
    "## Load dataloader"
   ]
  },
  {
   "cell_type": "code",
   "execution_count": 38,
   "id": "79428484",
   "metadata": {},
   "outputs": [],
   "source": [
    "BATCH_SIZE=16"
   ]
  },
  {
   "cell_type": "code",
   "execution_count": 39,
   "id": "9489298c",
   "metadata": {},
   "outputs": [],
   "source": [
    "def collate_batch(batch):\n",
    "    inputs={}\n",
    "    for k in batch[0].keys():\n",
    "        inps=[item[k] for item in batch]\n",
    "        if k!=\"pts\" and k!=\"offs\":\n",
    "            inps=torch.stack(inps)\n",
    "        inputs[k]=inps\n",
    "    return inputs"
   ]
  },
  {
   "cell_type": "code",
   "execution_count": 40,
   "id": "c14c6127",
   "metadata": {},
   "outputs": [],
   "source": [
    "from torch.utils.data import DataLoader\n",
    "data_loader = DataLoader(dataset=data, batch_size=BATCH_SIZE,num_workers=4,collate_fn=collate_batch,shuffle=True)"
   ]
  },
  {
   "cell_type": "code",
   "execution_count": 41,
   "id": "9d14c3d1",
   "metadata": {},
   "outputs": [
    {
     "name": "stdout",
     "output_type": "stream",
     "text": [
      "dict_keys(['img', 'pts', 'offs', 'center', 'bboxs', 'msks'])\n",
      "torch.Size([16, 3, 512, 512])\n",
      "torch.Size([16, 64, 64])\n",
      "torch.Size([16, 64, 64, 4])\n",
      "torch.Size([16, 4096, 64, 64])\n",
      "[tensor([[33, 41],\n",
      "        [31, 52]]), tensor([[33, 41],\n",
      "        [34, 53]]), tensor([[33, 19],\n",
      "        [31, 29],\n",
      "        [33, 36],\n",
      "        [29, 47]]), tensor([[27, 23]]), tensor([[31, 33]]), tensor([[33, 44]]), tensor([[11, 32],\n",
      "        [28, 33],\n",
      "        [47, 35]]), tensor([[30, 25],\n",
      "        [33, 34],\n",
      "        [32, 42]]), tensor([[29, 24],\n",
      "        [38, 30],\n",
      "        [32, 33],\n",
      "        [31, 42],\n",
      "        [42, 45],\n",
      "        [33, 50],\n",
      "        [24, 53]]), tensor([[37, 28],\n",
      "        [25, 38]]), tensor([[30, 25],\n",
      "        [31, 17]]), tensor([[27, 18]]), tensor([[31, 50]]), tensor([[34, 14]]), tensor([[32, 19]]), tensor([[34, 46]])]\n"
     ]
    }
   ],
   "source": [
    "for batch in data_loader:\n",
    "    print(batch.keys())\n",
    "    print(batch[\"img\"].shape)\n",
    "    print(batch[\"center\"].shape)\n",
    "    print(batch[\"bboxs\"].shape)\n",
    "    print(batch[\"msks\"].shape)\n",
    "    gt_center=batch[\"pts\"]\n",
    "    print(gt_center)\n",
    "    #print(batch[0].shape,len(batch[1]),len(batch[2]),batch[3].shape,batch[4].shape,batch[5].shape)\n",
    "    break"
   ]
  },
  {
   "cell_type": "code",
   "execution_count": 38,
   "id": "97638ea6",
   "metadata": {},
   "outputs": [],
   "source": [
    "import timm\n",
    "#timm.list_models('resnet*', pretrained=True)"
   ]
  },
  {
   "cell_type": "code",
   "execution_count": 39,
   "id": "2998d581",
   "metadata": {},
   "outputs": [],
   "source": [
    "from einops import  repeat"
   ]
  },
  {
   "cell_type": "code",
   "execution_count": 40,
   "id": "3ccf1082",
   "metadata": {},
   "outputs": [],
   "source": [
    "def min_max_norm(x,a,b):\n",
    "    min_x=x.min()\n",
    "    max_x=x.max()\n",
    "    return a+((x-min_x)*(b-a)/(max_x-min_x))"
   ]
  },
  {
   "cell_type": "code",
   "execution_count": 41,
   "id": "a6d6926d",
   "metadata": {},
   "outputs": [],
   "source": [
    "import torch.nn.functional as F\n",
    "import torch.nn as nn"
   ]
  },
  {
   "cell_type": "code",
   "execution_count": 42,
   "id": "e19db398",
   "metadata": {},
   "outputs": [],
   "source": [
    "def Upsample(dim):\n",
    "    return nn.ConvTranspose2d(dim, dim, 4, 2, 1)"
   ]
  },
  {
   "cell_type": "code",
   "execution_count": 43,
   "id": "ed925f44",
   "metadata": {},
   "outputs": [],
   "source": [
    "def decode_boxes(cx,cy,pred_szs,pred_offs,stride):\n",
    "    cx = (cx+pred_offs[:,0]) * stride \n",
    "    cy = (cy+pred_offs[:,1]) * stride\n",
    "    pred_szs*=stride\n",
    "    x_min = cx - (pred_szs[:,0])\n",
    "    y_min = cy - (pred_szs[:,1])\n",
    "    x_max = cx + (pred_szs[:,2])\n",
    "    y_max = cy + (pred_szs[:,3])\n",
    "    result= torch.stack([x_min, y_min, x_max, y_max], axis=-1)\n",
    "    return result.float()"
   ]
  },
  {
   "cell_type": "code",
   "execution_count": 44,
   "id": "53945984",
   "metadata": {},
   "outputs": [],
   "source": [
    "def process_preds(preds,grid_sz=64,cat_th=0.4): \n",
    "    pred_cats=preds[\"center\"].cpu()\n",
    "    pred_cats=pred_cats.squeeze(0).sigmoid()\n",
    "    pred_cats[pred_cats<cat_th]=0   \n",
    "    nzidx=torch.nonzero(pred_cats)\n",
    "    bidx=nzidx[:,0]    \n",
    "    idx=nzidx[:,1]\n",
    "    jdx=nzidx[:,2]\n",
    "    mskidx=nzidx[:,1]*grid_sz+nzidx[:,2]\n",
    "    ## Select boxes\n",
    "    pred_boxes=preds[\"boxes\"].cpu()\n",
    "    pred_offs=preds[\"offs\"].cpu()\n",
    "    pred_boxes=pred_boxes[bidx,idx,jdx,:].detach().numpy()\n",
    "    pred_offs=pred_offs[bidx,idx,jdx,:].detach().numpy()\n",
    "    pred_boxes=decode_boxes(jdx,idx,pred_boxes,pred_offs,8.0)\n",
    "    scores=pred_cats[bidx,idx,jdx]\n",
    "    labels=torch.ones_like(scores).to(torch.long) \n",
    "    preds={\"centers\":pred_cats,\"boxes\":pred_boxes,\"scores\":scores,\"labels\":labels}\n",
    "    return preds"
   ]
  },
  {
   "cell_type": "code",
   "execution_count": 45,
   "id": "140defd0",
   "metadata": {},
   "outputs": [],
   "source": [
    "#boxes.exp()"
   ]
  },
  {
   "cell_type": "code",
   "execution_count": 46,
   "id": "8e0fd6f3",
   "metadata": {},
   "outputs": [],
   "source": [
    "def prepare_data(gts,preds,stride=8,device=\"cpu\"):    \n",
    "    gt_pts=gts[\"pts\"]\n",
    "    gt_offs=gts[\"offs\"]\n",
    "    gt_boxes=gts[\"bboxs\"]\n",
    "    gt_msks=gts[\"msks\"]\n",
    "    gt_centers=gts[\"center\"]\n",
    "    \n",
    "    pred_offs=preds[\"offs\"]\n",
    "    pred_szs=preds[\"boxes\"]\n",
    "    \n",
    "    fil_gt_box=[]\n",
    "    fil_tgt_box=[] # For keeping the processed distance from centers\n",
    "    fil_gt_msks=[]\n",
    "    fil_gt_cts=[]\n",
    "    fil_gt_offs=[]\n",
    "    \n",
    "    fil_pred_szs=[]\n",
    "    fil_pred_offs=[]\n",
    "    \n",
    "    for i,pts in enumerate(gt_pts):\n",
    "        fil_gt_box.append(gt_boxes[i,pts[:,0],pts[:,1]])\n",
    "        fil_pred_szs.append(pred_szs[i,pts[:,0],pts[:,1]])\n",
    "        \n",
    "        mskidx=pts[:,0]*64+pts[:,1]      \n",
    "        fil_gt_msks.append(gt_msks[i,mskidx])\n",
    "        #fil_pred_msks.append(pred_msks[i,mskidx])\n",
    "        \n",
    "        # convert y,x to x,y\n",
    "        fil_gt_offs.append(torch.fliplr(gt_offs[i]))\n",
    "        fil_pred_offs.append(pred_offs[i,pts[:,0],pts[:,1]])\n",
    "        \n",
    "        ## convert y,x to x,y for box adjustments \n",
    "        fil_gt_cts.append(torch.fliplr(pts))\n",
    "        \n",
    "        pboxesmin=(fil_gt_cts[-1]+fil_gt_offs[-1])-(fil_gt_box[-1][...,:2]/stride)\n",
    "        pboxesmax=(fil_gt_box[-1][...,2:]/stride)-(fil_gt_cts[-1]+fil_gt_offs[-1])\n",
    "        \n",
    "        pboxes=torch.hstack((pboxesmin,pboxesmax))\n",
    "        #if torch.any(pboxes<0):\n",
    "        #    raise(\"Negative boxes!!\")\n",
    "        fil_tgt_box.append(pboxes)\n",
    "\n",
    "    #tgt_box=torch.concatenate(fil_gt_box).to(device)\n",
    "    tgt_box=torch.concatenate(fil_tgt_box).to(device)\n",
    "    tgt_msks=torch.concatenate(fil_gt_msks).to(device)\n",
    "    \n",
    "    pred_szs=torch.concatenate(fil_pred_szs).to(device)\n",
    "    pred_offs=torch.concatenate(fil_pred_offs).to(device)\n",
    "    \n",
    "    #fil_gt_cts=torch.concatenate(fil_gt_cts).cuda()\n",
    "    tgt_offs=torch.concatenate(fil_gt_offs).to(device)\n",
    "    \n",
    "    return pred_szs,tgt_box,pred_offs,tgt_offs,tgt_msks,fil_gt_box"
   ]
  },
  {
   "cell_type": "code",
   "execution_count": 47,
   "id": "296c3893",
   "metadata": {},
   "outputs": [],
   "source": [
    "def calc_loss(gts,preds,device=\"cuda\"):\n",
    "    #n_positive= torch.sum(gt_cats>0) \n",
    "    #print(n_positive)\n",
    "    \n",
    "    pred_szs,tgt_szs,pred_offs,tgt_offs,tgt_msks,boxlist=prepare_data(gts,preds,stride=8.0,device=device)\n",
    "    #pred_offs,tgt_offs=get_processed_boxes(centers,offsets,gt_boxes,pred_boxes,pred_offsets)\n",
    "    \n",
    "    box_loss1=F.l1_loss(pred_szs,tgt_szs,reduction=\"mean\")\n",
    "    box_loss2=F.mse_loss(pred_szs,tgt_szs,reduction=\"mean\")\n",
    "    box_loss=box_loss1+box_loss2\n",
    "    \n",
    "    off_loss=F.l1_loss(pred_offs,tgt_offs,reduction=\"mean\")\n",
    "    \n",
    "    gt_cats=gts[\"center\"]\n",
    "    pred_cats=preds[\"center\"]\n",
    "    ## Centerness Focal Loss\n",
    "    gt_cats=gt_cats.unsqueeze(1)\n",
    "    cat_loss=sigmoid_focal_loss(pred_cats,gt_cats,reduction=\"mean\")\n",
    "    cat_loss=cat_loss\n",
    "\n",
    "    return {\"cat_loss\":cat_loss,\"box_loss\":box_loss,\"off_loss\":off_loss},tgt_msks,boxlist"
   ]
  },
  {
   "cell_type": "code",
   "execution_count": 48,
   "id": "6c5f0edd",
   "metadata": {},
   "outputs": [],
   "source": [
    "from torchvision.ops import roi_align"
   ]
  },
  {
   "cell_type": "code",
   "execution_count": 49,
   "id": "e0781df3",
   "metadata": {},
   "outputs": [],
   "source": [
    "class BinaryDiceLoss(nn.Module):\n",
    "    \"\"\"Dice loss of binary class\n",
    "    Args:\n",
    "        smooth: A float number to smooth loss, and avoid NaN error, default: 1\n",
    "        p: Denominator value: \\sum{x^p} + \\sum{y^p}, default: 2\n",
    "        predict: A tensor of shape [N, *]\n",
    "        target: A tensor of shape same with predict\n",
    "        reduction: Reduction method to apply, return mean over batch if 'mean',\n",
    "            return sum if 'sum', return a tensor of shape [N,] if 'none'\n",
    "    Returns:\n",
    "        Loss tensor according to arg reduction\n",
    "    Raise:\n",
    "        Exception if unexpected reduction\n",
    "    \"\"\"\n",
    "    def __init__(self, smooth=1, p=2, reduction='mean'):\n",
    "        super(BinaryDiceLoss, self).__init__()\n",
    "        self.smooth = smooth\n",
    "        self.p = p\n",
    "        self.reduction = reduction\n",
    "\n",
    "    def forward(self, predict, target):\n",
    "        assert predict.shape[0] == target.shape[0], \"predict & target batch size don't match\"\n",
    "        predict = predict.contiguous().view(predict.shape[0], -1)\n",
    "        target = target.contiguous().view(target.shape[0], -1)\n",
    "\n",
    "        num = torch.sum(torch.mul(predict, target), dim=1) + self.smooth\n",
    "        den = torch.sum(predict.pow(self.p) + target.pow(self.p), dim=1) + self.smooth\n",
    "\n",
    "        loss = 1 - num / den\n",
    "\n",
    "        if self.reduction == 'mean':\n",
    "            return loss.mean()\n",
    "        elif self.reduction == 'sum':\n",
    "            return loss.sum()\n",
    "        elif self.reduction == 'none':\n",
    "            return loss\n",
    "        else:\n",
    "            raise Exception('Unexpected reduction {}'.format(self.reduction))"
   ]
  },
  {
   "cell_type": "code",
   "execution_count": 50,
   "id": "a3db4850",
   "metadata": {},
   "outputs": [],
   "source": [
    "def posEncoding(x):\n",
    "    b=x.shape[0]\n",
    "    xpos=torch.arange(x.shape[-1]).to(x)\n",
    "    xpos=repeat(xpos, 'i -> i newaxis', newaxis=x.shape[-1])\n",
    "    xpos=min_max_norm(xpos,-1,1).reshape(1,x.shape[-1],x.shape[-1])\n",
    "\n",
    "    ypos=torch.arange(x.shape[-2]).to(x)\n",
    "    ypos=repeat(ypos, 'i -> newaxis i', newaxis=x.shape[-2])\n",
    "    ypos=min_max_norm(ypos,-1,1).reshape(1,x.shape[-2],x.shape[-2])\n",
    "\n",
    "    xpos=repeat(xpos,'i j k -> b i j k',b=b)\n",
    "    ypos=repeat(ypos,'i j k -> b i j k',b=b)\n",
    "    ## Append \n",
    "    x=torch.cat([x,xpos,ypos],axis=1)\n",
    "    return x"
   ]
  },
  {
   "cell_type": "code",
   "execution_count": 51,
   "id": "221e1dcd",
   "metadata": {},
   "outputs": [],
   "source": [
    "class FCOS(nn.Module):\n",
    "    def __init__(self,grid_sz=32) -> None:\n",
    "        super(FCOS, self).__init__()\n",
    "        self.grid_sz=grid_sz\n",
    "        self.backbone=timm.create_model('resnet18', pretrained=True, in_chans=3,num_classes=0, global_pool='',output_stride=8)\n",
    "        #bb_channel=self.backbone.layer4[1].conv3.out_channels\n",
    "        bb_channel=self.backbone.layer4[1].conv2.out_channels\n",
    "        ## Classification Head\n",
    "        self.class_head=nn.Sequential(nn.Conv2d(bb_channel+2, 256, kernel_size=3,padding=1),nn.ReLU())\n",
    "        for i in range(5):\n",
    "            self.class_head.add_module(f\"conv_{i}\",nn.Conv2d(256, 256, kernel_size=3,padding=1))\n",
    "            self.class_head.add_module(f\"relu_{i}\",nn.ReLU())\n",
    "        self.class_head.add_module(f\"cls\",nn.Conv2d(256, 1, kernel_size=1))\n",
    "        # classification size should be 32 x 32\n",
    "        ## Detection Head only h and width calculations\n",
    "        self.box_head=nn.Sequential(nn.Conv2d(bb_channel+2, 256, kernel_size=3,padding=1),nn.ReLU())\n",
    "        for i in range(6):\n",
    "            self.box_head.add_module(f\"conv_{i}\",nn.Conv2d(256, 256, kernel_size=3,padding=1))\n",
    "            self.box_head.add_module(f\"relu_{i}\",nn.ReLU())\n",
    "        self.box=nn.Conv2d(256,4,3,padding=1)    \n",
    "        self.regression_scales = torch.nn.Parameter(torch.ones((1), dtype=torch.float32))\n",
    "        \n",
    "        ## Offset Head \n",
    "        self.offset_head=nn.Sequential(nn.Conv2d(bb_channel+2, 256, kernel_size=3,padding=1),nn.ReLU())\n",
    "        for i in range(6):\n",
    "            self.offset_head.add_module(f\"conv_{i}\",nn.Conv2d(256, 256, kernel_size=3,padding=1))\n",
    "            self.offset_head.add_module(f\"relu_{i}\",nn.ReLU())\n",
    "        self.offset=nn.Conv2d(256,2,1,padding=0)   \n",
    "        \n",
    "        seg_channels=3\n",
    "        ## Segmentation Head\n",
    "        self.seg_head=nn.Sequential(nn.Conv2d(seg_channels+2, 256, kernel_size=3,padding=1),nn.ReLU())\n",
    "        for i in range(6):\n",
    "            self.seg_head.add_module(f\"conv_{i}\",nn.Conv2d(256, 256, kernel_size=3,padding=1))\n",
    "            self.seg_head.add_module(f\"relu_{i}\",nn.ReLU())\n",
    "        #self.upsample=Upsample(256)\n",
    "        self.seg=nn.Conv2d(256,1,1,padding=0)    \n",
    "        \n",
    "        self.DLoss=BinaryDiceLoss()\n",
    "        \n",
    "    def forward(self,inp: dict) -> torch.Tensor:\n",
    "        ## For training expects the labels to be present also\n",
    "        img=inp[\"img\"]\n",
    "        x=self.backbone(img)\n",
    "        \n",
    "        x=posEncoding(x)\n",
    "        \n",
    "        cls=self.class_head(x)\n",
    "\n",
    "        box=self.box_head(x)\n",
    "        box=self.box(box)\n",
    "        box=box.permute(0,2,3,1)\n",
    "        box=box*self.regression_scales\n",
    "        box=F.relu(box)\n",
    "        \n",
    "        #box=torch.exp(box)\n",
    "        off=self.offset_head(x)\n",
    "        off=self.offset(off)\n",
    "        off=off.permute(0,2,3,1)\n",
    "        \n",
    "        preds={\"center\":cls,\"offs\":off,\"boxes\":box}\n",
    "        \n",
    "        if self.training:\n",
    "            assert \"labels\" in inp, \"Labels must exist for training\"\n",
    "            loss_dict,tgt_msks,boxlist=calc_loss(inp[\"labels\"],preds)\n",
    "            pred_msks=roi_align(img,boxlist,output_size=64)\n",
    "            pred_msks=posEncoding(pred_msks)\n",
    "            pred_msks=self.seg_head(pred_msks)\n",
    "            pred_msks=self.seg(pred_msks)\n",
    "            \n",
    "            msk_loss1=F.binary_cross_entropy_with_logits(pred_msks.squeeze(1), tgt_msks, reduction=\"mean\")\n",
    "            msk_loss2=self.DLoss(pred_msks.squeeze(1), tgt_msks)\n",
    "            \n",
    "            msk_loss=msk_loss1+msk_loss2\n",
    "            \n",
    "            loss_dict[\"Mask_loss\"]=msk_loss\n",
    "            accum_loss=0.0\n",
    "            for k,v in loss_dict.items():\n",
    "                if k==\"box_loss\":\n",
    "                    accum_loss+=1.0*v\n",
    "                else:\n",
    "                    accum_loss+=v\n",
    "            loss_dict[\"Total_Loss\"]=accum_loss\n",
    "            return {\"preds\":preds,\"loss\":loss_dict}\n",
    "        else:\n",
    "            preds=process_preds(preds)\n",
    "            boxlist=[preds[\"boxes\"]]\n",
    "            pred_msks=roi_align(inp[\"img\"],boxlist,output_size=64)\n",
    "            pred_msks=posEncoding(pred_msks)\n",
    "            pred_msks=self.seg_head(pred_msks)\n",
    "            pred_msks=self.seg(pred_msks)\n",
    "            pred_msks=pred_msks.sigmoid()\n",
    "            preds[\"masks\"]=pred_msks\n",
    "            return preds"
   ]
  },
  {
   "cell_type": "code",
   "execution_count": 52,
   "id": "421a3d70",
   "metadata": {},
   "outputs": [
    {
     "name": "stderr",
     "output_type": "stream",
     "text": [
      "Downloading: \"https://download.pytorch.org/models/resnet18-5c106cde.pth\" to /home/ec2-user/.cache/torch/hub/checkpoints/resnet18-5c106cde.pth\n"
     ]
    }
   ],
   "source": [
    "model=FCOS()\n",
    "#x=torch.rand(size=(2,3,512,512))\n",
    "#out=model({\"img\":x})\n",
    "#cls.shape,box.shape,off.shape,box[:,3,:,:].min()"
   ]
  },
  {
   "cell_type": "code",
   "execution_count": 57,
   "id": "0c6bd297",
   "metadata": {},
   "outputs": [
    {
     "data": {
      "text/plain": [
       "'\\nmodel.eval()\\nfor i,batch in tqdm(enumerate(data_loader)):\\n    imgs=batch[\"img\"]\\n    gt_centers=batch[\"pts\"]\\n    gt_offsets=batch[\"offs\"]\\n    gt_boxes=batch[\"bboxs\"]\\n    gt_cats=batch[\"center\"]\\n    gt_msks=batch [\"msks\"]\\n    inp={\"img\":imgs}\\n    pred_dict=model(inp)\\n    print(pred_dict)\\n    break\\n    '"
      ]
     },
     "execution_count": 57,
     "metadata": {},
     "output_type": "execute_result"
    }
   ],
   "source": [
    "\"\"\"\n",
    "model.eval()\n",
    "for i,batch in tqdm(enumerate(data_loader)):\n",
    "    imgs=batch[\"img\"]\n",
    "    gt_centers=batch[\"pts\"]\n",
    "    gt_offsets=batch[\"offs\"]\n",
    "    gt_boxes=batch[\"bboxs\"]\n",
    "    gt_cats=batch[\"center\"]\n",
    "    gt_msks=batch [\"msks\"]\n",
    "    inp={\"img\":imgs}\n",
    "    pred_dict=model(inp)\n",
    "    print(pred_dict)\n",
    "    break\n",
    "    \"\"\""
   ]
  },
  {
   "cell_type": "code",
   "execution_count": 58,
   "id": "37c5bfcd",
   "metadata": {},
   "outputs": [],
   "source": [
    "#model.load_state_dict(torch.load(\"./cnet_ckpts_v2/351.pth\"))"
   ]
  },
  {
   "cell_type": "code",
   "execution_count": 59,
   "id": "24eea690",
   "metadata": {},
   "outputs": [
    {
     "data": {
      "text/plain": [
       "FCOS(\n",
       "  (backbone): ResNet(\n",
       "    (conv1): Conv2d(3, 64, kernel_size=(7, 7), stride=(2, 2), padding=(3, 3), bias=False)\n",
       "    (bn1): BatchNorm2d(64, eps=1e-05, momentum=0.1, affine=True, track_running_stats=True)\n",
       "    (act1): ReLU(inplace=True)\n",
       "    (maxpool): MaxPool2d(kernel_size=3, stride=2, padding=1, dilation=1, ceil_mode=False)\n",
       "    (layer1): Sequential(\n",
       "      (0): BasicBlock(\n",
       "        (conv1): Conv2d(64, 64, kernel_size=(3, 3), stride=(1, 1), padding=(1, 1), bias=False)\n",
       "        (bn1): BatchNorm2d(64, eps=1e-05, momentum=0.1, affine=True, track_running_stats=True)\n",
       "        (drop_block): Identity()\n",
       "        (act1): ReLU(inplace=True)\n",
       "        (aa): Identity()\n",
       "        (conv2): Conv2d(64, 64, kernel_size=(3, 3), stride=(1, 1), padding=(1, 1), bias=False)\n",
       "        (bn2): BatchNorm2d(64, eps=1e-05, momentum=0.1, affine=True, track_running_stats=True)\n",
       "        (act2): ReLU(inplace=True)\n",
       "      )\n",
       "      (1): BasicBlock(\n",
       "        (conv1): Conv2d(64, 64, kernel_size=(3, 3), stride=(1, 1), padding=(1, 1), bias=False)\n",
       "        (bn1): BatchNorm2d(64, eps=1e-05, momentum=0.1, affine=True, track_running_stats=True)\n",
       "        (drop_block): Identity()\n",
       "        (act1): ReLU(inplace=True)\n",
       "        (aa): Identity()\n",
       "        (conv2): Conv2d(64, 64, kernel_size=(3, 3), stride=(1, 1), padding=(1, 1), bias=False)\n",
       "        (bn2): BatchNorm2d(64, eps=1e-05, momentum=0.1, affine=True, track_running_stats=True)\n",
       "        (act2): ReLU(inplace=True)\n",
       "      )\n",
       "    )\n",
       "    (layer2): Sequential(\n",
       "      (0): BasicBlock(\n",
       "        (conv1): Conv2d(64, 128, kernel_size=(3, 3), stride=(2, 2), padding=(1, 1), bias=False)\n",
       "        (bn1): BatchNorm2d(128, eps=1e-05, momentum=0.1, affine=True, track_running_stats=True)\n",
       "        (drop_block): Identity()\n",
       "        (act1): ReLU(inplace=True)\n",
       "        (aa): Identity()\n",
       "        (conv2): Conv2d(128, 128, kernel_size=(3, 3), stride=(1, 1), padding=(1, 1), bias=False)\n",
       "        (bn2): BatchNorm2d(128, eps=1e-05, momentum=0.1, affine=True, track_running_stats=True)\n",
       "        (act2): ReLU(inplace=True)\n",
       "        (downsample): Sequential(\n",
       "          (0): Conv2d(64, 128, kernel_size=(1, 1), stride=(2, 2), bias=False)\n",
       "          (1): BatchNorm2d(128, eps=1e-05, momentum=0.1, affine=True, track_running_stats=True)\n",
       "        )\n",
       "      )\n",
       "      (1): BasicBlock(\n",
       "        (conv1): Conv2d(128, 128, kernel_size=(3, 3), stride=(1, 1), padding=(1, 1), bias=False)\n",
       "        (bn1): BatchNorm2d(128, eps=1e-05, momentum=0.1, affine=True, track_running_stats=True)\n",
       "        (drop_block): Identity()\n",
       "        (act1): ReLU(inplace=True)\n",
       "        (aa): Identity()\n",
       "        (conv2): Conv2d(128, 128, kernel_size=(3, 3), stride=(1, 1), padding=(1, 1), bias=False)\n",
       "        (bn2): BatchNorm2d(128, eps=1e-05, momentum=0.1, affine=True, track_running_stats=True)\n",
       "        (act2): ReLU(inplace=True)\n",
       "      )\n",
       "    )\n",
       "    (layer3): Sequential(\n",
       "      (0): BasicBlock(\n",
       "        (conv1): Conv2d(128, 256, kernel_size=(3, 3), stride=(1, 1), padding=(1, 1), bias=False)\n",
       "        (bn1): BatchNorm2d(256, eps=1e-05, momentum=0.1, affine=True, track_running_stats=True)\n",
       "        (drop_block): Identity()\n",
       "        (act1): ReLU(inplace=True)\n",
       "        (aa): Identity()\n",
       "        (conv2): Conv2d(256, 256, kernel_size=(3, 3), stride=(1, 1), padding=(2, 2), dilation=(2, 2), bias=False)\n",
       "        (bn2): BatchNorm2d(256, eps=1e-05, momentum=0.1, affine=True, track_running_stats=True)\n",
       "        (act2): ReLU(inplace=True)\n",
       "        (downsample): Sequential(\n",
       "          (0): Conv2d(128, 256, kernel_size=(1, 1), stride=(1, 1), bias=False)\n",
       "          (1): BatchNorm2d(256, eps=1e-05, momentum=0.1, affine=True, track_running_stats=True)\n",
       "        )\n",
       "      )\n",
       "      (1): BasicBlock(\n",
       "        (conv1): Conv2d(256, 256, kernel_size=(3, 3), stride=(1, 1), padding=(2, 2), dilation=(2, 2), bias=False)\n",
       "        (bn1): BatchNorm2d(256, eps=1e-05, momentum=0.1, affine=True, track_running_stats=True)\n",
       "        (drop_block): Identity()\n",
       "        (act1): ReLU(inplace=True)\n",
       "        (aa): Identity()\n",
       "        (conv2): Conv2d(256, 256, kernel_size=(3, 3), stride=(1, 1), padding=(2, 2), dilation=(2, 2), bias=False)\n",
       "        (bn2): BatchNorm2d(256, eps=1e-05, momentum=0.1, affine=True, track_running_stats=True)\n",
       "        (act2): ReLU(inplace=True)\n",
       "      )\n",
       "    )\n",
       "    (layer4): Sequential(\n",
       "      (0): BasicBlock(\n",
       "        (conv1): Conv2d(256, 512, kernel_size=(3, 3), stride=(1, 1), padding=(2, 2), dilation=(2, 2), bias=False)\n",
       "        (bn1): BatchNorm2d(512, eps=1e-05, momentum=0.1, affine=True, track_running_stats=True)\n",
       "        (drop_block): Identity()\n",
       "        (act1): ReLU(inplace=True)\n",
       "        (aa): Identity()\n",
       "        (conv2): Conv2d(512, 512, kernel_size=(3, 3), stride=(1, 1), padding=(4, 4), dilation=(4, 4), bias=False)\n",
       "        (bn2): BatchNorm2d(512, eps=1e-05, momentum=0.1, affine=True, track_running_stats=True)\n",
       "        (act2): ReLU(inplace=True)\n",
       "        (downsample): Sequential(\n",
       "          (0): Conv2d(256, 512, kernel_size=(1, 1), stride=(1, 1), bias=False)\n",
       "          (1): BatchNorm2d(512, eps=1e-05, momentum=0.1, affine=True, track_running_stats=True)\n",
       "        )\n",
       "      )\n",
       "      (1): BasicBlock(\n",
       "        (conv1): Conv2d(512, 512, kernel_size=(3, 3), stride=(1, 1), padding=(4, 4), dilation=(4, 4), bias=False)\n",
       "        (bn1): BatchNorm2d(512, eps=1e-05, momentum=0.1, affine=True, track_running_stats=True)\n",
       "        (drop_block): Identity()\n",
       "        (act1): ReLU(inplace=True)\n",
       "        (aa): Identity()\n",
       "        (conv2): Conv2d(512, 512, kernel_size=(3, 3), stride=(1, 1), padding=(4, 4), dilation=(4, 4), bias=False)\n",
       "        (bn2): BatchNorm2d(512, eps=1e-05, momentum=0.1, affine=True, track_running_stats=True)\n",
       "        (act2): ReLU(inplace=True)\n",
       "      )\n",
       "    )\n",
       "    (global_pool): SelectAdaptivePool2d (pool_type=, flatten=Identity())\n",
       "    (fc): Identity()\n",
       "  )\n",
       "  (class_head): Sequential(\n",
       "    (0): Conv2d(514, 256, kernel_size=(3, 3), stride=(1, 1), padding=(1, 1))\n",
       "    (1): ReLU()\n",
       "    (conv_0): Conv2d(256, 256, kernel_size=(3, 3), stride=(1, 1), padding=(1, 1))\n",
       "    (relu_0): ReLU()\n",
       "    (conv_1): Conv2d(256, 256, kernel_size=(3, 3), stride=(1, 1), padding=(1, 1))\n",
       "    (relu_1): ReLU()\n",
       "    (conv_2): Conv2d(256, 256, kernel_size=(3, 3), stride=(1, 1), padding=(1, 1))\n",
       "    (relu_2): ReLU()\n",
       "    (conv_3): Conv2d(256, 256, kernel_size=(3, 3), stride=(1, 1), padding=(1, 1))\n",
       "    (relu_3): ReLU()\n",
       "    (conv_4): Conv2d(256, 256, kernel_size=(3, 3), stride=(1, 1), padding=(1, 1))\n",
       "    (relu_4): ReLU()\n",
       "    (cls): Conv2d(256, 1, kernel_size=(1, 1), stride=(1, 1))\n",
       "  )\n",
       "  (box_head): Sequential(\n",
       "    (0): Conv2d(514, 256, kernel_size=(3, 3), stride=(1, 1), padding=(1, 1))\n",
       "    (1): ReLU()\n",
       "    (conv_0): Conv2d(256, 256, kernel_size=(3, 3), stride=(1, 1), padding=(1, 1))\n",
       "    (relu_0): ReLU()\n",
       "    (conv_1): Conv2d(256, 256, kernel_size=(3, 3), stride=(1, 1), padding=(1, 1))\n",
       "    (relu_1): ReLU()\n",
       "    (conv_2): Conv2d(256, 256, kernel_size=(3, 3), stride=(1, 1), padding=(1, 1))\n",
       "    (relu_2): ReLU()\n",
       "    (conv_3): Conv2d(256, 256, kernel_size=(3, 3), stride=(1, 1), padding=(1, 1))\n",
       "    (relu_3): ReLU()\n",
       "    (conv_4): Conv2d(256, 256, kernel_size=(3, 3), stride=(1, 1), padding=(1, 1))\n",
       "    (relu_4): ReLU()\n",
       "    (conv_5): Conv2d(256, 256, kernel_size=(3, 3), stride=(1, 1), padding=(1, 1))\n",
       "    (relu_5): ReLU()\n",
       "  )\n",
       "  (box): Conv2d(256, 4, kernel_size=(3, 3), stride=(1, 1), padding=(1, 1))\n",
       "  (offset_head): Sequential(\n",
       "    (0): Conv2d(514, 256, kernel_size=(3, 3), stride=(1, 1), padding=(1, 1))\n",
       "    (1): ReLU()\n",
       "    (conv_0): Conv2d(256, 256, kernel_size=(3, 3), stride=(1, 1), padding=(1, 1))\n",
       "    (relu_0): ReLU()\n",
       "    (conv_1): Conv2d(256, 256, kernel_size=(3, 3), stride=(1, 1), padding=(1, 1))\n",
       "    (relu_1): ReLU()\n",
       "    (conv_2): Conv2d(256, 256, kernel_size=(3, 3), stride=(1, 1), padding=(1, 1))\n",
       "    (relu_2): ReLU()\n",
       "    (conv_3): Conv2d(256, 256, kernel_size=(3, 3), stride=(1, 1), padding=(1, 1))\n",
       "    (relu_3): ReLU()\n",
       "    (conv_4): Conv2d(256, 256, kernel_size=(3, 3), stride=(1, 1), padding=(1, 1))\n",
       "    (relu_4): ReLU()\n",
       "    (conv_5): Conv2d(256, 256, kernel_size=(3, 3), stride=(1, 1), padding=(1, 1))\n",
       "    (relu_5): ReLU()\n",
       "  )\n",
       "  (offset): Conv2d(256, 2, kernel_size=(1, 1), stride=(1, 1))\n",
       "  (seg_head): Sequential(\n",
       "    (0): Conv2d(5, 256, kernel_size=(3, 3), stride=(1, 1), padding=(1, 1))\n",
       "    (1): ReLU()\n",
       "    (conv_0): Conv2d(256, 256, kernel_size=(3, 3), stride=(1, 1), padding=(1, 1))\n",
       "    (relu_0): ReLU()\n",
       "    (conv_1): Conv2d(256, 256, kernel_size=(3, 3), stride=(1, 1), padding=(1, 1))\n",
       "    (relu_1): ReLU()\n",
       "    (conv_2): Conv2d(256, 256, kernel_size=(3, 3), stride=(1, 1), padding=(1, 1))\n",
       "    (relu_2): ReLU()\n",
       "    (conv_3): Conv2d(256, 256, kernel_size=(3, 3), stride=(1, 1), padding=(1, 1))\n",
       "    (relu_3): ReLU()\n",
       "    (conv_4): Conv2d(256, 256, kernel_size=(3, 3), stride=(1, 1), padding=(1, 1))\n",
       "    (relu_4): ReLU()\n",
       "    (conv_5): Conv2d(256, 256, kernel_size=(3, 3), stride=(1, 1), padding=(1, 1))\n",
       "    (relu_5): ReLU()\n",
       "  )\n",
       "  (seg): Conv2d(256, 1, kernel_size=(1, 1), stride=(1, 1))\n",
       "  (DLoss): BinaryDiceLoss()\n",
       ")"
      ]
     },
     "execution_count": 59,
     "metadata": {},
     "output_type": "execute_result"
    }
   ],
   "source": [
    "model.to(\"cuda\")"
   ]
  },
  {
   "cell_type": "code",
   "execution_count": 60,
   "id": "451b44bf",
   "metadata": {},
   "outputs": [],
   "source": [
    "import torch.optim as optim\n",
    "\n",
    "optimizer = optim.Adam(model.parameters(), lr=1e-4)\n",
    "#scheduler = torch.optim.lr_scheduler.OneCycleLR(optimizer, max_lr=1e-3, steps_per_epoch=200, epochs=200,anneal_strategy='linear')"
   ]
  },
  {
   "cell_type": "code",
   "execution_count": 61,
   "id": "08263b7e",
   "metadata": {},
   "outputs": [
    {
     "name": "stdout",
     "output_type": "stream",
     "text": [
      "mkdir: cannot create directory ‘cnet_pos_ckpts’: File exists\r\n"
     ]
    }
   ],
   "source": [
    "#!rm -rf cnet_ckpts_v2\n",
    "!mkdir cnet_pos_ckpts"
   ]
  },
  {
   "cell_type": "code",
   "execution_count": null,
   "id": "5e73df24",
   "metadata": {
    "scrolled": false
   },
   "outputs": [
    {
     "name": "stderr",
     "output_type": "stream",
     "text": [
      "10it [00:14,  1.06s/it]"
     ]
    },
    {
     "name": "stdout",
     "output_type": "stream",
     "text": [
      "[1,    10] Running Loss: 37.467\n",
      "cat_loss: 0.0010294753592461348\n",
      "box_loss: 23.898822784423828\n",
      "off_loss: 0.2987287938594818\n",
      "Mask_loss: 0.9324080944061279\n",
      "Total_Loss: 25.13098907470703\n"
     ]
    },
    {
     "name": "stderr",
     "output_type": "stream",
     "text": [
      "19it [00:23,  1.24s/it]\n",
      "10it [00:13,  1.07s/it]"
     ]
    },
    {
     "name": "stdout",
     "output_type": "stream",
     "text": [
      "[2,    10] Running Loss: 43.129\n",
      "cat_loss: 0.000465748249553144\n",
      "box_loss: 40.573028564453125\n",
      "off_loss: 0.2503581941127777\n",
      "Mask_loss: 0.9114537239074707\n",
      "Total_Loss: 41.73530578613281\n"
     ]
    },
    {
     "name": "stderr",
     "output_type": "stream",
     "text": [
      "19it [00:23,  1.22s/it]\n",
      "10it [00:14,  1.07s/it]"
     ]
    },
    {
     "name": "stdout",
     "output_type": "stream",
     "text": [
      "[3,    10] Running Loss: 38.166\n",
      "cat_loss: 0.0003499870072118938\n",
      "box_loss: 9.368669509887695\n",
      "off_loss: 0.22365394234657288\n",
      "Mask_loss: 0.9153568744659424\n",
      "Total_Loss: 10.50802993774414\n"
     ]
    },
    {
     "name": "stderr",
     "output_type": "stream",
     "text": [
      "19it [00:23,  1.25s/it]\n",
      "10it [00:13,  1.05s/it]"
     ]
    },
    {
     "name": "stdout",
     "output_type": "stream",
     "text": [
      "[4,    10] Running Loss: 29.828\n",
      "cat_loss: 0.00028417256544344127\n",
      "box_loss: 17.61408805847168\n",
      "off_loss: 0.251878559589386\n",
      "Mask_loss: 0.9049995541572571\n",
      "Total_Loss: 18.771249771118164\n"
     ]
    },
    {
     "name": "stderr",
     "output_type": "stream",
     "text": [
      "19it [00:23,  1.23s/it]\n",
      "10it [00:13,  1.07s/it]"
     ]
    },
    {
     "name": "stdout",
     "output_type": "stream",
     "text": [
      "[5,    10] Running Loss: 25.107\n",
      "cat_loss: 0.0002504384028725326\n",
      "box_loss: 29.25630760192871\n",
      "off_loss: 0.28604134917259216\n",
      "Mask_loss: 0.8961716890335083\n",
      "Total_Loss: 30.438770294189453\n"
     ]
    },
    {
     "name": "stderr",
     "output_type": "stream",
     "text": [
      "19it [00:23,  1.23s/it]\n",
      "10it [00:13,  1.06s/it]"
     ]
    },
    {
     "name": "stdout",
     "output_type": "stream",
     "text": [
      "[6,    10] Running Loss: 21.594\n",
      "cat_loss: 0.00027531146770343184\n",
      "box_loss: 11.405424118041992\n",
      "off_loss: 0.26236027479171753\n",
      "Mask_loss: 0.8921566009521484\n",
      "Total_Loss: 12.560216903686523\n"
     ]
    },
    {
     "name": "stderr",
     "output_type": "stream",
     "text": [
      "19it [00:23,  1.23s/it]\n",
      "10it [00:14,  1.08s/it]"
     ]
    },
    {
     "name": "stdout",
     "output_type": "stream",
     "text": [
      "[7,    10] Running Loss: 9.714\n",
      "cat_loss: 0.000256832834566012\n",
      "box_loss: 3.5958092212677\n",
      "off_loss: 0.23967640101909637\n",
      "Mask_loss: 0.9007523059844971\n",
      "Total_Loss: 4.736495018005371\n"
     ]
    },
    {
     "name": "stderr",
     "output_type": "stream",
     "text": [
      "19it [00:23,  1.23s/it]\n",
      "10it [00:14,  1.07s/it]"
     ]
    },
    {
     "name": "stdout",
     "output_type": "stream",
     "text": [
      "[8,    10] Running Loss: 9.371\n",
      "cat_loss: 0.0003040134615730494\n",
      "box_loss: 3.8252882957458496\n",
      "off_loss: 0.24400761723518372\n",
      "Mask_loss: 0.9560993909835815\n",
      "Total_Loss: 5.025699615478516\n"
     ]
    },
    {
     "name": "stderr",
     "output_type": "stream",
     "text": [
      "19it [00:23,  1.23s/it]\n",
      "10it [00:13,  1.05s/it]"
     ]
    },
    {
     "name": "stdout",
     "output_type": "stream",
     "text": [
      "[9,    10] Running Loss: 5.255\n",
      "cat_loss: 0.00028848976944573224\n",
      "box_loss: 5.2577595710754395\n",
      "off_loss: 0.2527998089790344\n",
      "Mask_loss: 0.9495366811752319\n",
      "Total_Loss: 6.460384845733643\n"
     ]
    },
    {
     "name": "stderr",
     "output_type": "stream",
     "text": [
      "19it [00:23,  1.23s/it]\n",
      "10it [00:14,  1.08s/it]"
     ]
    },
    {
     "name": "stdout",
     "output_type": "stream",
     "text": [
      "[10,    10] Running Loss: 8.827\n",
      "cat_loss: 0.0002997773408424109\n",
      "box_loss: 5.7982635498046875\n",
      "off_loss: 0.2307967096567154\n",
      "Mask_loss: 0.9099118709564209\n",
      "Total_Loss: 6.939271926879883\n"
     ]
    },
    {
     "name": "stderr",
     "output_type": "stream",
     "text": [
      "19it [00:23,  1.24s/it]\n",
      "10it [00:14,  1.13s/it]"
     ]
    },
    {
     "name": "stdout",
     "output_type": "stream",
     "text": [
      "[11,    10] Running Loss: 5.060\n",
      "cat_loss: 0.00032088905572891235\n",
      "box_loss: 3.147711753845215\n",
      "off_loss: 0.21753868460655212\n",
      "Mask_loss: 0.9832651615142822\n",
      "Total_Loss: 4.348836421966553\n"
     ]
    },
    {
     "name": "stderr",
     "output_type": "stream",
     "text": [
      "19it [00:23,  1.26s/it]\n",
      "10it [00:14,  1.09s/it]"
     ]
    },
    {
     "name": "stdout",
     "output_type": "stream",
     "text": [
      "[12,    10] Running Loss: 4.115\n",
      "cat_loss: 0.00017605023458600044\n",
      "box_loss: 1.9437592029571533\n",
      "off_loss: 0.2512270510196686\n",
      "Mask_loss: 0.8544421195983887\n",
      "Total_Loss: 3.0496044158935547\n"
     ]
    },
    {
     "name": "stderr",
     "output_type": "stream",
     "text": [
      "19it [00:23,  1.26s/it]\n",
      "10it [00:14,  1.11s/it]"
     ]
    },
    {
     "name": "stdout",
     "output_type": "stream",
     "text": [
      "[13,    10] Running Loss: 4.513\n",
      "cat_loss: 0.0002207509387517348\n",
      "box_loss: 3.9108009338378906\n",
      "off_loss: 0.22730877995491028\n",
      "Mask_loss: 0.8638271689414978\n",
      "Total_Loss: 5.002157688140869\n"
     ]
    },
    {
     "name": "stderr",
     "output_type": "stream",
     "text": [
      "19it [00:24,  1.27s/it]\n",
      "10it [00:14,  1.09s/it]"
     ]
    },
    {
     "name": "stdout",
     "output_type": "stream",
     "text": [
      "[14,    10] Running Loss: 4.614\n",
      "cat_loss: 0.00018674522289074957\n",
      "box_loss: 2.929619789123535\n",
      "off_loss: 0.23127183318138123\n",
      "Mask_loss: 0.882230281829834\n",
      "Total_Loss: 4.043308258056641\n"
     ]
    },
    {
     "name": "stderr",
     "output_type": "stream",
     "text": [
      "19it [00:23,  1.26s/it]\n",
      "10it [00:14,  1.08s/it]"
     ]
    },
    {
     "name": "stdout",
     "output_type": "stream",
     "text": [
      "[15,    10] Running Loss: 3.964\n",
      "cat_loss: 0.0002510097110643983\n",
      "box_loss: 3.3329336643218994\n",
      "off_loss: 0.2318255752325058\n",
      "Mask_loss: 0.9078586101531982\n",
      "Total_Loss: 4.472868919372559\n"
     ]
    },
    {
     "name": "stderr",
     "output_type": "stream",
     "text": [
      "19it [00:23,  1.24s/it]\n",
      "10it [00:14,  1.07s/it]"
     ]
    },
    {
     "name": "stdout",
     "output_type": "stream",
     "text": [
      "[16,    10] Running Loss: 3.898\n",
      "cat_loss: 0.0001702308072708547\n",
      "box_loss: 2.0472006797790527\n",
      "off_loss: 0.23843951523303986\n",
      "Mask_loss: 0.9020678997039795\n",
      "Total_Loss: 3.187878370285034\n"
     ]
    },
    {
     "name": "stderr",
     "output_type": "stream",
     "text": [
      "19it [00:23,  1.24s/it]\n",
      "10it [00:14,  1.06s/it]"
     ]
    },
    {
     "name": "stdout",
     "output_type": "stream",
     "text": [
      "[17,    10] Running Loss: 8.215\n",
      "cat_loss: 0.000205162912607193\n",
      "box_loss: 7.4215087890625\n",
      "off_loss: 0.2504567503929138\n",
      "Mask_loss: 0.9063169956207275\n",
      "Total_Loss: 8.578487396240234\n"
     ]
    },
    {
     "name": "stderr",
     "output_type": "stream",
     "text": [
      "19it [00:23,  1.23s/it]\n",
      "10it [00:14,  1.09s/it]"
     ]
    },
    {
     "name": "stdout",
     "output_type": "stream",
     "text": [
      "[18,    10] Running Loss: 4.535\n",
      "cat_loss: 0.0002758392656687647\n",
      "box_loss: 2.7510547637939453\n",
      "off_loss: 0.19889821112155914\n",
      "Mask_loss: 0.8767994046211243\n",
      "Total_Loss: 3.827028274536133\n"
     ]
    },
    {
     "name": "stderr",
     "output_type": "stream",
     "text": [
      "19it [00:23,  1.26s/it]\n",
      "10it [00:14,  1.08s/it]"
     ]
    },
    {
     "name": "stdout",
     "output_type": "stream",
     "text": [
      "[19,    10] Running Loss: 4.189\n",
      "cat_loss: 0.00018269622523803264\n",
      "box_loss: 5.762975692749023\n",
      "off_loss: 0.22903232276439667\n",
      "Mask_loss: 0.9126198887825012\n",
      "Total_Loss: 6.904810905456543\n"
     ]
    },
    {
     "name": "stderr",
     "output_type": "stream",
     "text": [
      "19it [00:23,  1.23s/it]\n",
      "10it [00:14,  1.07s/it]"
     ]
    },
    {
     "name": "stdout",
     "output_type": "stream",
     "text": [
      "[20,    10] Running Loss: 3.574\n",
      "cat_loss: 0.00017250163364224136\n",
      "box_loss: 2.6417906284332275\n",
      "off_loss: 0.1907258778810501\n",
      "Mask_loss: 0.8773565292358398\n",
      "Total_Loss: 3.710045576095581\n"
     ]
    },
    {
     "name": "stderr",
     "output_type": "stream",
     "text": [
      "19it [00:23,  1.22s/it]\n",
      "10it [00:13,  1.06s/it]"
     ]
    },
    {
     "name": "stdout",
     "output_type": "stream",
     "text": [
      "[21,    10] Running Loss: 3.182\n",
      "cat_loss: 0.00017690329696051776\n",
      "box_loss: 2.1256179809570312\n",
      "off_loss: 0.16859301924705505\n",
      "Mask_loss: 0.8970629572868347\n",
      "Total_Loss: 3.191450834274292\n"
     ]
    },
    {
     "name": "stderr",
     "output_type": "stream",
     "text": [
      "19it [00:23,  1.23s/it]\n",
      "10it [00:14,  1.08s/it]"
     ]
    },
    {
     "name": "stdout",
     "output_type": "stream",
     "text": [
      "[22,    10] Running Loss: 3.551\n",
      "cat_loss: 0.00020817280164919794\n",
      "box_loss: 1.7177720069885254\n",
      "off_loss: 0.19038529694080353\n",
      "Mask_loss: 0.8683865070343018\n",
      "Total_Loss: 2.77675199508667\n"
     ]
    },
    {
     "name": "stderr",
     "output_type": "stream",
     "text": [
      "19it [00:23,  1.24s/it]\n",
      "10it [00:14,  1.09s/it]"
     ]
    },
    {
     "name": "stdout",
     "output_type": "stream",
     "text": [
      "[23,    10] Running Loss: 4.162\n",
      "cat_loss: 0.00016880134353414178\n",
      "box_loss: 4.348917007446289\n",
      "off_loss: 0.14883123338222504\n",
      "Mask_loss: 0.896213948726654\n",
      "Total_Loss: 5.394131183624268\n"
     ]
    },
    {
     "name": "stderr",
     "output_type": "stream",
     "text": [
      "19it [00:23,  1.25s/it]\n",
      "10it [00:13,  1.07s/it]"
     ]
    },
    {
     "name": "stdout",
     "output_type": "stream",
     "text": [
      "[24,    10] Running Loss: 3.335\n",
      "cat_loss: 0.00020391447469592094\n",
      "box_loss: 1.6991616487503052\n",
      "off_loss: 0.1659771203994751\n",
      "Mask_loss: 0.88434237241745\n",
      "Total_Loss: 2.749685049057007\n"
     ]
    },
    {
     "name": "stderr",
     "output_type": "stream",
     "text": [
      "19it [00:23,  1.23s/it]\n",
      "10it [00:14,  1.08s/it]"
     ]
    },
    {
     "name": "stdout",
     "output_type": "stream",
     "text": [
      "[25,    10] Running Loss: 3.177\n",
      "cat_loss: 0.00016875771689228714\n",
      "box_loss: 2.5008926391601562\n",
      "off_loss: 0.22779996693134308\n",
      "Mask_loss: 0.8647626042366028\n",
      "Total_Loss: 3.5936238765716553\n"
     ]
    },
    {
     "name": "stderr",
     "output_type": "stream",
     "text": [
      "19it [00:23,  1.24s/it]\n",
      "10it [00:14,  1.06s/it]"
     ]
    },
    {
     "name": "stdout",
     "output_type": "stream",
     "text": [
      "[26,    10] Running Loss: 3.149\n",
      "cat_loss: 0.0001543037942610681\n",
      "box_loss: 2.5938608646392822\n",
      "off_loss: 0.2029520869255066\n",
      "Mask_loss: 0.8736091256141663\n",
      "Total_Loss: 3.670576333999634\n"
     ]
    },
    {
     "name": "stderr",
     "output_type": "stream",
     "text": [
      "19it [00:23,  1.24s/it]\n",
      "10it [00:14,  1.11s/it]"
     ]
    },
    {
     "name": "stdout",
     "output_type": "stream",
     "text": [
      "[27,    10] Running Loss: 4.020\n",
      "cat_loss: 0.00017735778237693012\n",
      "box_loss: 2.4101858139038086\n",
      "off_loss: 0.16451393067836761\n",
      "Mask_loss: 0.897691011428833\n",
      "Total_Loss: 3.4725680351257324\n"
     ]
    },
    {
     "name": "stderr",
     "output_type": "stream",
     "text": [
      "19it [00:23,  1.25s/it]\n",
      "10it [00:14,  1.08s/it]"
     ]
    },
    {
     "name": "stdout",
     "output_type": "stream",
     "text": [
      "[28,    10] Running Loss: 3.187\n",
      "cat_loss: 0.0001329040533164516\n",
      "box_loss: 2.9132392406463623\n",
      "off_loss: 0.17784130573272705\n",
      "Mask_loss: 0.8750203847885132\n",
      "Total_Loss: 3.966233730316162\n"
     ]
    },
    {
     "name": "stderr",
     "output_type": "stream",
     "text": [
      "19it [00:23,  1.25s/it]\n",
      "10it [00:14,  1.09s/it]"
     ]
    },
    {
     "name": "stdout",
     "output_type": "stream",
     "text": [
      "[29,    10] Running Loss: 3.504\n",
      "cat_loss: 0.0001920429349411279\n",
      "box_loss: 2.01291561126709\n",
      "off_loss: 0.16433048248291016\n",
      "Mask_loss: 0.9017208814620972\n",
      "Total_Loss: 3.0791587829589844\n"
     ]
    },
    {
     "name": "stderr",
     "output_type": "stream",
     "text": [
      "19it [00:23,  1.25s/it]\n",
      "10it [00:14,  1.08s/it]"
     ]
    },
    {
     "name": "stdout",
     "output_type": "stream",
     "text": [
      "[30,    10] Running Loss: 4.652\n",
      "cat_loss: 0.00014616057160310447\n",
      "box_loss: 2.0057923793792725\n",
      "off_loss: 0.1332015097141266\n",
      "Mask_loss: 0.9048417806625366\n",
      "Total_Loss: 3.0439820289611816\n"
     ]
    },
    {
     "name": "stderr",
     "output_type": "stream",
     "text": [
      "19it [00:23,  1.25s/it]\n",
      "10it [00:14,  1.08s/it]"
     ]
    },
    {
     "name": "stdout",
     "output_type": "stream",
     "text": [
      "[31,    10] Running Loss: 2.816\n",
      "cat_loss: 0.0001631237391848117\n",
      "box_loss: 1.0800120830535889\n",
      "off_loss: 0.16425558924674988\n",
      "Mask_loss: 0.8712708950042725\n",
      "Total_Loss: 2.115701675415039\n"
     ]
    },
    {
     "name": "stderr",
     "output_type": "stream",
     "text": [
      "19it [00:23,  1.24s/it]\n",
      "10it [00:14,  1.08s/it]"
     ]
    },
    {
     "name": "stdout",
     "output_type": "stream",
     "text": [
      "[32,    10] Running Loss: 2.818\n",
      "cat_loss: 0.00014541888958774507\n",
      "box_loss: 1.7009642124176025\n",
      "off_loss: 0.16194744408130646\n",
      "Mask_loss: 0.8948317766189575\n",
      "Total_Loss: 2.7578887939453125\n"
     ]
    },
    {
     "name": "stderr",
     "output_type": "stream",
     "text": [
      "19it [00:23,  1.25s/it]\n",
      "10it [00:14,  1.12s/it]"
     ]
    },
    {
     "name": "stdout",
     "output_type": "stream",
     "text": [
      "[33,    10] Running Loss: 2.747\n",
      "cat_loss: 0.00015185904339887202\n",
      "box_loss: 1.2360997200012207\n",
      "off_loss: 0.12913751602172852\n",
      "Mask_loss: 0.8875544667243958\n",
      "Total_Loss: 2.252943515777588\n"
     ]
    },
    {
     "name": "stderr",
     "output_type": "stream",
     "text": [
      "19it [00:24,  1.28s/it]\n",
      "10it [00:14,  1.07s/it]"
     ]
    },
    {
     "name": "stdout",
     "output_type": "stream",
     "text": [
      "[34,    10] Running Loss: 2.800\n",
      "cat_loss: 0.0001543938706163317\n",
      "box_loss: 1.6885273456573486\n",
      "off_loss: 0.12578248977661133\n",
      "Mask_loss: 0.8678805828094482\n",
      "Total_Loss: 2.682344913482666\n"
     ]
    },
    {
     "name": "stderr",
     "output_type": "stream",
     "text": [
      "19it [00:23,  1.24s/it]\n",
      "10it [00:14,  1.08s/it]"
     ]
    },
    {
     "name": "stdout",
     "output_type": "stream",
     "text": [
      "[35,    10] Running Loss: 2.943\n",
      "cat_loss: 0.00012159970356151462\n",
      "box_loss: 2.849679946899414\n",
      "off_loss: 0.1395520269870758\n",
      "Mask_loss: 0.8429564237594604\n",
      "Total_Loss: 3.832310199737549\n"
     ]
    },
    {
     "name": "stderr",
     "output_type": "stream",
     "text": [
      "19it [00:23,  1.24s/it]\n",
      "10it [00:14,  1.09s/it]"
     ]
    },
    {
     "name": "stdout",
     "output_type": "stream",
     "text": [
      "[36,    10] Running Loss: 2.839\n",
      "cat_loss: 0.00016057708126027137\n",
      "box_loss: 1.636934518814087\n",
      "off_loss: 0.14936335384845734\n",
      "Mask_loss: 0.9146648645401001\n",
      "Total_Loss: 2.7011232376098633\n"
     ]
    },
    {
     "name": "stderr",
     "output_type": "stream",
     "text": [
      "19it [00:23,  1.25s/it]\n",
      "10it [00:14,  1.08s/it]"
     ]
    },
    {
     "name": "stdout",
     "output_type": "stream",
     "text": [
      "[37,    10] Running Loss: 2.786\n",
      "cat_loss: 0.00016774765390437096\n",
      "box_loss: 2.3081610202789307\n",
      "off_loss: 0.13005885481834412\n",
      "Mask_loss: 0.9137740731239319\n",
      "Total_Loss: 3.3521616458892822\n"
     ]
    },
    {
     "name": "stderr",
     "output_type": "stream",
     "text": [
      "19it [00:23,  1.25s/it]\n",
      "10it [00:14,  1.09s/it]"
     ]
    },
    {
     "name": "stdout",
     "output_type": "stream",
     "text": [
      "[38,    10] Running Loss: 2.736\n",
      "cat_loss: 0.00018439834821037948\n",
      "box_loss: 1.2251989841461182\n",
      "off_loss: 0.127781942486763\n",
      "Mask_loss: 0.9560925960540771\n",
      "Total_Loss: 2.309257984161377\n"
     ]
    },
    {
     "name": "stderr",
     "output_type": "stream",
     "text": [
      "19it [00:23,  1.25s/it]\n",
      "10it [00:14,  1.07s/it]"
     ]
    },
    {
     "name": "stdout",
     "output_type": "stream",
     "text": [
      "[39,    10] Running Loss: 2.702\n",
      "cat_loss: 0.00015851884381845593\n",
      "box_loss: 2.9647791385650635\n",
      "off_loss: 0.12609118223190308\n",
      "Mask_loss: 0.9131761789321899\n",
      "Total_Loss: 4.004205226898193\n"
     ]
    },
    {
     "name": "stderr",
     "output_type": "stream",
     "text": [
      "19it [00:23,  1.24s/it]\n",
      "10it [00:14,  1.10s/it]"
     ]
    },
    {
     "name": "stdout",
     "output_type": "stream",
     "text": [
      "[40,    10] Running Loss: 3.152\n",
      "cat_loss: 0.0001338775036856532\n",
      "box_loss: 1.7041540145874023\n",
      "off_loss: 0.11199452728033066\n",
      "Mask_loss: 0.8984124660491943\n",
      "Total_Loss: 2.7146949768066406\n"
     ]
    },
    {
     "name": "stderr",
     "output_type": "stream",
     "text": [
      "19it [00:24,  1.27s/it]\n",
      "10it [00:15,  1.10s/it]"
     ]
    },
    {
     "name": "stdout",
     "output_type": "stream",
     "text": [
      "[41,    10] Running Loss: 3.708\n",
      "cat_loss: 0.00012558638991322368\n",
      "box_loss: 5.518440246582031\n",
      "off_loss: 0.1035214364528656\n",
      "Mask_loss: 0.9272313117980957\n",
      "Total_Loss: 6.549318313598633\n"
     ]
    },
    {
     "name": "stderr",
     "output_type": "stream",
     "text": [
      "19it [00:25,  1.32s/it]\n",
      "10it [00:14,  1.08s/it]"
     ]
    },
    {
     "name": "stdout",
     "output_type": "stream",
     "text": [
      "[42,    10] Running Loss: 4.149\n",
      "cat_loss: 0.00012990398681722581\n",
      "box_loss: 3.2034614086151123\n",
      "off_loss: 0.08546280860900879\n",
      "Mask_loss: 0.8901723623275757\n",
      "Total_Loss: 4.179226398468018\n"
     ]
    },
    {
     "name": "stderr",
     "output_type": "stream",
     "text": [
      "19it [00:23,  1.25s/it]\n",
      "10it [00:14,  1.08s/it]"
     ]
    },
    {
     "name": "stdout",
     "output_type": "stream",
     "text": [
      "[43,    10] Running Loss: 3.103\n",
      "cat_loss: 0.00015768739103805274\n",
      "box_loss: 1.6426887512207031\n",
      "off_loss: 0.1308092623949051\n",
      "Mask_loss: 0.9110988974571228\n",
      "Total_Loss: 2.6847546100616455\n"
     ]
    },
    {
     "name": "stderr",
     "output_type": "stream",
     "text": [
      "19it [00:23,  1.24s/it]\n",
      "10it [00:14,  1.10s/it]"
     ]
    },
    {
     "name": "stdout",
     "output_type": "stream",
     "text": [
      "[44,    10] Running Loss: 3.267\n",
      "cat_loss: 0.00016551034059375525\n",
      "box_loss: 2.5433130264282227\n",
      "off_loss: 0.1283092349767685\n",
      "Mask_loss: 0.9062701463699341\n",
      "Total_Loss: 3.5780577659606934\n"
     ]
    },
    {
     "name": "stderr",
     "output_type": "stream",
     "text": [
      "19it [00:23,  1.25s/it]\n",
      "10it [00:14,  1.10s/it]"
     ]
    },
    {
     "name": "stdout",
     "output_type": "stream",
     "text": [
      "[45,    10] Running Loss: 3.372\n",
      "cat_loss: 0.0001532020978629589\n",
      "box_loss: 1.4902362823486328\n",
      "off_loss: 0.09642386436462402\n",
      "Mask_loss: 0.8746711611747742\n",
      "Total_Loss: 2.461484432220459\n"
     ]
    },
    {
     "name": "stderr",
     "output_type": "stream",
     "text": [
      "19it [00:23,  1.24s/it]\n",
      "10it [00:14,  1.09s/it]"
     ]
    },
    {
     "name": "stdout",
     "output_type": "stream",
     "text": [
      "[46,    10] Running Loss: 3.151\n",
      "cat_loss: 0.00016481033526360989\n",
      "box_loss: 1.6831837892532349\n",
      "off_loss: 0.09484125673770905\n",
      "Mask_loss: 0.8750739097595215\n",
      "Total_Loss: 2.653263807296753\n"
     ]
    },
    {
     "name": "stderr",
     "output_type": "stream",
     "text": [
      "19it [00:23,  1.24s/it]\n",
      "10it [00:14,  1.08s/it]"
     ]
    },
    {
     "name": "stdout",
     "output_type": "stream",
     "text": [
      "[47,    10] Running Loss: 2.838\n",
      "cat_loss: 0.00014233574620448053\n",
      "box_loss: 1.7707664966583252\n",
      "off_loss: 0.10964049398899078\n",
      "Mask_loss: 0.880568265914917\n",
      "Total_Loss: 2.761117458343506\n"
     ]
    },
    {
     "name": "stderr",
     "output_type": "stream",
     "text": [
      "19it [00:23,  1.23s/it]\n",
      "10it [00:14,  1.09s/it]"
     ]
    },
    {
     "name": "stdout",
     "output_type": "stream",
     "text": [
      "[48,    10] Running Loss: 2.965\n",
      "cat_loss: 0.00010745544568635523\n",
      "box_loss: 1.0338860750198364\n",
      "off_loss: 0.1013660877943039\n",
      "Mask_loss: 0.8637051582336426\n",
      "Total_Loss: 1.9990646839141846\n"
     ]
    },
    {
     "name": "stderr",
     "output_type": "stream",
     "text": [
      "19it [00:24,  1.27s/it]\n",
      "10it [00:14,  1.08s/it]"
     ]
    },
    {
     "name": "stdout",
     "output_type": "stream",
     "text": [
      "[49,    10] Running Loss: 2.590\n",
      "cat_loss: 0.0001411380071658641\n",
      "box_loss: 1.217984676361084\n",
      "off_loss: 0.07473506778478622\n",
      "Mask_loss: 0.8770992755889893\n",
      "Total_Loss: 2.1699600219726562\n"
     ]
    },
    {
     "name": "stderr",
     "output_type": "stream",
     "text": [
      "19it [00:23,  1.24s/it]\n",
      "10it [00:14,  1.09s/it]"
     ]
    },
    {
     "name": "stdout",
     "output_type": "stream",
     "text": [
      "[50,    10] Running Loss: 2.550\n",
      "cat_loss: 0.0001678584812907502\n",
      "box_loss: 1.128570318222046\n",
      "off_loss: 0.1325332373380661\n",
      "Mask_loss: 0.8853707313537598\n",
      "Total_Loss: 2.1466422080993652\n"
     ]
    },
    {
     "name": "stderr",
     "output_type": "stream",
     "text": [
      "19it [00:23,  1.24s/it]\n",
      "10it [00:14,  1.08s/it]"
     ]
    },
    {
     "name": "stdout",
     "output_type": "stream",
     "text": [
      "[51,    10] Running Loss: 2.519\n",
      "cat_loss: 0.00016233694623224437\n",
      "box_loss: 1.8780388832092285\n",
      "off_loss: 0.08233642578125\n",
      "Mask_loss: 0.9801126718521118\n",
      "Total_Loss: 2.940650463104248\n"
     ]
    },
    {
     "name": "stderr",
     "output_type": "stream",
     "text": [
      "19it [00:23,  1.24s/it]\n",
      "10it [00:14,  1.10s/it]"
     ]
    },
    {
     "name": "stdout",
     "output_type": "stream",
     "text": [
      "[52,    10] Running Loss: 2.739\n",
      "cat_loss: 0.00016360290464945138\n",
      "box_loss: 1.2702736854553223\n",
      "off_loss: 0.08596520870923996\n",
      "Mask_loss: 0.8798292875289917\n",
      "Total_Loss: 2.236231803894043\n"
     ]
    },
    {
     "name": "stderr",
     "output_type": "stream",
     "text": [
      "19it [00:23,  1.26s/it]\n",
      "10it [00:14,  1.11s/it]"
     ]
    },
    {
     "name": "stdout",
     "output_type": "stream",
     "text": [
      "[53,    10] Running Loss: 2.920\n",
      "cat_loss: 0.00015695962065365165\n",
      "box_loss: 1.57222580909729\n",
      "off_loss: 0.09876033663749695\n",
      "Mask_loss: 0.8663716316223145\n",
      "Total_Loss: 2.5375146865844727\n"
     ]
    },
    {
     "name": "stderr",
     "output_type": "stream",
     "text": [
      "19it [00:23,  1.25s/it]\n",
      "10it [00:14,  1.09s/it]"
     ]
    },
    {
     "name": "stdout",
     "output_type": "stream",
     "text": [
      "[54,    10] Running Loss: 2.568\n",
      "cat_loss: 0.000127732491819188\n",
      "box_loss: 2.0043463706970215\n",
      "off_loss: 0.09810787439346313\n",
      "Mask_loss: 0.8882926106452942\n",
      "Total_Loss: 2.9908745288848877\n"
     ]
    },
    {
     "name": "stderr",
     "output_type": "stream",
     "text": [
      "19it [00:24,  1.31s/it]\n",
      "10it [00:14,  1.11s/it]"
     ]
    },
    {
     "name": "stdout",
     "output_type": "stream",
     "text": [
      "[55,    10] Running Loss: 2.635\n",
      "cat_loss: 0.00010000600741477683\n",
      "box_loss: 1.5606385469436646\n",
      "off_loss: 0.06394857168197632\n",
      "Mask_loss: 0.8614550828933716\n",
      "Total_Loss: 2.486142158508301\n"
     ]
    },
    {
     "name": "stderr",
     "output_type": "stream",
     "text": [
      "19it [00:24,  1.27s/it]\n",
      "10it [00:14,  1.10s/it]"
     ]
    },
    {
     "name": "stdout",
     "output_type": "stream",
     "text": [
      "[56,    10] Running Loss: 2.210\n",
      "cat_loss: 0.0001148906594607979\n",
      "box_loss: 1.6054589748382568\n",
      "off_loss: 0.06946205347776413\n",
      "Mask_loss: 0.9071145057678223\n",
      "Total_Loss: 2.582150459289551\n"
     ]
    },
    {
     "name": "stderr",
     "output_type": "stream",
     "text": [
      "19it [00:24,  1.27s/it]\n",
      "10it [00:14,  1.10s/it]"
     ]
    },
    {
     "name": "stdout",
     "output_type": "stream",
     "text": [
      "[57,    10] Running Loss: 2.640\n",
      "cat_loss: 0.00014772973372600973\n",
      "box_loss: 1.8557922840118408\n",
      "off_loss: 0.07119828462600708\n",
      "Mask_loss: 0.8668763637542725\n",
      "Total_Loss: 2.7940146923065186\n"
     ]
    },
    {
     "name": "stderr",
     "output_type": "stream",
     "text": [
      "19it [00:24,  1.27s/it]\n",
      "10it [00:14,  1.10s/it]"
     ]
    },
    {
     "name": "stdout",
     "output_type": "stream",
     "text": [
      "[58,    10] Running Loss: 2.586\n",
      "cat_loss: 0.00010942080552922562\n",
      "box_loss: 1.6476876735687256\n",
      "off_loss: 0.0653470829129219\n",
      "Mask_loss: 0.8828000426292419\n",
      "Total_Loss: 2.5959441661834717\n"
     ]
    },
    {
     "name": "stderr",
     "output_type": "stream",
     "text": [
      "19it [00:23,  1.26s/it]\n",
      "10it [00:14,  1.08s/it]"
     ]
    },
    {
     "name": "stdout",
     "output_type": "stream",
     "text": [
      "[59,    10] Running Loss: 3.131\n",
      "cat_loss: 0.0001151587930507958\n",
      "box_loss: 1.5719738006591797\n",
      "off_loss: 0.08205895870923996\n",
      "Mask_loss: 0.88303542137146\n",
      "Total_Loss: 2.5371832847595215\n"
     ]
    },
    {
     "name": "stderr",
     "output_type": "stream",
     "text": [
      "19it [00:23,  1.24s/it]\n",
      "10it [00:14,  1.08s/it]"
     ]
    },
    {
     "name": "stdout",
     "output_type": "stream",
     "text": [
      "[60,    10] Running Loss: 3.032\n",
      "cat_loss: 0.00016065200907178223\n",
      "box_loss: 2.1883890628814697\n",
      "off_loss: 0.07100310921669006\n",
      "Mask_loss: 0.8893690705299377\n",
      "Total_Loss: 3.1489219665527344\n"
     ]
    },
    {
     "name": "stderr",
     "output_type": "stream",
     "text": [
      "19it [00:23,  1.25s/it]\n",
      "10it [00:14,  1.07s/it]"
     ]
    },
    {
     "name": "stdout",
     "output_type": "stream",
     "text": [
      "[61,    10] Running Loss: 3.701\n",
      "cat_loss: 0.00010558241774560884\n",
      "box_loss: 2.5039103031158447\n",
      "off_loss: 0.07157052308320999\n",
      "Mask_loss: 0.889680802822113\n",
      "Total_Loss: 3.4652674198150635\n"
     ]
    },
    {
     "name": "stderr",
     "output_type": "stream",
     "text": [
      "19it [00:23,  1.24s/it]\n",
      "10it [00:14,  1.08s/it]"
     ]
    },
    {
     "name": "stdout",
     "output_type": "stream",
     "text": [
      "[62,    10] Running Loss: 2.976\n",
      "cat_loss: 9.895704715745524e-05\n",
      "box_loss: 1.5643410682678223\n",
      "off_loss: 0.06232685595750809\n",
      "Mask_loss: 0.847923994064331\n",
      "Total_Loss: 2.4746909141540527\n"
     ]
    },
    {
     "name": "stderr",
     "output_type": "stream",
     "text": [
      "19it [00:23,  1.25s/it]\n",
      "10it [00:14,  1.09s/it]"
     ]
    },
    {
     "name": "stdout",
     "output_type": "stream",
     "text": [
      "[63,    10] Running Loss: 2.453\n",
      "cat_loss: 0.00010953278979286551\n",
      "box_loss: 1.6960785388946533\n",
      "off_loss: 0.06818502396345139\n",
      "Mask_loss: 0.8609417080879211\n",
      "Total_Loss: 2.625314712524414\n"
     ]
    },
    {
     "name": "stderr",
     "output_type": "stream",
     "text": [
      "19it [00:24,  1.28s/it]\n",
      "10it [00:14,  1.09s/it]"
     ]
    },
    {
     "name": "stdout",
     "output_type": "stream",
     "text": [
      "[64,    10] Running Loss: 2.269\n",
      "cat_loss: 0.00010979778016917408\n",
      "box_loss: 0.943964958190918\n",
      "off_loss: 0.06183502450585365\n",
      "Mask_loss: 0.8712049722671509\n",
      "Total_Loss: 1.8771147727966309\n"
     ]
    },
    {
     "name": "stderr",
     "output_type": "stream",
     "text": [
      "19it [00:23,  1.25s/it]\n",
      "10it [00:14,  1.09s/it]"
     ]
    },
    {
     "name": "stdout",
     "output_type": "stream",
     "text": [
      "[65,    10] Running Loss: 2.197\n",
      "cat_loss: 0.0001872125139925629\n",
      "box_loss: 0.9843846559524536\n",
      "off_loss: 0.06257990002632141\n",
      "Mask_loss: 0.9415767788887024\n",
      "Total_Loss: 1.9887285232543945\n"
     ]
    },
    {
     "name": "stderr",
     "output_type": "stream",
     "text": [
      "19it [00:23,  1.25s/it]\n",
      "10it [00:14,  1.09s/it]"
     ]
    },
    {
     "name": "stdout",
     "output_type": "stream",
     "text": [
      "[66,    10] Running Loss: 2.062\n",
      "cat_loss: 0.00010211447079200298\n",
      "box_loss: 1.529888391494751\n",
      "off_loss: 0.060618169605731964\n",
      "Mask_loss: 0.8581780195236206\n",
      "Total_Loss: 2.448786735534668\n"
     ]
    },
    {
     "name": "stderr",
     "output_type": "stream",
     "text": [
      "19it [00:23,  1.25s/it]\n",
      "10it [00:14,  1.09s/it]"
     ]
    },
    {
     "name": "stdout",
     "output_type": "stream",
     "text": [
      "[67,    10] Running Loss: 2.076\n",
      "cat_loss: 7.552337774541229e-05\n",
      "box_loss: 1.3575785160064697\n",
      "off_loss: 0.04634394869208336\n",
      "Mask_loss: 0.8521831035614014\n",
      "Total_Loss: 2.256181240081787\n"
     ]
    },
    {
     "name": "stderr",
     "output_type": "stream",
     "text": [
      "19it [00:23,  1.24s/it]\n",
      "10it [00:14,  1.07s/it]"
     ]
    },
    {
     "name": "stdout",
     "output_type": "stream",
     "text": [
      "[68,    10] Running Loss: 2.985\n",
      "cat_loss: 7.510001887567341e-05\n",
      "box_loss: 2.3936855792999268\n",
      "off_loss: 0.06061340495944023\n",
      "Mask_loss: 0.8471542000770569\n",
      "Total_Loss: 3.301528215408325\n"
     ]
    },
    {
     "name": "stderr",
     "output_type": "stream",
     "text": [
      "19it [00:23,  1.24s/it]\n",
      "10it [00:14,  1.10s/it]"
     ]
    },
    {
     "name": "stdout",
     "output_type": "stream",
     "text": [
      "[69,    10] Running Loss: 6.672\n",
      "cat_loss: 8.699542377144098e-05\n",
      "box_loss: 4.105287551879883\n",
      "off_loss: 0.06807765364646912\n",
      "Mask_loss: 0.9057155251502991\n",
      "Total_Loss: 5.079167366027832\n"
     ]
    },
    {
     "name": "stderr",
     "output_type": "stream",
     "text": [
      "19it [00:23,  1.26s/it]\n",
      "10it [00:14,  1.16s/it]"
     ]
    },
    {
     "name": "stdout",
     "output_type": "stream",
     "text": [
      "[70,    10] Running Loss: 9.024\n",
      "cat_loss: 0.00010820418538060039\n",
      "box_loss: 6.461038589477539\n",
      "off_loss: 0.09019602835178375\n",
      "Mask_loss: 0.8645913600921631\n",
      "Total_Loss: 7.4159345626831055\n"
     ]
    },
    {
     "name": "stderr",
     "output_type": "stream",
     "text": [
      "19it [00:24,  1.27s/it]\n",
      "10it [00:14,  1.10s/it]"
     ]
    },
    {
     "name": "stdout",
     "output_type": "stream",
     "text": [
      "[71,    10] Running Loss: 3.467\n",
      "cat_loss: 0.00012062185851391405\n",
      "box_loss: 2.31394100189209\n",
      "off_loss: 0.07966019213199615\n",
      "Mask_loss: 0.869777262210846\n",
      "Total_Loss: 3.2634990215301514\n"
     ]
    },
    {
     "name": "stderr",
     "output_type": "stream",
     "text": [
      "19it [00:23,  1.26s/it]\n",
      "10it [00:14,  1.09s/it]"
     ]
    },
    {
     "name": "stdout",
     "output_type": "stream",
     "text": [
      "[72,    10] Running Loss: 3.066\n",
      "cat_loss: 7.490500138374045e-05\n",
      "box_loss: 2.137096643447876\n",
      "off_loss: 0.08872587978839874\n",
      "Mask_loss: 0.8657628297805786\n",
      "Total_Loss: 3.0916600227355957\n"
     ]
    },
    {
     "name": "stderr",
     "output_type": "stream",
     "text": [
      "19it [00:23,  1.26s/it]\n",
      "10it [00:14,  1.09s/it]"
     ]
    },
    {
     "name": "stdout",
     "output_type": "stream",
     "text": [
      "[73,    10] Running Loss: 2.579\n",
      "cat_loss: 0.00012216210598126054\n",
      "box_loss: 1.3365730047225952\n",
      "off_loss: 0.0779472067952156\n",
      "Mask_loss: 0.8822901248931885\n",
      "Total_Loss: 2.2969326972961426\n"
     ]
    },
    {
     "name": "stderr",
     "output_type": "stream",
     "text": [
      "19it [00:23,  1.25s/it]\n",
      "10it [00:14,  1.08s/it]"
     ]
    },
    {
     "name": "stdout",
     "output_type": "stream",
     "text": [
      "[74,    10] Running Loss: 3.080\n",
      "cat_loss: 9.123221389017999e-05\n",
      "box_loss: 1.2552623748779297\n",
      "off_loss: 0.07715107500553131\n",
      "Mask_loss: 0.8657416105270386\n",
      "Total_Loss: 2.1982462406158447\n"
     ]
    },
    {
     "name": "stderr",
     "output_type": "stream",
     "text": [
      "19it [00:23,  1.25s/it]\n",
      "10it [00:14,  1.08s/it]"
     ]
    },
    {
     "name": "stdout",
     "output_type": "stream",
     "text": [
      "[75,    10] Running Loss: 2.281\n",
      "cat_loss: 0.000110164939542301\n",
      "box_loss: 1.0274919271469116\n",
      "off_loss: 0.06860008835792542\n",
      "Mask_loss: 0.8940040469169617\n",
      "Total_Loss: 1.990206241607666\n"
     ]
    },
    {
     "name": "stderr",
     "output_type": "stream",
     "text": [
      "19it [00:23,  1.24s/it]\n",
      "10it [00:14,  1.09s/it]"
     ]
    },
    {
     "name": "stdout",
     "output_type": "stream",
     "text": [
      "[76,    10] Running Loss: 2.254\n",
      "cat_loss: 0.00010853334970306605\n",
      "box_loss: 1.4539506435394287\n",
      "off_loss: 0.05999225005507469\n",
      "Mask_loss: 0.8638599514961243\n",
      "Total_Loss: 2.377911329269409\n"
     ]
    },
    {
     "name": "stderr",
     "output_type": "stream",
     "text": [
      "19it [00:23,  1.25s/it]\n",
      "10it [00:14,  1.06s/it]"
     ]
    },
    {
     "name": "stdout",
     "output_type": "stream",
     "text": [
      "[77,    10] Running Loss: 1.979\n",
      "cat_loss: 9.944289922714233e-05\n",
      "box_loss: 1.630948543548584\n",
      "off_loss: 0.06749102473258972\n",
      "Mask_loss: 0.877178966999054\n",
      "Total_Loss: 2.5757179260253906\n"
     ]
    },
    {
     "name": "stderr",
     "output_type": "stream",
     "text": [
      "19it [00:23,  1.24s/it]\n",
      "10it [00:14,  1.08s/it]"
     ]
    },
    {
     "name": "stdout",
     "output_type": "stream",
     "text": [
      "[78,    10] Running Loss: 2.146\n",
      "cat_loss: 0.00011242162145208567\n",
      "box_loss: 1.0561795234680176\n",
      "off_loss: 0.04770280048251152\n",
      "Mask_loss: 0.8728563785552979\n",
      "Total_Loss: 1.9768511056900024\n"
     ]
    },
    {
     "name": "stderr",
     "output_type": "stream",
     "text": [
      "19it [00:23,  1.25s/it]\n",
      "10it [00:14,  1.08s/it]"
     ]
    },
    {
     "name": "stdout",
     "output_type": "stream",
     "text": [
      "[79,    10] Running Loss: 2.942\n",
      "cat_loss: 0.00012145079381298274\n",
      "box_loss: 1.362931489944458\n",
      "off_loss: 0.05455661937594414\n",
      "Mask_loss: 0.8832912445068359\n",
      "Total_Loss: 2.300900936126709\n"
     ]
    },
    {
     "name": "stderr",
     "output_type": "stream",
     "text": [
      "19it [00:23,  1.24s/it]\n",
      "10it [00:14,  1.10s/it]"
     ]
    },
    {
     "name": "stdout",
     "output_type": "stream",
     "text": [
      "[80,    10] Running Loss: 2.651\n",
      "cat_loss: 0.00010861185000976548\n",
      "box_loss: 1.7749075889587402\n",
      "off_loss: 0.05109529197216034\n",
      "Mask_loss: 0.8816137313842773\n",
      "Total_Loss: 2.7077250480651855\n"
     ]
    },
    {
     "name": "stderr",
     "output_type": "stream",
     "text": [
      "19it [00:24,  1.28s/it]\n",
      "10it [00:14,  1.10s/it]"
     ]
    },
    {
     "name": "stdout",
     "output_type": "stream",
     "text": [
      "[81,    10] Running Loss: 2.273\n",
      "cat_loss: 0.00010987984569510445\n",
      "box_loss: 1.1896092891693115\n",
      "off_loss: 0.05631208419799805\n",
      "Mask_loss: 0.8901830315589905\n",
      "Total_Loss: 2.136214256286621\n"
     ]
    },
    {
     "name": "stderr",
     "output_type": "stream",
     "text": [
      "19it [00:23,  1.24s/it]\n",
      "10it [00:14,  1.08s/it]"
     ]
    },
    {
     "name": "stdout",
     "output_type": "stream",
     "text": [
      "[82,    10] Running Loss: 2.170\n",
      "cat_loss: 9.852838411461562e-05\n",
      "box_loss: 0.9745815992355347\n",
      "off_loss: 0.050129663199186325\n",
      "Mask_loss: 0.8370419144630432\n",
      "Total_Loss: 1.861851692199707\n"
     ]
    },
    {
     "name": "stderr",
     "output_type": "stream",
     "text": [
      "19it [00:23,  1.25s/it]\n",
      "10it [00:14,  1.10s/it]"
     ]
    },
    {
     "name": "stdout",
     "output_type": "stream",
     "text": [
      "[83,    10] Running Loss: 1.853\n",
      "cat_loss: 9.623651567380875e-05\n",
      "box_loss: 1.004394769668579\n",
      "off_loss: 0.048949871212244034\n",
      "Mask_loss: 0.8729972839355469\n",
      "Total_Loss: 1.9264380931854248\n"
     ]
    },
    {
     "name": "stderr",
     "output_type": "stream",
     "text": [
      "19it [00:23,  1.25s/it]\n",
      "10it [00:14,  1.09s/it]"
     ]
    },
    {
     "name": "stdout",
     "output_type": "stream",
     "text": [
      "[84,    10] Running Loss: 2.465\n",
      "cat_loss: 0.0001090870428015478\n",
      "box_loss: 1.3990392684936523\n",
      "off_loss: 0.04453481733798981\n",
      "Mask_loss: 0.8733711242675781\n",
      "Total_Loss: 2.317054271697998\n"
     ]
    },
    {
     "name": "stderr",
     "output_type": "stream",
     "text": [
      "19it [00:24,  1.27s/it]\n",
      "10it [00:14,  1.13s/it]"
     ]
    },
    {
     "name": "stdout",
     "output_type": "stream",
     "text": [
      "[85,    10] Running Loss: 2.081\n",
      "cat_loss: 0.00013001158367842436\n",
      "box_loss: 0.8785961866378784\n",
      "off_loss: 0.05090215429663658\n",
      "Mask_loss: 0.9284435510635376\n",
      "Total_Loss: 1.8580718040466309\n"
     ]
    },
    {
     "name": "stderr",
     "output_type": "stream",
     "text": [
      "19it [00:23,  1.26s/it]\n",
      "10it [00:14,  1.10s/it]"
     ]
    },
    {
     "name": "stdout",
     "output_type": "stream",
     "text": [
      "[86,    10] Running Loss: 2.520\n",
      "cat_loss: 0.0001009990373859182\n",
      "box_loss: 1.08457350730896\n",
      "off_loss: 0.05254470556974411\n",
      "Mask_loss: 0.9273799061775208\n",
      "Total_Loss: 2.06459903717041\n"
     ]
    },
    {
     "name": "stderr",
     "output_type": "stream",
     "text": [
      "19it [00:23,  1.26s/it]\n",
      "10it [00:14,  1.10s/it]"
     ]
    },
    {
     "name": "stdout",
     "output_type": "stream",
     "text": [
      "[87,    10] Running Loss: 2.636\n",
      "cat_loss: 0.00012010711361654103\n",
      "box_loss: 1.454943060874939\n",
      "off_loss: 0.057902269065380096\n",
      "Mask_loss: 0.8879197239875793\n",
      "Total_Loss: 2.4008851051330566\n"
     ]
    },
    {
     "name": "stderr",
     "output_type": "stream",
     "text": [
      "19it [00:24,  1.26s/it]\n",
      "10it [00:14,  1.09s/it]"
     ]
    },
    {
     "name": "stdout",
     "output_type": "stream",
     "text": [
      "[88,    10] Running Loss: 2.121\n",
      "cat_loss: 8.17860709503293e-05\n",
      "box_loss: 0.739151120185852\n",
      "off_loss: 0.04299837723374367\n",
      "Mask_loss: 0.8558028936386108\n",
      "Total_Loss: 1.6380341053009033\n"
     ]
    },
    {
     "name": "stderr",
     "output_type": "stream",
     "text": [
      "19it [00:24,  1.26s/it]\n",
      "10it [00:14,  1.09s/it]"
     ]
    },
    {
     "name": "stdout",
     "output_type": "stream",
     "text": [
      "[89,    10] Running Loss: 2.081\n",
      "cat_loss: 7.901201024651527e-05\n",
      "box_loss: 2.345489025115967\n",
      "off_loss: 0.04171926900744438\n",
      "Mask_loss: 0.8533860445022583\n",
      "Total_Loss: 3.240673065185547\n"
     ]
    },
    {
     "name": "stderr",
     "output_type": "stream",
     "text": [
      "19it [00:23,  1.26s/it]\n",
      "10it [00:14,  1.09s/it]"
     ]
    },
    {
     "name": "stdout",
     "output_type": "stream",
     "text": [
      "[90,    10] Running Loss: 2.916\n",
      "cat_loss: 8.679291931912303e-05\n",
      "box_loss: 0.9451702237129211\n",
      "off_loss: 0.04012136906385422\n",
      "Mask_loss: 0.8583024740219116\n",
      "Total_Loss: 1.8436808586120605\n"
     ]
    },
    {
     "name": "stderr",
     "output_type": "stream",
     "text": [
      "19it [00:23,  1.26s/it]\n",
      "10it [00:14,  1.09s/it]"
     ]
    },
    {
     "name": "stdout",
     "output_type": "stream",
     "text": [
      "[91,    10] Running Loss: 2.586\n",
      "cat_loss: 9.113461419474334e-05\n",
      "box_loss: 0.9349545240402222\n",
      "off_loss: 0.04519367218017578\n",
      "Mask_loss: 0.8649709820747375\n",
      "Total_Loss: 1.845210313796997\n"
     ]
    },
    {
     "name": "stderr",
     "output_type": "stream",
     "text": [
      "19it [00:23,  1.25s/it]\n",
      "10it [00:14,  1.08s/it]"
     ]
    },
    {
     "name": "stdout",
     "output_type": "stream",
     "text": [
      "[92,    10] Running Loss: 2.102\n",
      "cat_loss: 9.353725909022614e-05\n",
      "box_loss: 1.5070960521697998\n",
      "off_loss: 0.06016333028674126\n",
      "Mask_loss: 0.8506793975830078\n",
      "Total_Loss: 2.41803240776062\n"
     ]
    },
    {
     "name": "stderr",
     "output_type": "stream",
     "text": [
      "19it [00:23,  1.26s/it]\n",
      "10it [00:14,  1.12s/it]"
     ]
    },
    {
     "name": "stdout",
     "output_type": "stream",
     "text": [
      "[93,    10] Running Loss: 2.661\n",
      "cat_loss: 9.085229248739779e-05\n",
      "box_loss: 1.4742941856384277\n",
      "off_loss: 0.04695631191134453\n",
      "Mask_loss: 0.8808574080467224\n",
      "Total_Loss: 2.4021987915039062\n"
     ]
    },
    {
     "name": "stderr",
     "output_type": "stream",
     "text": [
      "19it [00:23,  1.26s/it]\n",
      "10it [00:14,  1.09s/it]"
     ]
    },
    {
     "name": "stdout",
     "output_type": "stream",
     "text": [
      "[94,    10] Running Loss: 2.213\n",
      "cat_loss: 6.815981032559648e-05\n",
      "box_loss: 1.976086974143982\n",
      "off_loss: 0.04218465834856033\n",
      "Mask_loss: 0.8632224202156067\n",
      "Total_Loss: 2.8815622329711914\n"
     ]
    },
    {
     "name": "stderr",
     "output_type": "stream",
     "text": [
      "19it [00:23,  1.25s/it]\n",
      "10it [00:14,  1.09s/it]"
     ]
    },
    {
     "name": "stdout",
     "output_type": "stream",
     "text": [
      "[95,    10] Running Loss: 2.355\n",
      "cat_loss: 9.814207442104816e-05\n",
      "box_loss: 0.9312188625335693\n",
      "off_loss: 0.03898889198899269\n",
      "Mask_loss: 0.8792797923088074\n",
      "Total_Loss: 1.849585771560669\n"
     ]
    },
    {
     "name": "stderr",
     "output_type": "stream",
     "text": [
      "19it [00:23,  1.25s/it]\n",
      "10it [00:14,  1.09s/it]"
     ]
    },
    {
     "name": "stdout",
     "output_type": "stream",
     "text": [
      "[96,    10] Running Loss: 2.422\n",
      "cat_loss: 9.762663103174418e-05\n",
      "box_loss: 1.8263978958129883\n",
      "off_loss: 0.056559138000011444\n",
      "Mask_loss: 0.8977917432785034\n",
      "Total_Loss: 2.780846357345581\n"
     ]
    },
    {
     "name": "stderr",
     "output_type": "stream",
     "text": [
      "19it [00:23,  1.26s/it]\n",
      "10it [00:14,  1.11s/it]"
     ]
    },
    {
     "name": "stdout",
     "output_type": "stream",
     "text": [
      "[97,    10] Running Loss: 2.685\n",
      "cat_loss: 9.455009421799332e-05\n",
      "box_loss: 2.3076353073120117\n",
      "off_loss: 0.049296870827674866\n",
      "Mask_loss: 0.8731439113616943\n",
      "Total_Loss: 3.230170726776123\n"
     ]
    },
    {
     "name": "stderr",
     "output_type": "stream",
     "text": [
      "19it [00:24,  1.27s/it]\n",
      "10it [00:14,  1.08s/it]"
     ]
    },
    {
     "name": "stdout",
     "output_type": "stream",
     "text": [
      "[98,    10] Running Loss: 2.712\n",
      "cat_loss: 8.767277176957577e-05\n",
      "box_loss: 1.7201193571090698\n",
      "off_loss: 0.05307072773575783\n",
      "Mask_loss: 0.8484044075012207\n",
      "Total_Loss: 2.6216821670532227\n"
     ]
    },
    {
     "name": "stderr",
     "output_type": "stream",
     "text": [
      "19it [00:23,  1.25s/it]\n",
      "10it [00:14,  1.09s/it]"
     ]
    },
    {
     "name": "stdout",
     "output_type": "stream",
     "text": [
      "[99,    10] Running Loss: 2.959\n",
      "cat_loss: 6.868226046208292e-05\n",
      "box_loss: 1.685562252998352\n",
      "off_loss: 0.05552107095718384\n",
      "Mask_loss: 0.8538206219673157\n",
      "Total_Loss: 2.594972610473633\n"
     ]
    },
    {
     "name": "stderr",
     "output_type": "stream",
     "text": [
      "19it [00:23,  1.26s/it]\n",
      "10it [00:14,  1.11s/it]"
     ]
    },
    {
     "name": "stdout",
     "output_type": "stream",
     "text": [
      "[100,    10] Running Loss: 3.389\n",
      "cat_loss: 8.52775847306475e-05\n",
      "box_loss: 1.8421072959899902\n",
      "off_loss: 0.042904436588287354\n",
      "Mask_loss: 0.8656664490699768\n",
      "Total_Loss: 2.750763416290283\n"
     ]
    },
    {
     "name": "stderr",
     "output_type": "stream",
     "text": [
      "19it [00:24,  1.28s/it]\n",
      "10it [00:14,  1.07s/it]"
     ]
    },
    {
     "name": "stdout",
     "output_type": "stream",
     "text": [
      "[101,    10] Running Loss: 3.439\n",
      "cat_loss: 5.807833804283291e-05\n",
      "box_loss: 3.893354892730713\n",
      "off_loss: 0.05986226722598076\n",
      "Mask_loss: 0.8433187007904053\n",
      "Total_Loss: 4.796594142913818\n"
     ]
    },
    {
     "name": "stderr",
     "output_type": "stream",
     "text": [
      "19it [00:23,  1.26s/it]\n",
      "10it [00:14,  1.09s/it]"
     ]
    },
    {
     "name": "stdout",
     "output_type": "stream",
     "text": [
      "[102,    10] Running Loss: 3.345\n",
      "cat_loss: 0.00010674836084945127\n",
      "box_loss: 2.904113292694092\n",
      "off_loss: 0.05647819861769676\n",
      "Mask_loss: 0.8844613432884216\n",
      "Total_Loss: 3.8451597690582275\n"
     ]
    },
    {
     "name": "stderr",
     "output_type": "stream",
     "text": [
      "19it [00:23,  1.25s/it]\n",
      "10it [00:14,  1.10s/it]"
     ]
    },
    {
     "name": "stdout",
     "output_type": "stream",
     "text": [
      "[103,    10] Running Loss: 2.982\n",
      "cat_loss: 8.244739728979766e-05\n",
      "box_loss: 2.070801019668579\n",
      "off_loss: 0.0738060399889946\n",
      "Mask_loss: 0.8527570366859436\n",
      "Total_Loss: 2.9974465370178223\n"
     ]
    },
    {
     "name": "stderr",
     "output_type": "stream",
     "text": [
      "19it [00:23,  1.26s/it]\n",
      "10it [00:14,  1.09s/it]"
     ]
    },
    {
     "name": "stdout",
     "output_type": "stream",
     "text": [
      "[104,    10] Running Loss: 2.717\n",
      "cat_loss: 7.577581709483638e-05\n",
      "box_loss: 1.3795409202575684\n",
      "off_loss: 0.049848686903715134\n",
      "Mask_loss: 0.8712280988693237\n",
      "Total_Loss: 2.3006935119628906\n"
     ]
    },
    {
     "name": "stderr",
     "output_type": "stream",
     "text": [
      "19it [00:23,  1.24s/it]\n",
      "10it [00:14,  1.11s/it]"
     ]
    },
    {
     "name": "stdout",
     "output_type": "stream",
     "text": [
      "[105,    10] Running Loss: 2.822\n",
      "cat_loss: 7.942136289784685e-05\n",
      "box_loss: 1.3008241653442383\n",
      "off_loss: 0.07787670195102692\n",
      "Mask_loss: 0.8691223859786987\n",
      "Total_Loss: 2.2479026317596436\n"
     ]
    },
    {
     "name": "stderr",
     "output_type": "stream",
     "text": [
      "19it [00:24,  1.27s/it]\n",
      "10it [00:14,  1.09s/it]"
     ]
    },
    {
     "name": "stdout",
     "output_type": "stream",
     "text": [
      "[106,    10] Running Loss: 3.031\n",
      "cat_loss: 8.981847349787131e-05\n",
      "box_loss: 1.8730671405792236\n",
      "off_loss: 0.05355009064078331\n",
      "Mask_loss: 0.8822159171104431\n",
      "Total_Loss: 2.8089230060577393\n"
     ]
    },
    {
     "name": "stderr",
     "output_type": "stream",
     "text": [
      "19it [00:24,  1.26s/it]\n",
      "10it [00:14,  1.08s/it]"
     ]
    },
    {
     "name": "stdout",
     "output_type": "stream",
     "text": [
      "[107,    10] Running Loss: 2.316\n",
      "cat_loss: 0.00011303887004032731\n",
      "box_loss: 0.9614978432655334\n",
      "off_loss: 0.0400821827352047\n",
      "Mask_loss: 0.8884795904159546\n",
      "Total_Loss: 1.8901726007461548\n"
     ]
    },
    {
     "name": "stderr",
     "output_type": "stream",
     "text": [
      "19it [00:24,  1.27s/it]\n",
      "10it [00:14,  1.07s/it]"
     ]
    },
    {
     "name": "stdout",
     "output_type": "stream",
     "text": [
      "[108,    10] Running Loss: 1.959\n",
      "cat_loss: 8.231491665355861e-05\n",
      "box_loss: 1.5202643871307373\n",
      "off_loss: 0.07299710810184479\n",
      "Mask_loss: 0.8716902136802673\n",
      "Total_Loss: 2.465034008026123\n"
     ]
    },
    {
     "name": "stderr",
     "output_type": "stream",
     "text": [
      "19it [00:23,  1.26s/it]\n",
      "10it [00:14,  1.08s/it]"
     ]
    },
    {
     "name": "stdout",
     "output_type": "stream",
     "text": [
      "[109,    10] Running Loss: 1.987\n",
      "cat_loss: 5.7907134760171175e-05\n",
      "box_loss: 0.6654310822486877\n",
      "off_loss: 0.04476097598671913\n",
      "Mask_loss: 0.8624094128608704\n",
      "Total_Loss: 1.5726594924926758\n"
     ]
    },
    {
     "name": "stderr",
     "output_type": "stream",
     "text": [
      "19it [00:23,  1.25s/it]\n",
      "10it [00:14,  1.10s/it]"
     ]
    },
    {
     "name": "stdout",
     "output_type": "stream",
     "text": [
      "[110,    10] Running Loss: 1.908\n",
      "cat_loss: 6.82408208376728e-05\n",
      "box_loss: 1.193774938583374\n",
      "off_loss: 0.06386170536279678\n",
      "Mask_loss: 0.9041720628738403\n",
      "Total_Loss: 2.161876916885376\n"
     ]
    },
    {
     "name": "stderr",
     "output_type": "stream",
     "text": [
      "19it [00:23,  1.26s/it]\n",
      "10it [00:14,  1.08s/it]"
     ]
    },
    {
     "name": "stdout",
     "output_type": "stream",
     "text": [
      "[111,    10] Running Loss: 1.942\n",
      "cat_loss: 7.606674626003951e-05\n",
      "box_loss: 0.7129189372062683\n",
      "off_loss: 0.041109349578619\n",
      "Mask_loss: 0.8479989767074585\n",
      "Total_Loss: 1.6021032333374023\n"
     ]
    },
    {
     "name": "stderr",
     "output_type": "stream",
     "text": [
      "19it [00:23,  1.25s/it]\n",
      "10it [00:14,  1.09s/it]"
     ]
    },
    {
     "name": "stdout",
     "output_type": "stream",
     "text": [
      "[112,    10] Running Loss: 1.742\n",
      "cat_loss: 4.604938658303581e-05\n",
      "box_loss: 1.1762460470199585\n",
      "off_loss: 0.04231499135494232\n",
      "Mask_loss: 0.8737377524375916\n",
      "Total_Loss: 2.0923447608947754\n"
     ]
    },
    {
     "name": "stderr",
     "output_type": "stream",
     "text": [
      "19it [00:23,  1.26s/it]\n",
      "10it [00:14,  1.08s/it]"
     ]
    },
    {
     "name": "stdout",
     "output_type": "stream",
     "text": [
      "[113,    10] Running Loss: 1.879\n",
      "cat_loss: 6.863073213025928e-05\n",
      "box_loss: 0.7570459842681885\n",
      "off_loss: 0.02663017250597477\n",
      "Mask_loss: 0.8981627821922302\n",
      "Total_Loss: 1.6819075345993042\n"
     ]
    },
    {
     "name": "stderr",
     "output_type": "stream",
     "text": [
      "19it [00:23,  1.24s/it]\n",
      "10it [00:14,  1.09s/it]"
     ]
    },
    {
     "name": "stdout",
     "output_type": "stream",
     "text": [
      "[114,    10] Running Loss: 2.119\n",
      "cat_loss: 5.192308162804693e-05\n",
      "box_loss: 0.748137354850769\n",
      "off_loss: 0.03979772329330444\n",
      "Mask_loss: 0.854286253452301\n",
      "Total_Loss: 1.642273187637329\n"
     ]
    },
    {
     "name": "stderr",
     "output_type": "stream",
     "text": [
      "19it [00:23,  1.25s/it]\n",
      "10it [00:14,  1.10s/it]"
     ]
    },
    {
     "name": "stdout",
     "output_type": "stream",
     "text": [
      "[115,    10] Running Loss: 1.965\n",
      "cat_loss: 7.75220978539437e-05\n",
      "box_loss: 1.948606014251709\n",
      "off_loss: 0.042686108499765396\n",
      "Mask_loss: 0.8687847256660461\n",
      "Total_Loss: 2.860154390335083\n"
     ]
    },
    {
     "name": "stderr",
     "output_type": "stream",
     "text": [
      "19it [00:24,  1.27s/it]\n",
      "10it [00:14,  1.08s/it]"
     ]
    },
    {
     "name": "stdout",
     "output_type": "stream",
     "text": [
      "[116,    10] Running Loss: 1.842\n",
      "cat_loss: 9.552064875606447e-05\n",
      "box_loss: 1.028186321258545\n",
      "off_loss: 0.0320405438542366\n",
      "Mask_loss: 0.87199866771698\n",
      "Total_Loss: 1.9323210716247559\n"
     ]
    },
    {
     "name": "stderr",
     "output_type": "stream",
     "text": [
      "19it [00:23,  1.25s/it]\n",
      "10it [00:14,  1.09s/it]"
     ]
    },
    {
     "name": "stdout",
     "output_type": "stream",
     "text": [
      "[117,    10] Running Loss: 2.435\n",
      "cat_loss: 0.00010041378845926374\n",
      "box_loss: 0.5824159979820251\n",
      "off_loss: 0.04524845629930496\n",
      "Mask_loss: 0.8614271879196167\n",
      "Total_Loss: 1.489192008972168\n"
     ]
    },
    {
     "name": "stderr",
     "output_type": "stream",
     "text": [
      "19it [00:23,  1.25s/it]\n",
      "10it [00:14,  1.08s/it]"
     ]
    },
    {
     "name": "stdout",
     "output_type": "stream",
     "text": [
      "[118,    10] Running Loss: 1.954\n",
      "cat_loss: 6.864221359137446e-05\n",
      "box_loss: 0.7153286337852478\n",
      "off_loss: 0.04138908162713051\n",
      "Mask_loss: 0.8957146406173706\n",
      "Total_Loss: 1.652501106262207\n"
     ]
    },
    {
     "name": "stderr",
     "output_type": "stream",
     "text": [
      "19it [00:23,  1.24s/it]\n",
      "10it [00:14,  1.08s/it]"
     ]
    },
    {
     "name": "stdout",
     "output_type": "stream",
     "text": [
      "[119,    10] Running Loss: 1.676\n",
      "cat_loss: 5.5305950809270144e-05\n",
      "box_loss: 0.9039338827133179\n",
      "off_loss: 0.030848216265439987\n",
      "Mask_loss: 0.8756802082061768\n",
      "Total_Loss: 1.8105175495147705\n"
     ]
    },
    {
     "name": "stderr",
     "output_type": "stream",
     "text": [
      "19it [00:23,  1.26s/it]\n",
      "10it [00:14,  1.11s/it]"
     ]
    },
    {
     "name": "stdout",
     "output_type": "stream",
     "text": [
      "[120,    10] Running Loss: 1.738\n",
      "cat_loss: 0.00010151012247661129\n",
      "box_loss: 0.9168748259544373\n",
      "off_loss: 0.049562469124794006\n",
      "Mask_loss: 0.860634446144104\n",
      "Total_Loss: 1.8271732330322266\n"
     ]
    },
    {
     "name": "stderr",
     "output_type": "stream",
     "text": [
      "19it [00:23,  1.25s/it]\n",
      "10it [00:14,  1.10s/it]"
     ]
    },
    {
     "name": "stdout",
     "output_type": "stream",
     "text": [
      "[121,    10] Running Loss: 1.708\n",
      "cat_loss: 8.494900248479098e-05\n",
      "box_loss: 0.75534987449646\n",
      "off_loss: 0.03533317893743515\n",
      "Mask_loss: 0.8515244722366333\n",
      "Total_Loss: 1.6422924995422363\n"
     ]
    },
    {
     "name": "stderr",
     "output_type": "stream",
     "text": [
      "19it [00:24,  1.26s/it]\n",
      "10it [00:14,  1.10s/it]"
     ]
    },
    {
     "name": "stdout",
     "output_type": "stream",
     "text": [
      "[122,    10] Running Loss: 1.647\n",
      "cat_loss: 0.00010177982039749622\n",
      "box_loss: 0.8101871013641357\n",
      "off_loss: 0.03947625309228897\n",
      "Mask_loss: 0.8856207132339478\n",
      "Total_Loss: 1.7353858947753906\n"
     ]
    },
    {
     "name": "stderr",
     "output_type": "stream",
     "text": [
      "19it [00:24,  1.27s/it]\n",
      "10it [00:14,  1.10s/it]"
     ]
    },
    {
     "name": "stdout",
     "output_type": "stream",
     "text": [
      "[123,    10] Running Loss: 2.006\n",
      "cat_loss: 9.214649617206305e-05\n",
      "box_loss: 0.4988298714160919\n",
      "off_loss: 0.044853419065475464\n",
      "Mask_loss: 0.8694486021995544\n",
      "Total_Loss: 1.4132239818572998\n"
     ]
    },
    {
     "name": "stderr",
     "output_type": "stream",
     "text": [
      "19it [00:23,  1.26s/it]\n",
      "10it [00:14,  1.10s/it]"
     ]
    },
    {
     "name": "stdout",
     "output_type": "stream",
     "text": [
      "[124,    10] Running Loss: 1.618\n",
      "cat_loss: 7.469043339369819e-05\n",
      "box_loss: 0.46136975288391113\n",
      "off_loss: 0.03602011874318123\n",
      "Mask_loss: 0.8595904111862183\n",
      "Total_Loss: 1.3570549488067627\n"
     ]
    },
    {
     "name": "stderr",
     "output_type": "stream",
     "text": [
      "19it [00:23,  1.26s/it]\n",
      "10it [00:14,  1.10s/it]"
     ]
    },
    {
     "name": "stdout",
     "output_type": "stream",
     "text": [
      "[125,    10] Running Loss: 1.616\n",
      "cat_loss: 4.509077189140953e-05\n",
      "box_loss: 0.8844887018203735\n",
      "off_loss: 0.04014372080564499\n",
      "Mask_loss: 0.879555881023407\n",
      "Total_Loss: 1.8042333126068115\n"
     ]
    },
    {
     "name": "stderr",
     "output_type": "stream",
     "text": [
      "19it [00:23,  1.25s/it]\n",
      "10it [00:14,  1.07s/it]"
     ]
    },
    {
     "name": "stdout",
     "output_type": "stream",
     "text": [
      "[126,    10] Running Loss: 1.649\n",
      "cat_loss: 5.7711455156095326e-05\n",
      "box_loss: 0.6332666873931885\n",
      "off_loss: 0.05559185892343521\n",
      "Mask_loss: 0.8863765001296997\n",
      "Total_Loss: 1.5752928256988525\n"
     ]
    },
    {
     "name": "stderr",
     "output_type": "stream",
     "text": [
      "19it [00:23,  1.25s/it]\n",
      "10it [00:14,  1.09s/it]"
     ]
    },
    {
     "name": "stdout",
     "output_type": "stream",
     "text": [
      "[127,    10] Running Loss: 1.437\n",
      "cat_loss: 7.564050611108541e-05\n",
      "box_loss: 0.3804816007614136\n",
      "off_loss: 0.03468356654047966\n",
      "Mask_loss: 0.874349057674408\n",
      "Total_Loss: 1.2895898818969727\n"
     ]
    },
    {
     "name": "stderr",
     "output_type": "stream",
     "text": [
      "19it [00:23,  1.24s/it]\n",
      "10it [00:14,  1.09s/it]"
     ]
    },
    {
     "name": "stdout",
     "output_type": "stream",
     "text": [
      "[128,    10] Running Loss: 1.507\n",
      "cat_loss: 5.3610339818987995e-05\n",
      "box_loss: 0.5503438711166382\n",
      "off_loss: 0.029877733439207077\n",
      "Mask_loss: 0.8681449890136719\n",
      "Total_Loss: 1.4484201669692993\n"
     ]
    },
    {
     "name": "stderr",
     "output_type": "stream",
     "text": [
      "19it [00:23,  1.26s/it]\n",
      "10it [00:14,  1.09s/it]"
     ]
    },
    {
     "name": "stdout",
     "output_type": "stream",
     "text": [
      "[129,    10] Running Loss: 1.533\n",
      "cat_loss: 8.19734123069793e-05\n",
      "box_loss: 0.6770802736282349\n",
      "off_loss: 0.034446608275175095\n",
      "Mask_loss: 0.8627369403839111\n",
      "Total_Loss: 1.5743458271026611\n"
     ]
    },
    {
     "name": "stderr",
     "output_type": "stream",
     "text": [
      "19it [00:23,  1.25s/it]\n",
      "10it [00:14,  1.10s/it]"
     ]
    },
    {
     "name": "stdout",
     "output_type": "stream",
     "text": [
      "[130,    10] Running Loss: 1.690\n",
      "cat_loss: 3.362879215274006e-05\n",
      "box_loss: 0.6053693890571594\n",
      "off_loss: 0.03235197439789772\n",
      "Mask_loss: 0.8879318237304688\n",
      "Total_Loss: 1.5256867408752441\n"
     ]
    },
    {
     "name": "stderr",
     "output_type": "stream",
     "text": [
      "19it [00:24,  1.29s/it]\n",
      "10it [00:14,  1.10s/it]"
     ]
    },
    {
     "name": "stdout",
     "output_type": "stream",
     "text": [
      "[131,    10] Running Loss: 1.539\n",
      "cat_loss: 5.712674465030432e-05\n",
      "box_loss: 0.6740583181381226\n",
      "off_loss: 0.02920309081673622\n",
      "Mask_loss: 0.8691480159759521\n",
      "Total_Loss: 1.5724666118621826\n"
     ]
    },
    {
     "name": "stderr",
     "output_type": "stream",
     "text": [
      "19it [00:24,  1.27s/it]\n",
      "10it [00:14,  1.08s/it]"
     ]
    },
    {
     "name": "stdout",
     "output_type": "stream",
     "text": [
      "[132,    10] Running Loss: 1.758\n",
      "cat_loss: 4.306568735046312e-05\n",
      "box_loss: 0.5037965774536133\n",
      "off_loss: 0.036134716123342514\n",
      "Mask_loss: 0.8785350322723389\n",
      "Total_Loss: 1.4185094833374023\n"
     ]
    },
    {
     "name": "stderr",
     "output_type": "stream",
     "text": [
      "19it [00:23,  1.26s/it]\n",
      "10it [00:14,  1.09s/it]"
     ]
    },
    {
     "name": "stdout",
     "output_type": "stream",
     "text": [
      "[133,    10] Running Loss: 1.642\n",
      "cat_loss: 8.27888652565889e-05\n",
      "box_loss: 0.5393966436386108\n",
      "off_loss: 0.030518317595124245\n",
      "Mask_loss: 0.8761541843414307\n",
      "Total_Loss: 1.4461519718170166\n"
     ]
    },
    {
     "name": "stderr",
     "output_type": "stream",
     "text": [
      "19it [00:23,  1.25s/it]\n",
      "10it [00:14,  1.09s/it]"
     ]
    },
    {
     "name": "stdout",
     "output_type": "stream",
     "text": [
      "[134,    10] Running Loss: 1.531\n",
      "cat_loss: 8.841654198477045e-05\n",
      "box_loss: 0.5660991668701172\n",
      "off_loss: 0.04393065720796585\n",
      "Mask_loss: 0.886956512928009\n",
      "Total_Loss: 1.4970747232437134\n"
     ]
    },
    {
     "name": "stderr",
     "output_type": "stream",
     "text": [
      "19it [00:23,  1.25s/it]\n",
      "10it [00:14,  1.09s/it]"
     ]
    },
    {
     "name": "stdout",
     "output_type": "stream",
     "text": [
      "[135,    10] Running Loss: 1.482\n",
      "cat_loss: 4.5510245399782434e-05\n",
      "box_loss: 0.6216496229171753\n",
      "off_loss: 0.03912162035703659\n",
      "Mask_loss: 0.8596451282501221\n",
      "Total_Loss: 1.520461916923523\n"
     ]
    },
    {
     "name": "stderr",
     "output_type": "stream",
     "text": [
      "19it [00:23,  1.25s/it]\n",
      "10it [00:14,  1.10s/it]"
     ]
    },
    {
     "name": "stdout",
     "output_type": "stream",
     "text": [
      "[136,    10] Running Loss: 1.698\n",
      "cat_loss: 4.518012428889051e-05\n",
      "box_loss: 0.9431730508804321\n",
      "off_loss: 0.035508617758750916\n",
      "Mask_loss: 0.8762264847755432\n",
      "Total_Loss: 1.8549532890319824\n"
     ]
    },
    {
     "name": "stderr",
     "output_type": "stream",
     "text": [
      "19it [00:23,  1.25s/it]\n",
      "10it [00:14,  1.13s/it]"
     ]
    },
    {
     "name": "stdout",
     "output_type": "stream",
     "text": [
      "[137,    10] Running Loss: 2.480\n",
      "cat_loss: 5.571458314079791e-05\n",
      "box_loss: 1.6613595485687256\n",
      "off_loss: 0.032876770943403244\n",
      "Mask_loss: 0.8577133417129517\n",
      "Total_Loss: 2.5520052909851074\n"
     ]
    },
    {
     "name": "stderr",
     "output_type": "stream",
     "text": [
      "19it [00:24,  1.26s/it]\n",
      "10it [00:14,  1.09s/it]"
     ]
    },
    {
     "name": "stdout",
     "output_type": "stream",
     "text": [
      "[138,    10] Running Loss: 1.690\n",
      "cat_loss: 5.479326500790194e-05\n",
      "box_loss: 0.6568502187728882\n",
      "off_loss: 0.038670215755701065\n",
      "Mask_loss: 0.8512315154075623\n",
      "Total_Loss: 1.546806812286377\n"
     ]
    },
    {
     "name": "stderr",
     "output_type": "stream",
     "text": [
      "19it [00:23,  1.26s/it]\n",
      "10it [00:14,  1.08s/it]"
     ]
    },
    {
     "name": "stdout",
     "output_type": "stream",
     "text": [
      "[139,    10] Running Loss: 1.685\n",
      "cat_loss: 5.7975634263129905e-05\n",
      "box_loss: 0.8967864513397217\n",
      "off_loss: 0.03371702879667282\n",
      "Mask_loss: 0.8828971982002258\n",
      "Total_Loss: 1.8134586811065674\n"
     ]
    },
    {
     "name": "stderr",
     "output_type": "stream",
     "text": [
      "19it [00:23,  1.24s/it]\n",
      "10it [00:14,  1.12s/it]"
     ]
    },
    {
     "name": "stdout",
     "output_type": "stream",
     "text": [
      "[140,    10] Running Loss: 1.550\n",
      "cat_loss: 4.06891449529212e-05\n",
      "box_loss: 0.5270629525184631\n",
      "off_loss: 0.03462955355644226\n",
      "Mask_loss: 0.8554680347442627\n",
      "Total_Loss: 1.417201280593872\n"
     ]
    },
    {
     "name": "stderr",
     "output_type": "stream",
     "text": [
      "19it [00:24,  1.26s/it]\n",
      "10it [00:14,  1.07s/it]"
     ]
    },
    {
     "name": "stdout",
     "output_type": "stream",
     "text": [
      "[141,    10] Running Loss: 1.966\n",
      "cat_loss: 3.7303820136003196e-05\n",
      "box_loss: 1.038170337677002\n",
      "off_loss: 0.027670318260788918\n",
      "Mask_loss: 0.8534934520721436\n",
      "Total_Loss: 1.9193713665008545\n"
     ]
    },
    {
     "name": "stderr",
     "output_type": "stream",
     "text": [
      "19it [00:23,  1.25s/it]\n",
      "10it [00:14,  1.11s/it]"
     ]
    },
    {
     "name": "stdout",
     "output_type": "stream",
     "text": [
      "[142,    10] Running Loss: 1.432\n",
      "cat_loss: 5.494317883858457e-05\n",
      "box_loss: 0.43459275364875793\n",
      "off_loss: 0.03838135302066803\n",
      "Mask_loss: 0.8531119227409363\n",
      "Total_Loss: 1.3261409997940063\n"
     ]
    },
    {
     "name": "stderr",
     "output_type": "stream",
     "text": [
      "19it [00:23,  1.26s/it]\n",
      "10it [00:14,  1.09s/it]"
     ]
    },
    {
     "name": "stdout",
     "output_type": "stream",
     "text": [
      "[143,    10] Running Loss: 2.282\n",
      "cat_loss: 6.43813400529325e-05\n",
      "box_loss: 0.4945586323738098\n",
      "off_loss: 0.037249453365802765\n",
      "Mask_loss: 0.8544856309890747\n",
      "Total_Loss: 1.3863580226898193\n"
     ]
    },
    {
     "name": "stderr",
     "output_type": "stream",
     "text": [
      "19it [00:23,  1.25s/it]\n",
      "10it [00:14,  1.08s/it]"
     ]
    },
    {
     "name": "stdout",
     "output_type": "stream",
     "text": [
      "[144,    10] Running Loss: 2.789\n",
      "cat_loss: 9.84569633146748e-05\n",
      "box_loss: 2.961514472961426\n",
      "off_loss: 0.038774892687797546\n",
      "Mask_loss: 0.8665342926979065\n",
      "Total_Loss: 3.86692214012146\n"
     ]
    },
    {
     "name": "stderr",
     "output_type": "stream",
     "text": [
      "19it [00:23,  1.26s/it]\n",
      "10it [00:14,  1.08s/it]"
     ]
    },
    {
     "name": "stdout",
     "output_type": "stream",
     "text": [
      "[145,    10] Running Loss: 3.699\n",
      "cat_loss: 5.0639977416722104e-05\n",
      "box_loss: 1.1584211587905884\n",
      "off_loss: 0.04773335158824921\n",
      "Mask_loss: 0.8522308468818665\n",
      "Total_Loss: 2.0584359169006348\n"
     ]
    },
    {
     "name": "stderr",
     "output_type": "stream",
     "text": [
      "19it [00:23,  1.24s/it]\n",
      "10it [00:14,  1.08s/it]"
     ]
    },
    {
     "name": "stdout",
     "output_type": "stream",
     "text": [
      "[146,    10] Running Loss: 2.652\n",
      "cat_loss: 8.075353980530053e-05\n",
      "box_loss: 1.6826539039611816\n",
      "off_loss: 0.04837416857481003\n",
      "Mask_loss: 0.9062834978103638\n",
      "Total_Loss: 2.637392282485962\n"
     ]
    },
    {
     "name": "stderr",
     "output_type": "stream",
     "text": [
      "19it [00:23,  1.25s/it]\n",
      "10it [00:14,  1.12s/it]"
     ]
    },
    {
     "name": "stdout",
     "output_type": "stream",
     "text": [
      "[147,    10] Running Loss: 1.998\n",
      "cat_loss: 9.407072502654046e-05\n",
      "box_loss: 0.6574368476867676\n",
      "off_loss: 0.03284725174307823\n",
      "Mask_loss: 0.879204273223877\n",
      "Total_Loss: 1.569582462310791\n"
     ]
    },
    {
     "name": "stderr",
     "output_type": "stream",
     "text": [
      "19it [00:23,  1.25s/it]\n",
      "10it [00:14,  1.11s/it]"
     ]
    },
    {
     "name": "stdout",
     "output_type": "stream",
     "text": [
      "[148,    10] Running Loss: 2.163\n",
      "cat_loss: 9.546676301397383e-05\n",
      "box_loss: 1.126252293586731\n",
      "off_loss: 0.03265967220067978\n",
      "Mask_loss: 0.8535648584365845\n",
      "Total_Loss: 2.0125722885131836\n"
     ]
    },
    {
     "name": "stderr",
     "output_type": "stream",
     "text": [
      "19it [00:23,  1.26s/it]\n",
      "10it [00:14,  1.10s/it]"
     ]
    },
    {
     "name": "stdout",
     "output_type": "stream",
     "text": [
      "[149,    10] Running Loss: 1.745\n",
      "cat_loss: 8.33863450679928e-05\n",
      "box_loss: 1.5068027973175049\n",
      "off_loss: 0.04233934357762337\n",
      "Mask_loss: 0.8616124391555786\n",
      "Total_Loss: 2.4108378887176514\n"
     ]
    },
    {
     "name": "stderr",
     "output_type": "stream",
     "text": [
      "19it [00:23,  1.25s/it]\n",
      "10it [00:14,  1.08s/it]"
     ]
    },
    {
     "name": "stdout",
     "output_type": "stream",
     "text": [
      "[150,    10] Running Loss: 1.736\n",
      "cat_loss: 8.0441364843864e-05\n",
      "box_loss: 0.8383476734161377\n",
      "off_loss: 0.03228481858968735\n",
      "Mask_loss: 0.9082181453704834\n",
      "Total_Loss: 1.7789311408996582\n"
     ]
    },
    {
     "name": "stderr",
     "output_type": "stream",
     "text": [
      "19it [00:23,  1.25s/it]\n",
      "10it [00:14,  1.08s/it]"
     ]
    },
    {
     "name": "stdout",
     "output_type": "stream",
     "text": [
      "[151,    10] Running Loss: 1.589\n",
      "cat_loss: 6.362702697515488e-05\n",
      "box_loss: 0.6592692136764526\n",
      "off_loss: 0.03698752075433731\n",
      "Mask_loss: 0.8705352544784546\n",
      "Total_Loss: 1.5668556690216064\n"
     ]
    },
    {
     "name": "stderr",
     "output_type": "stream",
     "text": [
      "19it [00:23,  1.25s/it]\n",
      "10it [00:14,  1.14s/it]"
     ]
    },
    {
     "name": "stdout",
     "output_type": "stream",
     "text": [
      "[152,    10] Running Loss: 1.667\n",
      "cat_loss: 5.658775262418203e-05\n",
      "box_loss: 0.7227743864059448\n",
      "off_loss: 0.04150281846523285\n",
      "Mask_loss: 0.9130995273590088\n",
      "Total_Loss: 1.6774332523345947\n"
     ]
    },
    {
     "name": "stderr",
     "output_type": "stream",
     "text": [
      "19it [00:24,  1.29s/it]\n",
      "10it [00:14,  1.10s/it]"
     ]
    },
    {
     "name": "stdout",
     "output_type": "stream",
     "text": [
      "[153,    10] Running Loss: 1.820\n",
      "cat_loss: 7.784664921928197e-05\n",
      "box_loss: 0.9019962549209595\n",
      "off_loss: 0.040324289351701736\n",
      "Mask_loss: 0.8622522354125977\n",
      "Total_Loss: 1.8046505451202393\n"
     ]
    },
    {
     "name": "stderr",
     "output_type": "stream",
     "text": [
      "19it [00:24,  1.27s/it]\n",
      "10it [00:14,  1.10s/it]"
     ]
    },
    {
     "name": "stdout",
     "output_type": "stream",
     "text": [
      "[154,    10] Running Loss: 1.579\n",
      "cat_loss: 6.360716361086816e-05\n",
      "box_loss: 0.45770108699798584\n",
      "off_loss: 0.035346392542123795\n",
      "Mask_loss: 0.8706694841384888\n",
      "Total_Loss: 1.3637804985046387\n"
     ]
    },
    {
     "name": "stderr",
     "output_type": "stream",
     "text": [
      "19it [00:23,  1.26s/it]\n",
      "10it [00:14,  1.10s/it]"
     ]
    },
    {
     "name": "stdout",
     "output_type": "stream",
     "text": [
      "[155,    10] Running Loss: 1.794\n",
      "cat_loss: 4.3899708543904126e-05\n",
      "box_loss: 0.5504728555679321\n",
      "off_loss: 0.03644133359193802\n",
      "Mask_loss: 0.8663813471794128\n",
      "Total_Loss: 1.4533394575119019\n"
     ]
    },
    {
     "name": "stderr",
     "output_type": "stream",
     "text": [
      "19it [00:24,  1.27s/it]\n",
      "10it [00:14,  1.08s/it]"
     ]
    },
    {
     "name": "stdout",
     "output_type": "stream",
     "text": [
      "[156,    10] Running Loss: 1.964\n",
      "cat_loss: 5.9811842220369726e-05\n",
      "box_loss: 2.0533385276794434\n",
      "off_loss: 0.04196612164378166\n",
      "Mask_loss: 0.865025520324707\n",
      "Total_Loss: 2.960390090942383\n"
     ]
    },
    {
     "name": "stderr",
     "output_type": "stream",
     "text": [
      "19it [00:23,  1.26s/it]\n",
      "10it [00:14,  1.09s/it]"
     ]
    },
    {
     "name": "stdout",
     "output_type": "stream",
     "text": [
      "[157,    10] Running Loss: 2.086\n",
      "cat_loss: 5.754557059844956e-05\n",
      "box_loss: 0.771226704120636\n",
      "off_loss: 0.0466635599732399\n",
      "Mask_loss: 0.8655102849006653\n",
      "Total_Loss: 1.6834580898284912\n"
     ]
    },
    {
     "name": "stderr",
     "output_type": "stream",
     "text": [
      "19it [00:23,  1.25s/it]\n",
      "10it [00:14,  1.09s/it]"
     ]
    },
    {
     "name": "stdout",
     "output_type": "stream",
     "text": [
      "[158,    10] Running Loss: 2.246\n",
      "cat_loss: 3.410146018723026e-05\n",
      "box_loss: 2.093334913253784\n",
      "off_loss: 0.03594564273953438\n",
      "Mask_loss: 0.8498176336288452\n",
      "Total_Loss: 2.9791321754455566\n"
     ]
    },
    {
     "name": "stderr",
     "output_type": "stream",
     "text": [
      "19it [00:23,  1.26s/it]\n",
      "10it [00:14,  1.08s/it]"
     ]
    },
    {
     "name": "stdout",
     "output_type": "stream",
     "text": [
      "[159,    10] Running Loss: 1.798\n",
      "cat_loss: 8.161747246049345e-05\n",
      "box_loss: 1.3301767110824585\n",
      "off_loss: 0.03951608017086983\n",
      "Mask_loss: 0.8766827583312988\n",
      "Total_Loss: 2.246457099914551\n"
     ]
    },
    {
     "name": "stderr",
     "output_type": "stream",
     "text": [
      "19it [00:24,  1.27s/it]\n",
      "10it [00:14,  1.08s/it]"
     ]
    },
    {
     "name": "stdout",
     "output_type": "stream",
     "text": [
      "[160,    10] Running Loss: 1.502\n",
      "cat_loss: 6.116177246440202e-05\n",
      "box_loss: 0.4529092609882355\n",
      "off_loss: 0.029407236725091934\n",
      "Mask_loss: 0.8575329780578613\n",
      "Total_Loss: 1.339910626411438\n"
     ]
    },
    {
     "name": "stderr",
     "output_type": "stream",
     "text": [
      "19it [00:23,  1.26s/it]\n",
      "10it [00:14,  1.10s/it]"
     ]
    },
    {
     "name": "stdout",
     "output_type": "stream",
     "text": [
      "[161,    10] Running Loss: 1.994\n",
      "cat_loss: 6.365401350194588e-05\n",
      "box_loss: 0.7005258798599243\n",
      "off_loss: 0.031208032742142677\n",
      "Mask_loss: 0.8719035983085632\n",
      "Total_Loss: 1.603701114654541\n"
     ]
    },
    {
     "name": "stderr",
     "output_type": "stream",
     "text": [
      "19it [00:23,  1.26s/it]\n",
      "10it [00:14,  1.09s/it]"
     ]
    },
    {
     "name": "stdout",
     "output_type": "stream",
     "text": [
      "[162,    10] Running Loss: 1.836\n",
      "cat_loss: 7.160216046031564e-05\n",
      "box_loss: 1.2950801849365234\n",
      "off_loss: 0.0359293557703495\n",
      "Mask_loss: 0.858508288860321\n",
      "Total_Loss: 2.189589500427246\n"
     ]
    },
    {
     "name": "stderr",
     "output_type": "stream",
     "text": [
      "19it [00:23,  1.26s/it]\n",
      "10it [00:14,  1.08s/it]"
     ]
    },
    {
     "name": "stdout",
     "output_type": "stream",
     "text": [
      "[163,    10] Running Loss: 2.134\n",
      "cat_loss: 5.398551365942694e-05\n",
      "box_loss: 1.2759432792663574\n",
      "off_loss: 0.03672447428107262\n",
      "Mask_loss: 0.8596524596214294\n",
      "Total_Loss: 2.1723742485046387\n"
     ]
    },
    {
     "name": "stderr",
     "output_type": "stream",
     "text": [
      "19it [00:23,  1.25s/it]\n",
      "10it [00:14,  1.09s/it]"
     ]
    },
    {
     "name": "stdout",
     "output_type": "stream",
     "text": [
      "[164,    10] Running Loss: 1.649\n",
      "cat_loss: 2.8621641831705347e-05\n",
      "box_loss: 0.6206972599029541\n",
      "off_loss: 0.029374491423368454\n",
      "Mask_loss: 0.880850613117218\n",
      "Total_Loss: 1.5309510231018066\n"
     ]
    },
    {
     "name": "stderr",
     "output_type": "stream",
     "text": [
      "19it [00:23,  1.26s/it]\n",
      "10it [00:15,  1.18s/it]"
     ]
    },
    {
     "name": "stdout",
     "output_type": "stream",
     "text": [
      "[165,    10] Running Loss: 1.702\n",
      "cat_loss: 3.170542186126113e-05\n",
      "box_loss: 0.9740482568740845\n",
      "off_loss: 0.03650515526533127\n",
      "Mask_loss: 0.884235143661499\n",
      "Total_Loss: 1.894820213317871\n"
     ]
    },
    {
     "name": "stderr",
     "output_type": "stream",
     "text": [
      "19it [00:24,  1.31s/it]\n",
      "10it [00:14,  1.10s/it]"
     ]
    },
    {
     "name": "stdout",
     "output_type": "stream",
     "text": [
      "[166,    10] Running Loss: 1.700\n",
      "cat_loss: 7.130233279895037e-05\n",
      "box_loss: 1.707971453666687\n",
      "off_loss: 0.03267540782690048\n",
      "Mask_loss: 0.8971984386444092\n",
      "Total_Loss: 2.6379165649414062\n"
     ]
    },
    {
     "name": "stderr",
     "output_type": "stream",
     "text": [
      "19it [00:24,  1.27s/it]\n",
      "10it [00:14,  1.11s/it]"
     ]
    },
    {
     "name": "stdout",
     "output_type": "stream",
     "text": [
      "[167,    10] Running Loss: 2.564\n",
      "cat_loss: 5.041455733589828e-05\n",
      "box_loss: 1.9721266031265259\n",
      "off_loss: 0.0385250523686409\n",
      "Mask_loss: 0.8765414953231812\n",
      "Total_Loss: 2.8872437477111816\n"
     ]
    },
    {
     "name": "stderr",
     "output_type": "stream",
     "text": [
      "19it [00:24,  1.27s/it]\n",
      "10it [00:14,  1.09s/it]"
     ]
    },
    {
     "name": "stdout",
     "output_type": "stream",
     "text": [
      "[168,    10] Running Loss: 1.660\n",
      "cat_loss: 4.184430144960061e-05\n",
      "box_loss: 0.5700583457946777\n",
      "off_loss: 0.03626213222742081\n",
      "Mask_loss: 0.8591490387916565\n",
      "Total_Loss: 1.4655113220214844\n"
     ]
    },
    {
     "name": "stderr",
     "output_type": "stream",
     "text": [
      "19it [00:23,  1.26s/it]\n",
      "10it [00:14,  1.09s/it]"
     ]
    },
    {
     "name": "stdout",
     "output_type": "stream",
     "text": [
      "[169,    10] Running Loss: 1.393\n",
      "cat_loss: 3.0446823075180873e-05\n",
      "box_loss: 0.44749441742897034\n",
      "off_loss: 0.0394396036863327\n",
      "Mask_loss: 0.871328592300415\n",
      "Total_Loss: 1.358293056488037\n"
     ]
    },
    {
     "name": "stderr",
     "output_type": "stream",
     "text": [
      "19it [00:23,  1.26s/it]\n",
      "10it [00:14,  1.08s/it]"
     ]
    },
    {
     "name": "stdout",
     "output_type": "stream",
     "text": [
      "[170,    10] Running Loss: 1.799\n",
      "cat_loss: 3.0000552214914933e-05\n",
      "box_loss: 0.4912652373313904\n",
      "off_loss: 0.03333374857902527\n",
      "Mask_loss: 0.8483301401138306\n",
      "Total_Loss: 1.3729591369628906\n"
     ]
    },
    {
     "name": "stderr",
     "output_type": "stream",
     "text": [
      "19it [00:23,  1.25s/it]\n",
      "10it [00:14,  1.09s/it]"
     ]
    },
    {
     "name": "stdout",
     "output_type": "stream",
     "text": [
      "[171,    10] Running Loss: 2.390\n",
      "cat_loss: 4.187717422610149e-05\n",
      "box_loss: 0.9264893531799316\n",
      "off_loss: 0.046120353043079376\n",
      "Mask_loss: 0.8571198582649231\n",
      "Total_Loss: 1.8297715187072754\n"
     ]
    },
    {
     "name": "stderr",
     "output_type": "stream",
     "text": [
      "19it [00:23,  1.25s/it]\n",
      "10it [00:14,  1.08s/it]"
     ]
    },
    {
     "name": "stdout",
     "output_type": "stream",
     "text": [
      "[172,    10] Running Loss: 1.432\n",
      "cat_loss: 4.554031329462305e-05\n",
      "box_loss: 0.510494589805603\n",
      "off_loss: 0.037618331611156464\n",
      "Mask_loss: 0.8438342213630676\n",
      "Total_Loss: 1.3919926881790161\n"
     ]
    },
    {
     "name": "stderr",
     "output_type": "stream",
     "text": [
      "19it [00:23,  1.26s/it]\n",
      "10it [00:14,  1.10s/it]"
     ]
    },
    {
     "name": "stdout",
     "output_type": "stream",
     "text": [
      "[173,    10] Running Loss: 2.510\n",
      "cat_loss: 2.2938391339266673e-05\n",
      "box_loss: 0.6761535406112671\n",
      "off_loss: 0.03168944641947746\n",
      "Mask_loss: 0.8829204440116882\n",
      "Total_Loss: 1.5907864570617676\n"
     ]
    },
    {
     "name": "stderr",
     "output_type": "stream",
     "text": [
      "19it [00:24,  1.27s/it]\n",
      "10it [00:14,  1.16s/it]"
     ]
    },
    {
     "name": "stdout",
     "output_type": "stream",
     "text": [
      "[174,    10] Running Loss: 1.602\n",
      "cat_loss: 2.277101157233119e-05\n",
      "box_loss: 0.6489782333374023\n",
      "off_loss: 0.03966174274682999\n",
      "Mask_loss: 0.8562222719192505\n",
      "Total_Loss: 1.5448850393295288\n"
     ]
    },
    {
     "name": "stderr",
     "output_type": "stream",
     "text": [
      "19it [00:24,  1.29s/it]\n",
      "10it [00:14,  1.08s/it]"
     ]
    },
    {
     "name": "stdout",
     "output_type": "stream",
     "text": [
      "[175,    10] Running Loss: 1.514\n",
      "cat_loss: 3.9906110032461584e-05\n",
      "box_loss: 0.4709627330303192\n",
      "off_loss: 0.039080239832401276\n",
      "Mask_loss: 0.873026967048645\n",
      "Total_Loss: 1.3831098079681396\n"
     ]
    },
    {
     "name": "stderr",
     "output_type": "stream",
     "text": [
      "19it [00:23,  1.26s/it]\n",
      "10it [00:14,  1.10s/it]"
     ]
    },
    {
     "name": "stdout",
     "output_type": "stream",
     "text": [
      "[176,    10] Running Loss: 1.641\n",
      "cat_loss: 5.667336517944932e-05\n",
      "box_loss: 0.6691581010818481\n",
      "off_loss: 0.043431706726551056\n",
      "Mask_loss: 0.8629438877105713\n",
      "Total_Loss: 1.5755903720855713\n"
     ]
    },
    {
     "name": "stderr",
     "output_type": "stream",
     "text": [
      "19it [00:23,  1.26s/it]\n",
      "10it [00:14,  1.09s/it]"
     ]
    },
    {
     "name": "stdout",
     "output_type": "stream",
     "text": [
      "[177,    10] Running Loss: 1.747\n",
      "cat_loss: 4.302604793338105e-05\n",
      "box_loss: 0.8970102071762085\n",
      "off_loss: 0.03336738795042038\n",
      "Mask_loss: 0.8631891012191772\n",
      "Total_Loss: 1.7936097383499146\n"
     ]
    },
    {
     "name": "stderr",
     "output_type": "stream",
     "text": [
      "19it [00:24,  1.27s/it]\n",
      "10it [00:14,  1.12s/it]"
     ]
    },
    {
     "name": "stdout",
     "output_type": "stream",
     "text": [
      "[178,    10] Running Loss: 1.664\n",
      "cat_loss: 3.088829544140026e-05\n",
      "box_loss: 0.6638543009757996\n",
      "off_loss: 0.029179325327277184\n",
      "Mask_loss: 0.8591667413711548\n",
      "Total_Loss: 1.5522313117980957\n"
     ]
    },
    {
     "name": "stderr",
     "output_type": "stream",
     "text": [
      "19it [00:24,  1.28s/it]\n",
      "10it [00:14,  1.09s/it]"
     ]
    },
    {
     "name": "stdout",
     "output_type": "stream",
     "text": [
      "[179,    10] Running Loss: 1.409\n",
      "cat_loss: 4.6313973143696785e-05\n",
      "box_loss: 0.47888821363449097\n",
      "off_loss: 0.03475364297628403\n",
      "Mask_loss: 0.8788509368896484\n",
      "Total_Loss: 1.3925390243530273\n"
     ]
    },
    {
     "name": "stderr",
     "output_type": "stream",
     "text": [
      "19it [00:23,  1.26s/it]\n",
      "10it [00:14,  1.10s/it]"
     ]
    },
    {
     "name": "stdout",
     "output_type": "stream",
     "text": [
      "[180,    10] Running Loss: 1.942\n",
      "cat_loss: 4.826992517337203e-05\n",
      "box_loss: 1.3853754997253418\n",
      "off_loss: 0.035394471138715744\n",
      "Mask_loss: 0.8308176398277283\n",
      "Total_Loss: 2.251635789871216\n"
     ]
    },
    {
     "name": "stderr",
     "output_type": "stream",
     "text": [
      "19it [00:24,  1.28s/it]\n",
      "10it [00:14,  1.11s/it]"
     ]
    },
    {
     "name": "stdout",
     "output_type": "stream",
     "text": [
      "[181,    10] Running Loss: 2.200\n",
      "cat_loss: 2.867286093533039e-05\n",
      "box_loss: 1.2392246723175049\n",
      "off_loss: 0.04455329850316048\n",
      "Mask_loss: 0.8457040786743164\n",
      "Total_Loss: 2.1295108795166016\n"
     ]
    },
    {
     "name": "stderr",
     "output_type": "stream",
     "text": [
      "19it [00:24,  1.28s/it]\n",
      "10it [00:14,  1.10s/it]"
     ]
    },
    {
     "name": "stdout",
     "output_type": "stream",
     "text": [
      "[182,    10] Running Loss: 1.664\n",
      "cat_loss: 3.502695108181797e-05\n",
      "box_loss: 0.7015796899795532\n",
      "off_loss: 0.03931072726845741\n",
      "Mask_loss: 0.9008362293243408\n",
      "Total_Loss: 1.6417617797851562\n"
     ]
    },
    {
     "name": "stderr",
     "output_type": "stream",
     "text": [
      "19it [00:24,  1.28s/it]\n",
      "10it [00:14,  1.10s/it]"
     ]
    },
    {
     "name": "stdout",
     "output_type": "stream",
     "text": [
      "[183,    10] Running Loss: 1.607\n",
      "cat_loss: 5.446916475193575e-05\n",
      "box_loss: 0.6773247122764587\n",
      "off_loss: 0.0335082970559597\n",
      "Mask_loss: 0.8696525692939758\n",
      "Total_Loss: 1.5805400609970093\n"
     ]
    },
    {
     "name": "stderr",
     "output_type": "stream",
     "text": [
      "19it [00:23,  1.26s/it]\n",
      "10it [00:14,  1.08s/it]"
     ]
    },
    {
     "name": "stdout",
     "output_type": "stream",
     "text": [
      "[184,    10] Running Loss: 1.486\n",
      "cat_loss: 2.333594784431625e-05\n",
      "box_loss: 0.5031862258911133\n",
      "off_loss: 0.04044812545180321\n",
      "Mask_loss: 0.857717752456665\n",
      "Total_Loss: 1.4013755321502686\n"
     ]
    },
    {
     "name": "stderr",
     "output_type": "stream",
     "text": [
      "19it [00:23,  1.26s/it]\n",
      "10it [00:14,  1.08s/it]"
     ]
    },
    {
     "name": "stdout",
     "output_type": "stream",
     "text": [
      "[185,    10] Running Loss: 1.425\n",
      "cat_loss: 3.87367072107736e-05\n",
      "box_loss: 0.4407210946083069\n",
      "off_loss: 0.04059242457151413\n",
      "Mask_loss: 0.8838993310928345\n",
      "Total_Loss: 1.3652515411376953\n"
     ]
    },
    {
     "name": "stderr",
     "output_type": "stream",
     "text": [
      "19it [00:23,  1.25s/it]\n",
      "10it [00:14,  1.09s/it]"
     ]
    },
    {
     "name": "stdout",
     "output_type": "stream",
     "text": [
      "[186,    10] Running Loss: 1.375\n",
      "cat_loss: 3.085853677475825e-05\n",
      "box_loss: 0.3445383608341217\n",
      "off_loss: 0.02853959985077381\n",
      "Mask_loss: 0.8624603748321533\n",
      "Total_Loss: 1.2355692386627197\n"
     ]
    },
    {
     "name": "stderr",
     "output_type": "stream",
     "text": [
      "19it [00:23,  1.26s/it]\n",
      "10it [00:14,  1.10s/it]"
     ]
    },
    {
     "name": "stdout",
     "output_type": "stream",
     "text": [
      "[187,    10] Running Loss: 1.623\n",
      "cat_loss: 5.452525147120468e-05\n",
      "box_loss: 0.7827894687652588\n",
      "off_loss: 0.03475465252995491\n",
      "Mask_loss: 0.8749542236328125\n",
      "Total_Loss: 1.6925528049468994\n"
     ]
    },
    {
     "name": "stderr",
     "output_type": "stream",
     "text": [
      "19it [00:23,  1.26s/it]\n",
      "10it [00:14,  1.09s/it]"
     ]
    },
    {
     "name": "stdout",
     "output_type": "stream",
     "text": [
      "[188,    10] Running Loss: 1.838\n",
      "cat_loss: 5.37175073986873e-05\n",
      "box_loss: 0.543209433555603\n",
      "off_loss: 0.0339672788977623\n",
      "Mask_loss: 0.8531088829040527\n",
      "Total_Loss: 1.4303393363952637\n"
     ]
    },
    {
     "name": "stderr",
     "output_type": "stream",
     "text": [
      "19it [00:23,  1.25s/it]\n",
      "10it [00:14,  1.11s/it]"
     ]
    },
    {
     "name": "stdout",
     "output_type": "stream",
     "text": [
      "[189,    10] Running Loss: 2.402\n",
      "cat_loss: 3.596565511543304e-05\n",
      "box_loss: 0.564443051815033\n",
      "off_loss: 0.03137310966849327\n",
      "Mask_loss: 0.8619377017021179\n",
      "Total_Loss: 1.4577897787094116\n"
     ]
    },
    {
     "name": "stderr",
     "output_type": "stream",
     "text": [
      "19it [00:24,  1.29s/it]\n",
      "10it [00:14,  1.09s/it]"
     ]
    },
    {
     "name": "stdout",
     "output_type": "stream",
     "text": [
      "[190,    10] Running Loss: 2.789\n",
      "cat_loss: 7.680619455641136e-05\n",
      "box_loss: 1.473861813545227\n",
      "off_loss: 0.05132589489221573\n",
      "Mask_loss: 0.8665603399276733\n",
      "Total_Loss: 2.391824722290039\n"
     ]
    },
    {
     "name": "stderr",
     "output_type": "stream",
     "text": [
      "19it [00:24,  1.28s/it]\n",
      "10it [00:14,  1.09s/it]"
     ]
    },
    {
     "name": "stdout",
     "output_type": "stream",
     "text": [
      "[191,    10] Running Loss: 1.931\n",
      "cat_loss: 4.4783857447328046e-05\n",
      "box_loss: 1.1791669130325317\n",
      "off_loss: 0.033544473350048065\n",
      "Mask_loss: 0.8799945116043091\n",
      "Total_Loss: 2.0927505493164062\n"
     ]
    },
    {
     "name": "stderr",
     "output_type": "stream",
     "text": [
      "19it [00:23,  1.26s/it]\n",
      "10it [00:14,  1.09s/it]"
     ]
    },
    {
     "name": "stdout",
     "output_type": "stream",
     "text": [
      "[192,    10] Running Loss: 1.375\n",
      "cat_loss: 2.622095234983135e-05\n",
      "box_loss: 0.490709125995636\n",
      "off_loss: 0.03543291240930557\n",
      "Mask_loss: 0.8417147397994995\n",
      "Total_Loss: 1.3678829669952393\n"
     ]
    },
    {
     "name": "stderr",
     "output_type": "stream",
     "text": [
      "19it [00:24,  1.27s/it]\n",
      "10it [00:14,  1.11s/it]"
     ]
    },
    {
     "name": "stdout",
     "output_type": "stream",
     "text": [
      "[193,    10] Running Loss: 1.644\n",
      "cat_loss: 2.2029962565284222e-05\n",
      "box_loss: 1.0139133930206299\n",
      "off_loss: 0.037173815071582794\n",
      "Mask_loss: 0.8469101786613464\n",
      "Total_Loss: 1.898019552230835\n"
     ]
    },
    {
     "name": "stderr",
     "output_type": "stream",
     "text": [
      "19it [00:23,  1.26s/it]\n",
      "10it [00:14,  1.09s/it]"
     ]
    },
    {
     "name": "stdout",
     "output_type": "stream",
     "text": [
      "[194,    10] Running Loss: 1.578\n",
      "cat_loss: 3.095425199717283e-05\n",
      "box_loss: 0.6241475343704224\n",
      "off_loss: 0.028866006061434746\n",
      "Mask_loss: 0.8608440160751343\n",
      "Total_Loss: 1.5138884782791138\n"
     ]
    },
    {
     "name": "stderr",
     "output_type": "stream",
     "text": [
      "19it [00:24,  1.26s/it]\n",
      "10it [00:14,  1.09s/it]"
     ]
    },
    {
     "name": "stdout",
     "output_type": "stream",
     "text": [
      "[195,    10] Running Loss: 2.068\n",
      "cat_loss: 3.9996597479330376e-05\n",
      "box_loss: 1.359088659286499\n",
      "off_loss: 0.0449361652135849\n",
      "Mask_loss: 0.8516020774841309\n",
      "Total_Loss: 2.255666971206665\n"
     ]
    },
    {
     "name": "stderr",
     "output_type": "stream",
     "text": [
      "19it [00:24,  1.27s/it]\n",
      "10it [00:14,  1.17s/it]"
     ]
    },
    {
     "name": "stdout",
     "output_type": "stream",
     "text": [
      "[196,    10] Running Loss: 3.096\n",
      "cat_loss: 1.950729711097665e-05\n",
      "box_loss: 1.2017221450805664\n",
      "off_loss: 0.03368255868554115\n",
      "Mask_loss: 0.8541038036346436\n",
      "Total_Loss: 2.0895280838012695\n"
     ]
    },
    {
     "name": "stderr",
     "output_type": "stream",
     "text": [
      "19it [00:24,  1.29s/it]\n",
      "10it [00:14,  1.10s/it]"
     ]
    },
    {
     "name": "stdout",
     "output_type": "stream",
     "text": [
      "[197,    10] Running Loss: 1.611\n",
      "cat_loss: 2.8945742087671533e-05\n",
      "box_loss: 0.6465432643890381\n",
      "off_loss: 0.04425392672419548\n",
      "Mask_loss: 0.8699558973312378\n",
      "Total_Loss: 1.5607820749282837\n"
     ]
    },
    {
     "name": "stderr",
     "output_type": "stream",
     "text": [
      "19it [00:24,  1.27s/it]\n",
      "10it [00:14,  1.11s/it]"
     ]
    },
    {
     "name": "stdout",
     "output_type": "stream",
     "text": [
      "[198,    10] Running Loss: 1.381\n",
      "cat_loss: 2.5629717129049823e-05\n",
      "box_loss: 0.4225996136665344\n",
      "off_loss: 0.02949257381260395\n",
      "Mask_loss: 0.8872013092041016\n",
      "Total_Loss: 1.339319109916687\n"
     ]
    },
    {
     "name": "stderr",
     "output_type": "stream",
     "text": [
      "19it [00:24,  1.27s/it]\n",
      "10it [00:14,  1.09s/it]"
     ]
    },
    {
     "name": "stdout",
     "output_type": "stream",
     "text": [
      "[199,    10] Running Loss: 1.708\n",
      "cat_loss: 5.138497726875357e-05\n",
      "box_loss: 0.29775717854499817\n",
      "off_loss: 0.03137790411710739\n",
      "Mask_loss: 0.8627079129219055\n",
      "Total_Loss: 1.1918944120407104\n"
     ]
    },
    {
     "name": "stderr",
     "output_type": "stream",
     "text": [
      "19it [00:24,  1.26s/it]\n",
      "10it [00:14,  1.10s/it]"
     ]
    },
    {
     "name": "stdout",
     "output_type": "stream",
     "text": [
      "[200,    10] Running Loss: 2.023\n",
      "cat_loss: 2.32066995522473e-05\n",
      "box_loss: 1.8682657480239868\n",
      "off_loss: 0.029800985008478165\n",
      "Mask_loss: 0.8529788255691528\n",
      "Total_Loss: 2.7510688304901123\n"
     ]
    },
    {
     "name": "stderr",
     "output_type": "stream",
     "text": [
      "19it [00:23,  1.26s/it]\n",
      "10it [00:14,  1.11s/it]"
     ]
    },
    {
     "name": "stdout",
     "output_type": "stream",
     "text": [
      "[201,    10] Running Loss: 2.722\n",
      "cat_loss: 4.563876427710056e-05\n",
      "box_loss: 2.3889923095703125\n",
      "off_loss: 0.03175267577171326\n",
      "Mask_loss: 0.8771540522575378\n",
      "Total_Loss: 3.2979445457458496\n"
     ]
    },
    {
     "name": "stderr",
     "output_type": "stream",
     "text": [
      "19it [00:24,  1.27s/it]\n",
      "10it [00:14,  1.12s/it]"
     ]
    },
    {
     "name": "stdout",
     "output_type": "stream",
     "text": [
      "[202,    10] Running Loss: 2.380\n",
      "cat_loss: 5.961016358924098e-05\n",
      "box_loss: 1.2936227321624756\n",
      "off_loss: 0.03993944451212883\n",
      "Mask_loss: 0.8680835962295532\n",
      "Total_Loss: 2.2017054557800293\n"
     ]
    },
    {
     "name": "stderr",
     "output_type": "stream",
     "text": [
      "19it [00:24,  1.28s/it]\n",
      "10it [00:14,  1.09s/it]"
     ]
    },
    {
     "name": "stdout",
     "output_type": "stream",
     "text": [
      "[203,    10] Running Loss: 1.817\n",
      "cat_loss: 3.214143362129107e-05\n",
      "box_loss: 0.521964967250824\n",
      "off_loss: 0.031594935804605484\n",
      "Mask_loss: 0.853729248046875\n",
      "Total_Loss: 1.4073212146759033\n"
     ]
    },
    {
     "name": "stderr",
     "output_type": "stream",
     "text": [
      "19it [00:24,  1.27s/it]\n",
      "10it [00:14,  1.12s/it]"
     ]
    },
    {
     "name": "stdout",
     "output_type": "stream",
     "text": [
      "[204,    10] Running Loss: 1.737\n",
      "cat_loss: 2.4327677238034084e-05\n",
      "box_loss: 0.4093020558357239\n",
      "off_loss: 0.030845720320940018\n",
      "Mask_loss: 0.8528521656990051\n",
      "Total_Loss: 1.2930243015289307\n"
     ]
    },
    {
     "name": "stderr",
     "output_type": "stream",
     "text": [
      "19it [00:24,  1.27s/it]\n",
      "10it [00:14,  1.11s/it]"
     ]
    },
    {
     "name": "stdout",
     "output_type": "stream",
     "text": [
      "[205,    10] Running Loss: 1.663\n",
      "cat_loss: 3.228480272809975e-05\n",
      "box_loss: 0.7355552315711975\n",
      "off_loss: 0.046244144439697266\n",
      "Mask_loss: 0.863510012626648\n",
      "Total_Loss: 1.6453416347503662\n"
     ]
    },
    {
     "name": "stderr",
     "output_type": "stream",
     "text": [
      "19it [00:24,  1.27s/it]\n",
      "10it [00:14,  1.11s/it]"
     ]
    },
    {
     "name": "stdout",
     "output_type": "stream",
     "text": [
      "[206,    10] Running Loss: 1.870\n",
      "cat_loss: 4.2282168578822166e-05\n",
      "box_loss: 1.3240480422973633\n",
      "off_loss: 0.036304935812950134\n",
      "Mask_loss: 0.8563590049743652\n",
      "Total_Loss: 2.21675443649292\n"
     ]
    },
    {
     "name": "stderr",
     "output_type": "stream",
     "text": [
      "19it [00:24,  1.27s/it]\n",
      "10it [00:14,  1.10s/it]"
     ]
    },
    {
     "name": "stdout",
     "output_type": "stream",
     "text": [
      "[207,    10] Running Loss: 2.597\n",
      "cat_loss: 2.2980493668001145e-05\n",
      "box_loss: 2.3849728107452393\n",
      "off_loss: 0.03943523392081261\n",
      "Mask_loss: 0.8663101196289062\n",
      "Total_Loss: 3.290740966796875\n"
     ]
    },
    {
     "name": "stderr",
     "output_type": "stream",
     "text": [
      "19it [00:24,  1.27s/it]\n",
      "10it [00:14,  1.10s/it]"
     ]
    },
    {
     "name": "stdout",
     "output_type": "stream",
     "text": [
      "[208,    10] Running Loss: 2.423\n",
      "cat_loss: 3.4270713513251394e-05\n",
      "box_loss: 2.0622711181640625\n",
      "off_loss: 0.04303092136979103\n",
      "Mask_loss: 0.8540545701980591\n",
      "Total_Loss: 2.9593911170959473\n"
     ]
    },
    {
     "name": "stderr",
     "output_type": "stream",
     "text": [
      "19it [00:23,  1.26s/it]\n",
      "10it [00:14,  1.09s/it]"
     ]
    },
    {
     "name": "stdout",
     "output_type": "stream",
     "text": [
      "[209,    10] Running Loss: 1.684\n",
      "cat_loss: 2.505129850760568e-05\n",
      "box_loss: 0.488704651594162\n",
      "off_loss: 0.03594472259283066\n",
      "Mask_loss: 0.891107439994812\n",
      "Total_Loss: 1.415781855583191\n"
     ]
    },
    {
     "name": "stderr",
     "output_type": "stream",
     "text": [
      "19it [00:23,  1.26s/it]\n",
      "10it [00:14,  1.12s/it]"
     ]
    },
    {
     "name": "stdout",
     "output_type": "stream",
     "text": [
      "[210,    10] Running Loss: 2.004\n",
      "cat_loss: 3.504233973217197e-05\n",
      "box_loss: 0.3701537251472473\n",
      "off_loss: 0.03731055185198784\n",
      "Mask_loss: 0.8477665185928345\n",
      "Total_Loss: 1.2552658319473267\n"
     ]
    },
    {
     "name": "stderr",
     "output_type": "stream",
     "text": [
      "19it [00:24,  1.27s/it]\n",
      "10it [00:14,  1.12s/it]"
     ]
    },
    {
     "name": "stdout",
     "output_type": "stream",
     "text": [
      "[211,    10] Running Loss: 1.593\n",
      "cat_loss: 3.166710303048603e-05\n",
      "box_loss: 0.300098717212677\n",
      "off_loss: 0.029233435168862343\n",
      "Mask_loss: 0.832560658454895\n",
      "Total_Loss: 1.1619244813919067\n"
     ]
    },
    {
     "name": "stderr",
     "output_type": "stream",
     "text": [
      "19it [00:24,  1.28s/it]\n",
      "10it [00:14,  1.11s/it]"
     ]
    },
    {
     "name": "stdout",
     "output_type": "stream",
     "text": [
      "[212,    10] Running Loss: 1.551\n",
      "cat_loss: 1.4920306057319976e-05\n",
      "box_loss: 1.6090655326843262\n",
      "off_loss: 0.026787202805280685\n",
      "Mask_loss: 0.8841237425804138\n",
      "Total_Loss: 2.519991397857666\n"
     ]
    },
    {
     "name": "stderr",
     "output_type": "stream",
     "text": [
      "19it [00:24,  1.27s/it]\n",
      "10it [00:14,  1.10s/it]"
     ]
    },
    {
     "name": "stdout",
     "output_type": "stream",
     "text": [
      "[213,    10] Running Loss: 1.985\n",
      "cat_loss: 2.362643863307312e-05\n",
      "box_loss: 1.808532476425171\n",
      "off_loss: 0.032564543187618256\n",
      "Mask_loss: 0.856834888458252\n",
      "Total_Loss: 2.69795560836792\n"
     ]
    },
    {
     "name": "stderr",
     "output_type": "stream",
     "text": [
      "19it [00:23,  1.26s/it]\n",
      "10it [00:14,  1.10s/it]"
     ]
    },
    {
     "name": "stdout",
     "output_type": "stream",
     "text": [
      "[214,    10] Running Loss: 1.994\n",
      "cat_loss: 3.536643271218054e-05\n",
      "box_loss: 1.0151443481445312\n",
      "off_loss: 0.03094302862882614\n",
      "Mask_loss: 0.8671444058418274\n",
      "Total_Loss: 1.9132671356201172\n"
     ]
    },
    {
     "name": "stderr",
     "output_type": "stream",
     "text": [
      "19it [00:23,  1.26s/it]\n",
      "10it [00:14,  1.09s/it]"
     ]
    },
    {
     "name": "stdout",
     "output_type": "stream",
     "text": [
      "[215,    10] Running Loss: 1.638\n",
      "cat_loss: 4.0976090531330556e-05\n",
      "box_loss: 0.9077441692352295\n",
      "off_loss: 0.0240183025598526\n",
      "Mask_loss: 0.8513228893280029\n",
      "Total_Loss: 1.7831263542175293\n"
     ]
    },
    {
     "name": "stderr",
     "output_type": "stream",
     "text": [
      "19it [00:24,  1.26s/it]\n",
      "10it [00:14,  1.08s/it]"
     ]
    },
    {
     "name": "stdout",
     "output_type": "stream",
     "text": [
      "[216,    10] Running Loss: 1.653\n",
      "cat_loss: 3.742782064364292e-05\n",
      "box_loss: 0.4555453062057495\n",
      "off_loss: 0.029274500906467438\n",
      "Mask_loss: 0.8685876727104187\n",
      "Total_Loss: 1.3534449338912964\n"
     ]
    },
    {
     "name": "stderr",
     "output_type": "stream",
     "text": [
      "19it [00:23,  1.26s/it]\n",
      "10it [00:14,  1.09s/it]"
     ]
    },
    {
     "name": "stdout",
     "output_type": "stream",
     "text": [
      "[217,    10] Running Loss: 1.539\n",
      "cat_loss: 7.406937220366672e-05\n",
      "box_loss: 0.996258020401001\n",
      "off_loss: 0.04028473421931267\n",
      "Mask_loss: 0.8811726570129395\n",
      "Total_Loss: 1.9177894592285156\n"
     ]
    },
    {
     "name": "stderr",
     "output_type": "stream",
     "text": [
      "19it [00:24,  1.26s/it]\n",
      "10it [00:14,  1.10s/it]"
     ]
    },
    {
     "name": "stdout",
     "output_type": "stream",
     "text": [
      "[218,    10] Running Loss: 1.718\n",
      "cat_loss: 1.8697355699259788e-05\n",
      "box_loss: 1.068903923034668\n",
      "off_loss: 0.034815963357686996\n",
      "Mask_loss: 0.8520195484161377\n",
      "Total_Loss: 1.9557580947875977\n"
     ]
    },
    {
     "name": "stderr",
     "output_type": "stream",
     "text": [
      "19it [00:24,  1.28s/it]\n",
      "10it [00:14,  1.11s/it]"
     ]
    },
    {
     "name": "stdout",
     "output_type": "stream",
     "text": [
      "[219,    10] Running Loss: 1.362\n",
      "cat_loss: 2.5408728106413037e-05\n",
      "box_loss: 0.45436424016952515\n",
      "off_loss: 0.025550879538059235\n",
      "Mask_loss: 0.8666560053825378\n",
      "Total_Loss: 1.3465964794158936\n"
     ]
    },
    {
     "name": "stderr",
     "output_type": "stream",
     "text": [
      "19it [00:24,  1.27s/it]\n",
      "10it [00:14,  1.09s/it]"
     ]
    },
    {
     "name": "stdout",
     "output_type": "stream",
     "text": [
      "[220,    10] Running Loss: 1.532\n",
      "cat_loss: 1.2243908713571727e-05\n",
      "box_loss: 0.3692389726638794\n",
      "off_loss: 0.028670940548181534\n",
      "Mask_loss: 0.8660377264022827\n",
      "Total_Loss: 1.2639598846435547\n"
     ]
    },
    {
     "name": "stderr",
     "output_type": "stream",
     "text": [
      "19it [00:23,  1.26s/it]\n",
      "10it [00:14,  1.10s/it]"
     ]
    },
    {
     "name": "stdout",
     "output_type": "stream",
     "text": [
      "[221,    10] Running Loss: 1.537\n",
      "cat_loss: 6.638046761509031e-05\n",
      "box_loss: 0.24945738911628723\n",
      "off_loss: 0.026779882609844208\n",
      "Mask_loss: 0.8446047306060791\n",
      "Total_Loss: 1.1209083795547485\n"
     ]
    },
    {
     "name": "stderr",
     "output_type": "stream",
     "text": [
      "19it [00:23,  1.26s/it]\n",
      "10it [00:14,  1.11s/it]"
     ]
    },
    {
     "name": "stdout",
     "output_type": "stream",
     "text": [
      "[222,    10] Running Loss: 1.555\n",
      "cat_loss: 2.9414288292173296e-05\n",
      "box_loss: 0.5701708793640137\n",
      "off_loss: 0.035559412091970444\n",
      "Mask_loss: 0.866692841053009\n",
      "Total_Loss: 1.4724525213241577\n"
     ]
    },
    {
     "name": "stderr",
     "output_type": "stream",
     "text": [
      "19it [00:24,  1.27s/it]\n",
      "10it [00:14,  1.11s/it]"
     ]
    },
    {
     "name": "stdout",
     "output_type": "stream",
     "text": [
      "[223,    10] Running Loss: 1.373\n",
      "cat_loss: 7.18135925126262e-05\n",
      "box_loss: 0.294466495513916\n",
      "off_loss: 0.03135806322097778\n",
      "Mask_loss: 0.8560078740119934\n",
      "Total_Loss: 1.1819043159484863\n"
     ]
    },
    {
     "name": "stderr",
     "output_type": "stream",
     "text": [
      "19it [00:24,  1.28s/it]\n",
      "10it [00:14,  1.10s/it]"
     ]
    },
    {
     "name": "stdout",
     "output_type": "stream",
     "text": [
      "[224,    10] Running Loss: 1.480\n",
      "cat_loss: 2.709592808969319e-05\n",
      "box_loss: 0.7836204767227173\n",
      "off_loss: 0.025100102648139\n",
      "Mask_loss: 0.864565372467041\n",
      "Total_Loss: 1.6733131408691406\n"
     ]
    },
    {
     "name": "stderr",
     "output_type": "stream",
     "text": [
      "19it [00:23,  1.26s/it]\n",
      "10it [00:14,  1.11s/it]"
     ]
    },
    {
     "name": "stdout",
     "output_type": "stream",
     "text": [
      "[225,    10] Running Loss: 1.254\n",
      "cat_loss: 6.032564851921052e-05\n",
      "box_loss: 0.29116684198379517\n",
      "off_loss: 0.025484789162874222\n",
      "Mask_loss: 0.8503947854042053\n",
      "Total_Loss: 1.1671067476272583\n"
     ]
    },
    {
     "name": "stderr",
     "output_type": "stream",
     "text": [
      "19it [00:23,  1.26s/it]\n",
      "10it [00:15,  1.10s/it]"
     ]
    },
    {
     "name": "stdout",
     "output_type": "stream",
     "text": [
      "[226,    10] Running Loss: 1.337\n",
      "cat_loss: 1.797384538804181e-05\n",
      "box_loss: 0.2915322184562683\n",
      "off_loss: 0.019729861989617348\n",
      "Mask_loss: 0.8539354801177979\n",
      "Total_Loss: 1.1652154922485352\n"
     ]
    },
    {
     "name": "stderr",
     "output_type": "stream",
     "text": [
      "19it [00:24,  1.31s/it]\n",
      "10it [00:15,  1.12s/it]"
     ]
    },
    {
     "name": "stdout",
     "output_type": "stream",
     "text": [
      "[227,    10] Running Loss: 1.400\n",
      "cat_loss: 2.040543404291384e-05\n",
      "box_loss: 0.42654114961624146\n",
      "off_loss: 0.02853558585047722\n",
      "Mask_loss: 0.855092465877533\n",
      "Total_Loss: 1.3101896047592163\n"
     ]
    },
    {
     "name": "stderr",
     "output_type": "stream",
     "text": [
      "19it [00:25,  1.32s/it]\n",
      "10it [00:14,  1.09s/it]"
     ]
    },
    {
     "name": "stdout",
     "output_type": "stream",
     "text": [
      "[228,    10] Running Loss: 1.532\n",
      "cat_loss: 2.2626893041888252e-05\n",
      "box_loss: 0.43002116680145264\n",
      "off_loss: 0.023145930841565132\n",
      "Mask_loss: 0.8537808656692505\n",
      "Total_Loss: 1.3069705963134766\n"
     ]
    },
    {
     "name": "stderr",
     "output_type": "stream",
     "text": [
      "19it [00:24,  1.27s/it]\n",
      "10it [00:14,  1.10s/it]"
     ]
    },
    {
     "name": "stdout",
     "output_type": "stream",
     "text": [
      "[229,    10] Running Loss: 1.512\n",
      "cat_loss: 1.2562259144033305e-05\n",
      "box_loss: 0.6317615509033203\n",
      "off_loss: 0.03578158840537071\n",
      "Mask_loss: 0.859750509262085\n",
      "Total_Loss: 1.5273061990737915\n"
     ]
    },
    {
     "name": "stderr",
     "output_type": "stream",
     "text": [
      "19it [00:23,  1.26s/it]\n",
      "10it [00:14,  1.10s/it]"
     ]
    },
    {
     "name": "stdout",
     "output_type": "stream",
     "text": [
      "[230,    10] Running Loss: 1.470\n",
      "cat_loss: 4.223136784275994e-05\n",
      "box_loss: 0.46199679374694824\n",
      "off_loss: 0.03172989934682846\n",
      "Mask_loss: 0.8534122705459595\n",
      "Total_Loss: 1.3471812009811401\n"
     ]
    },
    {
     "name": "stderr",
     "output_type": "stream",
     "text": [
      "19it [00:24,  1.26s/it]\n",
      "10it [00:14,  1.09s/it]"
     ]
    },
    {
     "name": "stdout",
     "output_type": "stream",
     "text": [
      "[231,    10] Running Loss: 1.657\n",
      "cat_loss: 1.650351805437822e-05\n",
      "box_loss: 0.5183358192443848\n",
      "off_loss: 0.023742973804473877\n",
      "Mask_loss: 0.8431001305580139\n",
      "Total_Loss: 1.3851954936981201\n"
     ]
    },
    {
     "name": "stderr",
     "output_type": "stream",
     "text": [
      "19it [00:24,  1.27s/it]\n",
      "10it [00:14,  1.12s/it]"
     ]
    },
    {
     "name": "stdout",
     "output_type": "stream",
     "text": [
      "[232,    10] Running Loss: 1.773\n",
      "cat_loss: 1.5562476619379595e-05\n",
      "box_loss: 1.1340522766113281\n",
      "off_loss: 0.02621317468583584\n",
      "Mask_loss: 0.8625493049621582\n",
      "Total_Loss: 2.0228304862976074\n"
     ]
    },
    {
     "name": "stderr",
     "output_type": "stream",
     "text": [
      "19it [00:24,  1.27s/it]\n",
      "10it [00:15,  1.13s/it]"
     ]
    },
    {
     "name": "stdout",
     "output_type": "stream",
     "text": [
      "[233,    10] Running Loss: 1.616\n",
      "cat_loss: 1.884512312244624e-05\n",
      "box_loss: 1.1755986213684082\n",
      "off_loss: 0.02436528168618679\n",
      "Mask_loss: 0.8531680703163147\n",
      "Total_Loss: 2.0531508922576904\n"
     ]
    },
    {
     "name": "stderr",
     "output_type": "stream",
     "text": [
      "19it [00:24,  1.29s/it]\n",
      "10it [00:14,  1.09s/it]"
     ]
    },
    {
     "name": "stdout",
     "output_type": "stream",
     "text": [
      "[234,    10] Running Loss: 1.365\n",
      "cat_loss: 1.5495887055294588e-05\n",
      "box_loss: 0.44416332244873047\n",
      "off_loss: 0.027563974261283875\n",
      "Mask_loss: 0.8471097946166992\n",
      "Total_Loss: 1.3188526630401611\n"
     ]
    },
    {
     "name": "stderr",
     "output_type": "stream",
     "text": [
      "19it [00:23,  1.26s/it]\n",
      "10it [00:14,  1.09s/it]"
     ]
    },
    {
     "name": "stdout",
     "output_type": "stream",
     "text": [
      "[235,    10] Running Loss: 1.639\n",
      "cat_loss: 5.289985710987821e-05\n",
      "box_loss: 1.2253191471099854\n",
      "off_loss: 0.032220564782619476\n",
      "Mask_loss: 0.8243210315704346\n",
      "Total_Loss: 2.081913709640503\n"
     ]
    },
    {
     "name": "stderr",
     "output_type": "stream",
     "text": [
      "19it [00:23,  1.25s/it]\n",
      "10it [00:14,  1.10s/it]"
     ]
    },
    {
     "name": "stdout",
     "output_type": "stream",
     "text": [
      "[236,    10] Running Loss: 1.442\n",
      "cat_loss: 1.9931147107854486e-05\n",
      "box_loss: 0.36343473196029663\n",
      "off_loss: 0.03123820386826992\n",
      "Mask_loss: 0.8468407988548279\n",
      "Total_Loss: 1.241533637046814\n"
     ]
    },
    {
     "name": "stderr",
     "output_type": "stream",
     "text": [
      "19it [00:24,  1.26s/it]\n",
      "10it [00:14,  1.10s/it]"
     ]
    },
    {
     "name": "stdout",
     "output_type": "stream",
     "text": [
      "[237,    10] Running Loss: 1.565\n",
      "cat_loss: 1.2843899639847223e-05\n",
      "box_loss: 0.5651955008506775\n",
      "off_loss: 0.033685117959976196\n",
      "Mask_loss: 0.8867459297180176\n",
      "Total_Loss: 1.4856393337249756\n"
     ]
    },
    {
     "name": "stderr",
     "output_type": "stream",
     "text": [
      "19it [00:24,  1.26s/it]\n",
      "10it [00:14,  1.09s/it]"
     ]
    },
    {
     "name": "stdout",
     "output_type": "stream",
     "text": [
      "[238,    10] Running Loss: 1.705\n",
      "cat_loss: 1.8190052287536673e-05\n",
      "box_loss: 1.5633716583251953\n",
      "off_loss: 0.032106783241033554\n",
      "Mask_loss: 0.8825421929359436\n",
      "Total_Loss: 2.478038787841797\n"
     ]
    },
    {
     "name": "stderr",
     "output_type": "stream",
     "text": [
      "19it [00:23,  1.26s/it]\n",
      "10it [00:14,  1.11s/it]"
     ]
    },
    {
     "name": "stdout",
     "output_type": "stream",
     "text": [
      "[239,    10] Running Loss: 1.438\n",
      "cat_loss: 2.4840421247063205e-05\n",
      "box_loss: 0.7150826454162598\n",
      "off_loss: 0.02840888872742653\n",
      "Mask_loss: 0.8715941905975342\n",
      "Total_Loss: 1.6151106357574463\n"
     ]
    },
    {
     "name": "stderr",
     "output_type": "stream",
     "text": [
      "19it [00:24,  1.27s/it]\n",
      "10it [00:14,  1.11s/it]"
     ]
    },
    {
     "name": "stdout",
     "output_type": "stream",
     "text": [
      "[240,    10] Running Loss: 1.900\n",
      "cat_loss: 4.674305091612041e-05\n",
      "box_loss: 0.7427561283111572\n",
      "off_loss: 0.05656701326370239\n",
      "Mask_loss: 0.8364654779434204\n",
      "Total_Loss: 1.6358354091644287\n"
     ]
    },
    {
     "name": "stderr",
     "output_type": "stream",
     "text": [
      "19it [00:24,  1.29s/it]\n",
      "10it [00:14,  1.14s/it]"
     ]
    },
    {
     "name": "stdout",
     "output_type": "stream",
     "text": [
      "[241,    10] Running Loss: 1.855\n",
      "cat_loss: 6.444462633226067e-05\n",
      "box_loss: 0.745072603225708\n",
      "off_loss: 0.029785094782710075\n",
      "Mask_loss: 0.8600368499755859\n",
      "Total_Loss: 1.6349589824676514\n"
     ]
    },
    {
     "name": "stderr",
     "output_type": "stream",
     "text": [
      "19it [00:24,  1.29s/it]\n",
      "10it [00:14,  1.11s/it]"
     ]
    },
    {
     "name": "stdout",
     "output_type": "stream",
     "text": [
      "[242,    10] Running Loss: 1.611\n",
      "cat_loss: 4.162555342190899e-05\n",
      "box_loss: 0.578269362449646\n",
      "off_loss: 0.03426998853683472\n",
      "Mask_loss: 0.8642876148223877\n",
      "Total_Loss: 1.4768686294555664\n"
     ]
    },
    {
     "name": "stderr",
     "output_type": "stream",
     "text": [
      "19it [00:24,  1.29s/it]\n",
      "10it [00:14,  1.11s/it]"
     ]
    },
    {
     "name": "stdout",
     "output_type": "stream",
     "text": [
      "[243,    10] Running Loss: 1.934\n",
      "cat_loss: 1.5583405911456794e-05\n",
      "box_loss: 2.0151758193969727\n",
      "off_loss: 0.04381983354687691\n",
      "Mask_loss: 0.8444957137107849\n",
      "Total_Loss: 2.9035069942474365\n"
     ]
    },
    {
     "name": "stderr",
     "output_type": "stream",
     "text": [
      "19it [00:24,  1.27s/it]\n",
      "10it [00:14,  1.10s/it]"
     ]
    },
    {
     "name": "stdout",
     "output_type": "stream",
     "text": [
      "[244,    10] Running Loss: 1.651\n",
      "cat_loss: 3.267555803176947e-05\n",
      "box_loss: 0.543239176273346\n",
      "off_loss: 0.0331939235329628\n",
      "Mask_loss: 0.8547155857086182\n",
      "Total_Loss: 1.4311814308166504\n"
     ]
    },
    {
     "name": "stderr",
     "output_type": "stream",
     "text": [
      "19it [00:24,  1.27s/it]\n",
      "10it [00:14,  1.08s/it]"
     ]
    },
    {
     "name": "stdout",
     "output_type": "stream",
     "text": [
      "[245,    10] Running Loss: 1.568\n",
      "cat_loss: 2.604630026326049e-05\n",
      "box_loss: 0.5188636183738708\n",
      "off_loss: 0.03204195573925972\n",
      "Mask_loss: 0.8350050449371338\n",
      "Total_Loss: 1.3859367370605469\n"
     ]
    },
    {
     "name": "stderr",
     "output_type": "stream",
     "text": [
      "19it [00:23,  1.26s/it]\n",
      "10it [00:14,  1.10s/it]"
     ]
    },
    {
     "name": "stdout",
     "output_type": "stream",
     "text": [
      "[246,    10] Running Loss: 3.515\n",
      "cat_loss: 2.153729110432323e-05\n",
      "box_loss: 4.9716644287109375\n",
      "off_loss: 0.03836798667907715\n",
      "Mask_loss: 0.8682618141174316\n",
      "Total_Loss: 5.878315448760986\n"
     ]
    },
    {
     "name": "stderr",
     "output_type": "stream",
     "text": [
      "19it [00:24,  1.27s/it]\n",
      "10it [00:14,  1.09s/it]"
     ]
    },
    {
     "name": "stdout",
     "output_type": "stream",
     "text": [
      "[247,    10] Running Loss: 2.425\n",
      "cat_loss: 3.0445320589933544e-05\n",
      "box_loss: 1.2743171453475952\n",
      "off_loss: 0.0337342694401741\n",
      "Mask_loss: 0.8546417951583862\n",
      "Total_Loss: 2.1627235412597656\n"
     ]
    },
    {
     "name": "stderr",
     "output_type": "stream",
     "text": [
      "19it [00:23,  1.26s/it]\n",
      "10it [00:14,  1.10s/it]"
     ]
    },
    {
     "name": "stdout",
     "output_type": "stream",
     "text": [
      "[248,    10] Running Loss: 1.749\n",
      "cat_loss: 1.1480773537186906e-05\n",
      "box_loss: 0.37699151039123535\n",
      "off_loss: 0.024555182084441185\n",
      "Mask_loss: 0.857633113861084\n",
      "Total_Loss: 1.2591912746429443\n"
     ]
    },
    {
     "name": "stderr",
     "output_type": "stream",
     "text": [
      "19it [00:24,  1.28s/it]\n",
      "10it [00:14,  1.12s/it]"
     ]
    },
    {
     "name": "stdout",
     "output_type": "stream",
     "text": [
      "[249,    10] Running Loss: 1.417\n",
      "cat_loss: 2.2314934540190734e-05\n",
      "box_loss: 0.7638289332389832\n",
      "off_loss: 0.02635841816663742\n",
      "Mask_loss: 0.8592780828475952\n",
      "Total_Loss: 1.6494877338409424\n"
     ]
    },
    {
     "name": "stderr",
     "output_type": "stream",
     "text": [
      "19it [00:24,  1.28s/it]\n",
      "10it [00:14,  1.09s/it]"
     ]
    },
    {
     "name": "stdout",
     "output_type": "stream",
     "text": [
      "[250,    10] Running Loss: 1.920\n",
      "cat_loss: 7.690230631851591e-06\n",
      "box_loss: 0.7203618288040161\n",
      "off_loss: 0.03382892161607742\n",
      "Mask_loss: 0.8520022630691528\n",
      "Total_Loss: 1.6062006950378418\n"
     ]
    },
    {
     "name": "stderr",
     "output_type": "stream",
     "text": [
      "19it [00:24,  1.28s/it]\n",
      "10it [00:14,  1.12s/it]"
     ]
    },
    {
     "name": "stdout",
     "output_type": "stream",
     "text": [
      "[251,    10] Running Loss: 2.047\n",
      "cat_loss: 2.4819250029395334e-05\n",
      "box_loss: 1.3409652709960938\n",
      "off_loss: 0.026690997183322906\n",
      "Mask_loss: 0.8548259735107422\n",
      "Total_Loss: 2.2225069999694824\n"
     ]
    },
    {
     "name": "stderr",
     "output_type": "stream",
     "text": [
      "19it [00:24,  1.30s/it]\n",
      "10it [00:14,  1.11s/it]"
     ]
    },
    {
     "name": "stdout",
     "output_type": "stream",
     "text": [
      "[252,    10] Running Loss: 1.466\n",
      "cat_loss: 8.737505595490802e-06\n",
      "box_loss: 0.5230700969696045\n",
      "off_loss: 0.030325202271342278\n",
      "Mask_loss: 0.867099940776825\n",
      "Total_Loss: 1.4205039739608765\n"
     ]
    },
    {
     "name": "stderr",
     "output_type": "stream",
     "text": [
      "19it [00:24,  1.27s/it]\n",
      "10it [00:14,  1.09s/it]"
     ]
    },
    {
     "name": "stdout",
     "output_type": "stream",
     "text": [
      "[253,    10] Running Loss: 1.454\n",
      "cat_loss: 1.3354308975976892e-05\n",
      "box_loss: 0.8895130157470703\n",
      "off_loss: 0.03619276359677315\n",
      "Mask_loss: 0.8632768988609314\n",
      "Total_Loss: 1.7889959812164307\n"
     ]
    },
    {
     "name": "stderr",
     "output_type": "stream",
     "text": [
      "19it [00:24,  1.26s/it]\n",
      "10it [00:14,  1.12s/it]"
     ]
    },
    {
     "name": "stdout",
     "output_type": "stream",
     "text": [
      "[254,    10] Running Loss: 1.368\n",
      "cat_loss: 2.8921180273755454e-05\n",
      "box_loss: 0.31730300188064575\n",
      "off_loss: 0.028505338355898857\n",
      "Mask_loss: 0.8678900599479675\n",
      "Total_Loss: 1.2137272357940674\n"
     ]
    },
    {
     "name": "stderr",
     "output_type": "stream",
     "text": [
      "19it [00:24,  1.28s/it]\n",
      "10it [00:15,  1.13s/it]"
     ]
    },
    {
     "name": "stdout",
     "output_type": "stream",
     "text": [
      "[255,    10] Running Loss: 1.385\n",
      "cat_loss: 1.874564986792393e-05\n",
      "box_loss: 0.4398006200790405\n",
      "off_loss: 0.025568431243300438\n",
      "Mask_loss: 0.8533197641372681\n",
      "Total_Loss: 1.3187075853347778\n"
     ]
    },
    {
     "name": "stderr",
     "output_type": "stream",
     "text": [
      "19it [00:24,  1.30s/it]\n",
      "10it [00:14,  1.11s/it]"
     ]
    },
    {
     "name": "stdout",
     "output_type": "stream",
     "text": [
      "[256,    10] Running Loss: 1.405\n",
      "cat_loss: 1.7814501916291192e-05\n",
      "box_loss: 0.3907468616962433\n",
      "off_loss: 0.033166151493787766\n",
      "Mask_loss: 0.8521884083747864\n",
      "Total_Loss: 1.2761192321777344\n"
     ]
    },
    {
     "name": "stderr",
     "output_type": "stream",
     "text": [
      "19it [00:24,  1.28s/it]\n",
      "10it [00:14,  1.10s/it]"
     ]
    },
    {
     "name": "stdout",
     "output_type": "stream",
     "text": [
      "[257,    10] Running Loss: 1.649\n",
      "cat_loss: 1.1169649951625615e-05\n",
      "box_loss: 0.6869350671768188\n",
      "off_loss: 0.030757343396544456\n",
      "Mask_loss: 0.8622675538063049\n",
      "Total_Loss: 1.5799710750579834\n"
     ]
    },
    {
     "name": "stderr",
     "output_type": "stream",
     "text": [
      "19it [00:24,  1.27s/it]\n",
      "10it [00:14,  1.11s/it]"
     ]
    },
    {
     "name": "stdout",
     "output_type": "stream",
     "text": [
      "[258,    10] Running Loss: 1.342\n",
      "cat_loss: 1.4189188732416369e-05\n",
      "box_loss: 0.31903076171875\n",
      "off_loss: 0.02290301024913788\n",
      "Mask_loss: 0.8463647365570068\n",
      "Total_Loss: 1.1883127689361572\n"
     ]
    },
    {
     "name": "stderr",
     "output_type": "stream",
     "text": [
      "19it [00:24,  1.28s/it]\n",
      "10it [00:14,  1.11s/it]"
     ]
    },
    {
     "name": "stdout",
     "output_type": "stream",
     "text": [
      "[259,    10] Running Loss: 1.371\n",
      "cat_loss: 1.2757254808093421e-05\n",
      "box_loss: 0.3535695970058441\n",
      "off_loss: 0.024028033018112183\n",
      "Mask_loss: 0.8809150457382202\n",
      "Total_Loss: 1.2585253715515137\n"
     ]
    },
    {
     "name": "stderr",
     "output_type": "stream",
     "text": [
      "19it [00:24,  1.28s/it]\n",
      "10it [00:14,  1.11s/it]"
     ]
    },
    {
     "name": "stdout",
     "output_type": "stream",
     "text": [
      "[260,    10] Running Loss: 1.360\n",
      "cat_loss: 9.544949534756597e-06\n",
      "box_loss: 0.6519016027450562\n",
      "off_loss: 0.03829554095864296\n",
      "Mask_loss: 0.8582395315170288\n",
      "Total_Loss: 1.5484461784362793\n"
     ]
    },
    {
     "name": "stderr",
     "output_type": "stream",
     "text": [
      "19it [00:24,  1.28s/it]\n",
      "10it [00:14,  1.10s/it]"
     ]
    },
    {
     "name": "stdout",
     "output_type": "stream",
     "text": [
      "[261,    10] Running Loss: 1.528\n",
      "cat_loss: 5.427117139333859e-05\n",
      "box_loss: 0.445853054523468\n",
      "off_loss: 0.02536827139556408\n",
      "Mask_loss: 0.8572394847869873\n",
      "Total_Loss: 1.3285150527954102\n"
     ]
    },
    {
     "name": "stderr",
     "output_type": "stream",
     "text": [
      "19it [00:23,  1.26s/it]\n",
      "10it [00:14,  1.17s/it]"
     ]
    },
    {
     "name": "stdout",
     "output_type": "stream",
     "text": [
      "[262,    10] Running Loss: 1.325\n",
      "cat_loss: 2.6884095859713852e-05\n",
      "box_loss: 0.42409205436706543\n",
      "off_loss: 0.0251296479254961\n",
      "Mask_loss: 0.8569459915161133\n",
      "Total_Loss: 1.306194543838501\n"
     ]
    },
    {
     "name": "stderr",
     "output_type": "stream",
     "text": [
      "19it [00:24,  1.30s/it]\n",
      "10it [00:14,  1.10s/it]"
     ]
    },
    {
     "name": "stdout",
     "output_type": "stream",
     "text": [
      "[263,    10] Running Loss: 1.334\n",
      "cat_loss: 1.521823196526384e-05\n",
      "box_loss: 0.2059110701084137\n",
      "off_loss: 0.029452331364154816\n",
      "Mask_loss: 0.8670144081115723\n",
      "Total_Loss: 1.1023930311203003\n"
     ]
    },
    {
     "name": "stderr",
     "output_type": "stream",
     "text": [
      "19it [00:24,  1.27s/it]\n",
      "10it [00:14,  1.10s/it]"
     ]
    },
    {
     "name": "stdout",
     "output_type": "stream",
     "text": [
      "[264,    10] Running Loss: 1.530\n",
      "cat_loss: 3.2401854696217924e-05\n",
      "box_loss: 0.42670971155166626\n",
      "off_loss: 0.020082421600818634\n",
      "Mask_loss: 0.8658102750778198\n",
      "Total_Loss: 1.312634825706482\n"
     ]
    },
    {
     "name": "stderr",
     "output_type": "stream",
     "text": [
      "19it [00:24,  1.27s/it]\n",
      "10it [00:14,  1.10s/it]"
     ]
    },
    {
     "name": "stdout",
     "output_type": "stream",
     "text": [
      "[265,    10] Running Loss: 1.503\n",
      "cat_loss: 1.6903244613786228e-05\n",
      "box_loss: 0.6883547306060791\n",
      "off_loss: 0.03210320323705673\n",
      "Mask_loss: 0.859201192855835\n",
      "Total_Loss: 1.5796760320663452\n"
     ]
    },
    {
     "name": "stderr",
     "output_type": "stream",
     "text": [
      "19it [00:24,  1.27s/it]\n",
      "10it [00:14,  1.11s/it]"
     ]
    },
    {
     "name": "stdout",
     "output_type": "stream",
     "text": [
      "[266,    10] Running Loss: 1.446\n",
      "cat_loss: 1.63600761879934e-05\n",
      "box_loss: 0.5745644569396973\n",
      "off_loss: 0.02572934329509735\n",
      "Mask_loss: 0.8505923748016357\n",
      "Total_Loss: 1.4509024620056152\n"
     ]
    },
    {
     "name": "stderr",
     "output_type": "stream",
     "text": [
      "19it [00:24,  1.27s/it]\n",
      "10it [00:14,  1.10s/it]"
     ]
    },
    {
     "name": "stdout",
     "output_type": "stream",
     "text": [
      "[267,    10] Running Loss: 1.283\n",
      "cat_loss: 3.829125125776045e-05\n",
      "box_loss: 0.5340898036956787\n",
      "off_loss: 0.025194920599460602\n",
      "Mask_loss: 0.8717175126075745\n",
      "Total_Loss: 1.4310405254364014\n"
     ]
    },
    {
     "name": "stderr",
     "output_type": "stream",
     "text": [
      "19it [00:24,  1.28s/it]\n",
      "10it [00:14,  1.10s/it]"
     ]
    },
    {
     "name": "stdout",
     "output_type": "stream",
     "text": [
      "[268,    10] Running Loss: 1.392\n",
      "cat_loss: 6.904672318341909e-06\n",
      "box_loss: 0.3672044575214386\n",
      "off_loss: 0.034471046179533005\n",
      "Mask_loss: 0.8502866625785828\n",
      "Total_Loss: 1.2519690990447998\n"
     ]
    },
    {
     "name": "stderr",
     "output_type": "stream",
     "text": [
      "19it [00:24,  1.28s/it]\n",
      "10it [00:14,  1.12s/it]"
     ]
    },
    {
     "name": "stdout",
     "output_type": "stream",
     "text": [
      "[269,    10] Running Loss: 1.501\n",
      "cat_loss: 1.8461418221704662e-05\n",
      "box_loss: 0.3452984690666199\n",
      "off_loss: 0.03097379021346569\n",
      "Mask_loss: 0.8474197387695312\n",
      "Total_Loss: 1.2237104177474976\n"
     ]
    },
    {
     "name": "stderr",
     "output_type": "stream",
     "text": [
      "19it [00:24,  1.28s/it]\n",
      "10it [00:15,  1.21s/it]"
     ]
    },
    {
     "name": "stdout",
     "output_type": "stream",
     "text": [
      "[270,    10] Running Loss: 1.385\n",
      "cat_loss: 5.014797807234572e-06\n",
      "box_loss: 0.30827414989471436\n",
      "off_loss: 0.025354167446494102\n",
      "Mask_loss: 0.8426247835159302\n",
      "Total_Loss: 1.1762580871582031\n"
     ]
    },
    {
     "name": "stderr",
     "output_type": "stream",
     "text": [
      "19it [00:25,  1.33s/it]\n",
      "10it [00:14,  1.11s/it]"
     ]
    },
    {
     "name": "stdout",
     "output_type": "stream",
     "text": [
      "[271,    10] Running Loss: 1.391\n",
      "cat_loss: 0.00012662478548008949\n",
      "box_loss: 0.870641827583313\n",
      "off_loss: 0.03708571940660477\n",
      "Mask_loss: 0.840752363204956\n",
      "Total_Loss: 1.7486064434051514\n"
     ]
    },
    {
     "name": "stderr",
     "output_type": "stream",
     "text": [
      "19it [00:24,  1.27s/it]\n",
      "10it [00:14,  1.11s/it]"
     ]
    },
    {
     "name": "stdout",
     "output_type": "stream",
     "text": [
      "[272,    10] Running Loss: 1.194\n",
      "cat_loss: 1.0440227924846113e-05\n",
      "box_loss: 0.21489538252353668\n",
      "off_loss: 0.029469899833202362\n",
      "Mask_loss: 0.8422791957855225\n",
      "Total_Loss: 1.0866549015045166\n"
     ]
    },
    {
     "name": "stderr",
     "output_type": "stream",
     "text": [
      "19it [00:24,  1.27s/it]\n",
      "10it [00:14,  1.10s/it]"
     ]
    },
    {
     "name": "stdout",
     "output_type": "stream",
     "text": [
      "[273,    10] Running Loss: 1.213\n",
      "cat_loss: 1.1050476132368203e-05\n",
      "box_loss: 0.29948294162750244\n",
      "off_loss: 0.02640744298696518\n",
      "Mask_loss: 0.8466899991035461\n",
      "Total_Loss: 1.1725914478302002\n"
     ]
    },
    {
     "name": "stderr",
     "output_type": "stream",
     "text": [
      "19it [00:24,  1.28s/it]\n",
      "10it [00:14,  1.10s/it]"
     ]
    },
    {
     "name": "stdout",
     "output_type": "stream",
     "text": [
      "[274,    10] Running Loss: 1.301\n",
      "cat_loss: 3.770678176806541e-06\n",
      "box_loss: 0.3312617242336273\n",
      "off_loss: 0.02643965184688568\n",
      "Mask_loss: 0.8540825843811035\n",
      "Total_Loss: 1.2117877006530762\n"
     ]
    },
    {
     "name": "stderr",
     "output_type": "stream",
     "text": [
      "19it [00:24,  1.27s/it]\n",
      "10it [00:14,  1.11s/it]"
     ]
    },
    {
     "name": "stdout",
     "output_type": "stream",
     "text": [
      "[275,    10] Running Loss: 1.291\n",
      "cat_loss: 2.1604555513476953e-05\n",
      "box_loss: 0.42052510380744934\n",
      "off_loss: 0.03776685893535614\n",
      "Mask_loss: 0.8679375648498535\n",
      "Total_Loss: 1.3262511491775513\n"
     ]
    },
    {
     "name": "stderr",
     "output_type": "stream",
     "text": [
      "19it [00:24,  1.28s/it]\n",
      "10it [00:14,  1.10s/it]"
     ]
    },
    {
     "name": "stdout",
     "output_type": "stream",
     "text": [
      "[276,    10] Running Loss: 1.508\n",
      "cat_loss: 6.115107680670917e-06\n",
      "box_loss: 0.7373193502426147\n",
      "off_loss: 0.024697978049516678\n",
      "Mask_loss: 0.8392928838729858\n",
      "Total_Loss: 1.6013163328170776\n"
     ]
    },
    {
     "name": "stderr",
     "output_type": "stream",
     "text": [
      "19it [00:24,  1.28s/it]\n",
      "10it [00:15,  1.13s/it]"
     ]
    },
    {
     "name": "stdout",
     "output_type": "stream",
     "text": [
      "[277,    10] Running Loss: 1.578\n",
      "cat_loss: 2.4547192879254e-05\n",
      "box_loss: 0.5019887685775757\n",
      "off_loss: 0.029117535799741745\n",
      "Mask_loss: 0.8541022539138794\n",
      "Total_Loss: 1.3852331638336182\n"
     ]
    },
    {
     "name": "stderr",
     "output_type": "stream",
     "text": [
      "19it [00:24,  1.30s/it]\n",
      "10it [00:14,  1.12s/it]"
     ]
    },
    {
     "name": "stdout",
     "output_type": "stream",
     "text": [
      "[278,    10] Running Loss: 1.364\n",
      "cat_loss: 2.1762525648227893e-05\n",
      "box_loss: 0.491454541683197\n",
      "off_loss: 0.040124863386154175\n",
      "Mask_loss: 0.8715285062789917\n",
      "Total_Loss: 1.4031296968460083\n"
     ]
    },
    {
     "name": "stderr",
     "output_type": "stream",
     "text": [
      "19it [00:24,  1.28s/it]\n",
      "10it [00:15,  1.24s/it]"
     ]
    },
    {
     "name": "stdout",
     "output_type": "stream",
     "text": [
      "[279,    10] Running Loss: 1.676\n",
      "cat_loss: 0.00010871357517316937\n",
      "box_loss: 0.7779080867767334\n",
      "off_loss: 0.028492582961916924\n",
      "Mask_loss: 0.8472776412963867\n",
      "Total_Loss: 1.6537870168685913\n"
     ]
    },
    {
     "name": "stderr",
     "output_type": "stream",
     "text": [
      "19it [00:25,  1.34s/it]\n",
      "10it [00:14,  1.12s/it]"
     ]
    },
    {
     "name": "stdout",
     "output_type": "stream",
     "text": [
      "[280,    10] Running Loss: 1.482\n",
      "cat_loss: 5.2644205425167456e-05\n",
      "box_loss: 0.6498844027519226\n",
      "off_loss: 0.026344677433371544\n",
      "Mask_loss: 0.8683558702468872\n",
      "Total_Loss: 1.5446375608444214\n"
     ]
    },
    {
     "name": "stderr",
     "output_type": "stream",
     "text": [
      "19it [00:24,  1.28s/it]\n",
      "10it [00:14,  1.11s/it]"
     ]
    },
    {
     "name": "stdout",
     "output_type": "stream",
     "text": [
      "[281,    10] Running Loss: 1.417\n",
      "cat_loss: 3.199252387275919e-05\n",
      "box_loss: 0.40764153003692627\n",
      "off_loss: 0.02526143379509449\n",
      "Mask_loss: 0.8539613485336304\n",
      "Total_Loss: 1.2868962287902832\n"
     ]
    },
    {
     "name": "stderr",
     "output_type": "stream",
     "text": [
      "19it [00:23,  1.26s/it]\n",
      "10it [00:14,  1.12s/it]"
     ]
    },
    {
     "name": "stdout",
     "output_type": "stream",
     "text": [
      "[282,    10] Running Loss: 1.332\n",
      "cat_loss: 2.049625982181169e-05\n",
      "box_loss: 0.458405077457428\n",
      "off_loss: 0.02337992563843727\n",
      "Mask_loss: 0.8446440100669861\n",
      "Total_Loss: 1.3264495134353638\n"
     ]
    },
    {
     "name": "stderr",
     "output_type": "stream",
     "text": [
      "19it [00:24,  1.27s/it]\n",
      "10it [00:14,  1.11s/it]"
     ]
    },
    {
     "name": "stdout",
     "output_type": "stream",
     "text": [
      "[283,    10] Running Loss: 1.391\n",
      "cat_loss: 1.6243691788986325e-05\n",
      "box_loss: 0.9278073310852051\n",
      "off_loss: 0.034138284623622894\n",
      "Mask_loss: 0.8645966649055481\n",
      "Total_Loss: 1.8265585899353027\n"
     ]
    },
    {
     "name": "stderr",
     "output_type": "stream",
     "text": [
      "19it [00:24,  1.28s/it]\n",
      "10it [00:14,  1.17s/it]"
     ]
    },
    {
     "name": "stdout",
     "output_type": "stream",
     "text": [
      "[284,    10] Running Loss: 1.832\n",
      "cat_loss: 1.5108760635484941e-05\n",
      "box_loss: 0.8460676670074463\n",
      "off_loss: 0.026031512767076492\n",
      "Mask_loss: 0.8414437770843506\n",
      "Total_Loss: 1.7135579586029053\n"
     ]
    },
    {
     "name": "stderr",
     "output_type": "stream",
     "text": [
      "19it [00:24,  1.30s/it]\n",
      "10it [00:14,  1.09s/it]"
     ]
    },
    {
     "name": "stdout",
     "output_type": "stream",
     "text": [
      "[285,    10] Running Loss: 1.352\n",
      "cat_loss: 1.2056651030434296e-05\n",
      "box_loss: 0.6783227324485779\n",
      "off_loss: 0.021321680396795273\n",
      "Mask_loss: 0.8366310596466064\n",
      "Total_Loss: 1.536287546157837\n"
     ]
    },
    {
     "name": "stderr",
     "output_type": "stream",
     "text": [
      "19it [00:24,  1.27s/it]\n",
      "10it [00:14,  1.12s/it]"
     ]
    },
    {
     "name": "stdout",
     "output_type": "stream",
     "text": [
      "[286,    10] Running Loss: 1.349\n",
      "cat_loss: 1.0232972272206098e-05\n",
      "box_loss: 0.5326045751571655\n",
      "off_loss: 0.02689289301633835\n",
      "Mask_loss: 0.8810988068580627\n",
      "Total_Loss: 1.4406065940856934\n"
     ]
    },
    {
     "name": "stderr",
     "output_type": "stream",
     "text": [
      "19it [00:24,  1.28s/it]\n",
      "10it [00:14,  1.11s/it]"
     ]
    },
    {
     "name": "stdout",
     "output_type": "stream",
     "text": [
      "[287,    10] Running Loss: 1.447\n",
      "cat_loss: 3.363084260854521e-06\n",
      "box_loss: 0.4188147783279419\n",
      "off_loss: 0.026222892105579376\n",
      "Mask_loss: 0.8343883156776428\n",
      "Total_Loss: 1.279429316520691\n"
     ]
    },
    {
     "name": "stderr",
     "output_type": "stream",
     "text": [
      "19it [00:24,  1.27s/it]\n",
      "10it [00:14,  1.09s/it]"
     ]
    },
    {
     "name": "stdout",
     "output_type": "stream",
     "text": [
      "[288,    10] Running Loss: 1.178\n",
      "cat_loss: 8.701930710230954e-06\n",
      "box_loss: 0.18539971113204956\n",
      "off_loss: 0.026139825582504272\n",
      "Mask_loss: 0.8482192754745483\n",
      "Total_Loss: 1.059767484664917\n"
     ]
    },
    {
     "name": "stderr",
     "output_type": "stream",
     "text": [
      "19it [00:23,  1.26s/it]\n",
      "10it [00:14,  1.10s/it]"
     ]
    },
    {
     "name": "stdout",
     "output_type": "stream",
     "text": [
      "[289,    10] Running Loss: 1.302\n",
      "cat_loss: 9.309507731813937e-06\n",
      "box_loss: 0.4416358470916748\n",
      "off_loss: 0.02249150350689888\n",
      "Mask_loss: 0.8443337082862854\n",
      "Total_Loss: 1.308470368385315\n"
     ]
    },
    {
     "name": "stderr",
     "output_type": "stream",
     "text": [
      "19it [00:24,  1.27s/it]\n",
      "10it [00:14,  1.09s/it]"
     ]
    },
    {
     "name": "stdout",
     "output_type": "stream",
     "text": [
      "[290,    10] Running Loss: 1.253\n",
      "cat_loss: 2.3852577214711346e-05\n",
      "box_loss: 0.4796152710914612\n",
      "off_loss: 0.024469804018735886\n",
      "Mask_loss: 0.8507282733917236\n",
      "Total_Loss: 1.35483717918396\n"
     ]
    },
    {
     "name": "stderr",
     "output_type": "stream",
     "text": [
      "19it [00:24,  1.27s/it]\n",
      "10it [00:14,  1.09s/it]"
     ]
    },
    {
     "name": "stdout",
     "output_type": "stream",
     "text": [
      "[291,    10] Running Loss: 1.264\n",
      "cat_loss: 2.026843503699638e-05\n",
      "box_loss: 0.3701574504375458\n",
      "off_loss: 0.026566972956061363\n",
      "Mask_loss: 0.8597356081008911\n",
      "Total_Loss: 1.25648033618927\n"
     ]
    },
    {
     "name": "stderr",
     "output_type": "stream",
     "text": [
      "19it [00:24,  1.27s/it]\n",
      "10it [00:14,  1.10s/it]"
     ]
    },
    {
     "name": "stdout",
     "output_type": "stream",
     "text": [
      "[292,    10] Running Loss: 1.344\n",
      "cat_loss: 1.3130881598044652e-05\n",
      "box_loss: 0.53309565782547\n",
      "off_loss: 0.03239191696047783\n",
      "Mask_loss: 0.8693537712097168\n",
      "Total_Loss: 1.434854507446289\n"
     ]
    },
    {
     "name": "stderr",
     "output_type": "stream",
     "text": [
      "19it [00:24,  1.28s/it]\n",
      "10it [00:14,  1.10s/it]"
     ]
    },
    {
     "name": "stdout",
     "output_type": "stream",
     "text": [
      "[293,    10] Running Loss: 1.507\n",
      "cat_loss: 1.2704322216450237e-05\n",
      "box_loss: 1.305719017982483\n",
      "off_loss: 0.028509480878710747\n",
      "Mask_loss: 0.8529959321022034\n",
      "Total_Loss: 2.18723726272583\n"
     ]
    },
    {
     "name": "stderr",
     "output_type": "stream",
     "text": [
      "19it [00:24,  1.28s/it]\n",
      "10it [00:14,  1.12s/it]"
     ]
    },
    {
     "name": "stdout",
     "output_type": "stream",
     "text": [
      "[294,    10] Running Loss: 1.397\n",
      "cat_loss: 6.253143510548398e-06\n",
      "box_loss: 0.3920029103755951\n",
      "off_loss: 0.026317588984966278\n",
      "Mask_loss: 0.8627465963363647\n",
      "Total_Loss: 1.2810733318328857\n"
     ]
    },
    {
     "name": "stderr",
     "output_type": "stream",
     "text": [
      "19it [00:24,  1.28s/it]\n",
      "10it [00:14,  1.11s/it]"
     ]
    },
    {
     "name": "stdout",
     "output_type": "stream",
     "text": [
      "[295,    10] Running Loss: 1.387\n",
      "cat_loss: 3.251171438023448e-05\n",
      "box_loss: 0.540035605430603\n",
      "off_loss: 0.027007941156625748\n",
      "Mask_loss: 0.8670949339866638\n",
      "Total_Loss: 1.4341709613800049\n"
     ]
    },
    {
     "name": "stderr",
     "output_type": "stream",
     "text": [
      "19it [00:24,  1.28s/it]\n",
      "10it [00:14,  1.11s/it]"
     ]
    },
    {
     "name": "stdout",
     "output_type": "stream",
     "text": [
      "[296,    10] Running Loss: 1.414\n",
      "cat_loss: 2.223815863544587e-05\n",
      "box_loss: 0.4369997978210449\n",
      "off_loss: 0.02188454009592533\n",
      "Mask_loss: 0.8474814891815186\n",
      "Total_Loss: 1.306388020515442\n"
     ]
    },
    {
     "name": "stderr",
     "output_type": "stream",
     "text": [
      "19it [00:24,  1.28s/it]\n",
      "10it [00:14,  1.12s/it]"
     ]
    },
    {
     "name": "stdout",
     "output_type": "stream",
     "text": [
      "[297,    10] Running Loss: 1.586\n",
      "cat_loss: 2.177428177674301e-05\n",
      "box_loss: 0.8169509172439575\n",
      "off_loss: 0.023244623094797134\n",
      "Mask_loss: 0.8644177317619324\n",
      "Total_Loss: 1.7046350240707397\n"
     ]
    },
    {
     "name": "stderr",
     "output_type": "stream",
     "text": [
      "19it [00:24,  1.28s/it]\n",
      "10it [00:14,  1.11s/it]"
     ]
    },
    {
     "name": "stdout",
     "output_type": "stream",
     "text": [
      "[298,    10] Running Loss: 1.350\n",
      "cat_loss: 1.9069775589741766e-05\n",
      "box_loss: 0.2741425633430481\n",
      "off_loss: 0.022684380412101746\n",
      "Mask_loss: 0.8636773824691772\n",
      "Total_Loss: 1.1605234146118164\n"
     ]
    },
    {
     "name": "stderr",
     "output_type": "stream",
     "text": [
      "19it [00:24,  1.28s/it]\n",
      "10it [00:15,  1.12s/it]"
     ]
    },
    {
     "name": "stdout",
     "output_type": "stream",
     "text": [
      "[299,    10] Running Loss: 1.446\n",
      "cat_loss: 1.4132374417386018e-05\n",
      "box_loss: 0.6332178115844727\n",
      "off_loss: 0.02507093735039234\n",
      "Mask_loss: 0.8429512977600098\n",
      "Total_Loss: 1.5012542009353638\n"
     ]
    },
    {
     "name": "stderr",
     "output_type": "stream",
     "text": [
      "19it [00:25,  1.32s/it]\n",
      "10it [00:14,  1.10s/it]"
     ]
    },
    {
     "name": "stdout",
     "output_type": "stream",
     "text": [
      "[300,    10] Running Loss: 1.416\n",
      "cat_loss: 1.4929938515706453e-05\n",
      "box_loss: 0.3667355179786682\n",
      "off_loss: 0.025777354836463928\n",
      "Mask_loss: 0.8628571629524231\n",
      "Total_Loss: 1.255384922027588\n"
     ]
    },
    {
     "name": "stderr",
     "output_type": "stream",
     "text": [
      "19it [00:24,  1.28s/it]\n",
      "10it [00:14,  1.11s/it]"
     ]
    },
    {
     "name": "stdout",
     "output_type": "stream",
     "text": [
      "[301,    10] Running Loss: 1.266\n",
      "cat_loss: 2.9154114599805325e-05\n",
      "box_loss: 0.5463190674781799\n",
      "off_loss: 0.021710773929953575\n",
      "Mask_loss: 0.8887583017349243\n",
      "Total_Loss: 1.4568172693252563\n"
     ]
    },
    {
     "name": "stderr",
     "output_type": "stream",
     "text": [
      "19it [00:24,  1.27s/it]\n",
      "10it [00:14,  1.09s/it]"
     ]
    },
    {
     "name": "stdout",
     "output_type": "stream",
     "text": [
      "[302,    10] Running Loss: 1.333\n",
      "cat_loss: 7.2522716436651535e-06\n",
      "box_loss: 0.8000634908676147\n",
      "off_loss: 0.02734244428575039\n",
      "Mask_loss: 0.8828137516975403\n",
      "Total_Loss: 1.7102270126342773\n"
     ]
    },
    {
     "name": "stderr",
     "output_type": "stream",
     "text": [
      "19it [00:24,  1.27s/it]\n",
      "10it [00:14,  1.11s/it]"
     ]
    },
    {
     "name": "stdout",
     "output_type": "stream",
     "text": [
      "[303,    10] Running Loss: 1.338\n",
      "cat_loss: 3.078605004702695e-05\n",
      "box_loss: 0.28485724329948425\n",
      "off_loss: 0.026867983862757683\n",
      "Mask_loss: 0.8838362097740173\n",
      "Total_Loss: 1.1955921649932861\n"
     ]
    },
    {
     "name": "stderr",
     "output_type": "stream",
     "text": [
      "19it [00:24,  1.27s/it]\n",
      "10it [00:14,  1.10s/it]"
     ]
    },
    {
     "name": "stdout",
     "output_type": "stream",
     "text": [
      "[304,    10] Running Loss: 1.364\n",
      "cat_loss: 1.9735121895791963e-05\n",
      "box_loss: 0.4537309408187866\n",
      "off_loss: 0.031823720782995224\n",
      "Mask_loss: 0.8321065306663513\n",
      "Total_Loss: 1.3176809549331665\n"
     ]
    },
    {
     "name": "stderr",
     "output_type": "stream",
     "text": [
      "19it [00:24,  1.27s/it]\n",
      "10it [00:14,  1.11s/it]"
     ]
    },
    {
     "name": "stdout",
     "output_type": "stream",
     "text": [
      "[305,    10] Running Loss: 1.298\n",
      "cat_loss: 7.214202014438342e-06\n",
      "box_loss: 0.3301086723804474\n",
      "off_loss: 0.02393944002687931\n",
      "Mask_loss: 0.8581424951553345\n",
      "Total_Loss: 1.2121977806091309\n"
     ]
    },
    {
     "name": "stderr",
     "output_type": "stream",
     "text": [
      "19it [00:24,  1.26s/it]\n",
      "10it [00:15,  1.27s/it]"
     ]
    },
    {
     "name": "stdout",
     "output_type": "stream",
     "text": [
      "[306,    10] Running Loss: 1.168\n",
      "cat_loss: 1.0053212463390082e-05\n",
      "box_loss: 0.23537279665470123\n",
      "off_loss: 0.022397400811314583\n",
      "Mask_loss: 0.8497428297996521\n",
      "Total_Loss: 1.1075230836868286\n"
     ]
    },
    {
     "name": "stderr",
     "output_type": "stream",
     "text": [
      "19it [00:25,  1.34s/it]\n",
      "10it [00:14,  1.12s/it]"
     ]
    },
    {
     "name": "stdout",
     "output_type": "stream",
     "text": [
      "[307,    10] Running Loss: 1.289\n",
      "cat_loss: 5.293208232615143e-06\n",
      "box_loss: 0.2639508843421936\n",
      "off_loss: 0.0231088288128376\n",
      "Mask_loss: 0.8596080541610718\n",
      "Total_Loss: 1.1466730833053589\n"
     ]
    },
    {
     "name": "stderr",
     "output_type": "stream",
     "text": [
      "19it [00:24,  1.28s/it]\n",
      "10it [00:14,  1.10s/it]"
     ]
    },
    {
     "name": "stdout",
     "output_type": "stream",
     "text": [
      "[308,    10] Running Loss: 1.308\n",
      "cat_loss: 7.511446256103227e-06\n",
      "box_loss: 0.5430676937103271\n",
      "off_loss: 0.0244548711925745\n",
      "Mask_loss: 0.8480908870697021\n",
      "Total_Loss: 1.415621042251587\n"
     ]
    },
    {
     "name": "stderr",
     "output_type": "stream",
     "text": [
      "19it [00:24,  1.28s/it]\n",
      "10it [00:14,  1.10s/it]"
     ]
    },
    {
     "name": "stdout",
     "output_type": "stream",
     "text": [
      "[309,    10] Running Loss: 1.241\n",
      "cat_loss: 3.6279438972997013e-06\n",
      "box_loss: 0.5013387203216553\n",
      "off_loss: 0.02611861750483513\n",
      "Mask_loss: 0.8439517021179199\n",
      "Total_Loss: 1.371412754058838\n"
     ]
    },
    {
     "name": "stderr",
     "output_type": "stream",
     "text": [
      "19it [00:24,  1.28s/it]\n",
      "10it [00:14,  1.11s/it]"
     ]
    },
    {
     "name": "stdout",
     "output_type": "stream",
     "text": [
      "[310,    10] Running Loss: 1.309\n",
      "cat_loss: 1.969353252206929e-05\n",
      "box_loss: 1.0540521144866943\n",
      "off_loss: 0.02331678383052349\n",
      "Mask_loss: 0.8679523468017578\n",
      "Total_Loss: 1.945340871810913\n"
     ]
    },
    {
     "name": "stderr",
     "output_type": "stream",
     "text": [
      "19it [00:24,  1.27s/it]\n",
      "10it [00:14,  1.09s/it]"
     ]
    },
    {
     "name": "stdout",
     "output_type": "stream",
     "text": [
      "[311,    10] Running Loss: 1.297\n",
      "cat_loss: 1.1250262105022557e-05\n",
      "box_loss: 0.37867069244384766\n",
      "off_loss: 0.022348104044795036\n",
      "Mask_loss: 0.8816249966621399\n",
      "Total_Loss: 1.2826550006866455\n"
     ]
    },
    {
     "name": "stderr",
     "output_type": "stream",
     "text": [
      "19it [00:23,  1.26s/it]\n",
      "10it [00:14,  1.11s/it]"
     ]
    },
    {
     "name": "stdout",
     "output_type": "stream",
     "text": [
      "[312,    10] Running Loss: 1.439\n",
      "cat_loss: 2.37085059779929e-05\n",
      "box_loss: 0.4245545268058777\n",
      "off_loss: 0.023382950574159622\n",
      "Mask_loss: 0.8377618789672852\n",
      "Total_Loss: 1.285723090171814\n"
     ]
    },
    {
     "name": "stderr",
     "output_type": "stream",
     "text": [
      "19it [00:24,  1.28s/it]\n",
      "10it [00:14,  1.10s/it]"
     ]
    },
    {
     "name": "stdout",
     "output_type": "stream",
     "text": [
      "[313,    10] Running Loss: 1.479\n",
      "cat_loss: 2.5293058570241556e-05\n",
      "box_loss: 0.6553807258605957\n",
      "off_loss: 0.028985250741243362\n",
      "Mask_loss: 0.851256251335144\n",
      "Total_Loss: 1.5356475114822388\n"
     ]
    },
    {
     "name": "stderr",
     "output_type": "stream",
     "text": [
      "19it [00:24,  1.27s/it]\n",
      "10it [00:14,  1.11s/it]"
     ]
    },
    {
     "name": "stdout",
     "output_type": "stream",
     "text": [
      "[314,    10] Running Loss: 1.654\n",
      "cat_loss: 4.210033512208611e-05\n",
      "box_loss: 0.7127590179443359\n",
      "off_loss: 0.02561921812593937\n",
      "Mask_loss: 0.8377318978309631\n",
      "Total_Loss: 1.5761522054672241\n"
     ]
    },
    {
     "name": "stderr",
     "output_type": "stream",
     "text": [
      "19it [00:24,  1.27s/it]\n",
      "10it [00:14,  1.12s/it]"
     ]
    },
    {
     "name": "stdout",
     "output_type": "stream",
     "text": [
      "[315,    10] Running Loss: 1.352\n",
      "cat_loss: 9.23118022910785e-06\n",
      "box_loss: 0.6763863563537598\n",
      "off_loss: 0.03949424624443054\n",
      "Mask_loss: 0.8711557388305664\n",
      "Total_Loss: 1.5870455503463745\n"
     ]
    },
    {
     "name": "stderr",
     "output_type": "stream",
     "text": [
      "19it [00:24,  1.29s/it]\n",
      "10it [00:14,  1.10s/it]"
     ]
    },
    {
     "name": "stdout",
     "output_type": "stream",
     "text": [
      "[316,    10] Running Loss: 1.387\n",
      "cat_loss: 4.2194405978079885e-06\n",
      "box_loss: 0.4762658178806305\n",
      "off_loss: 0.041575681418180466\n",
      "Mask_loss: 0.8455849885940552\n",
      "Total_Loss: 1.3634307384490967\n"
     ]
    },
    {
     "name": "stderr",
     "output_type": "stream",
     "text": [
      "19it [00:24,  1.28s/it]\n",
      "10it [00:15,  1.12s/it]"
     ]
    },
    {
     "name": "stdout",
     "output_type": "stream",
     "text": [
      "[317,    10] Running Loss: 1.407\n",
      "cat_loss: 3.908477538061561e-06\n",
      "box_loss: 0.42569321393966675\n",
      "off_loss: 0.03555719926953316\n",
      "Mask_loss: 0.8414469957351685\n",
      "Total_Loss: 1.3027013540267944\n"
     ]
    },
    {
     "name": "stderr",
     "output_type": "stream",
     "text": [
      "19it [00:24,  1.31s/it]\n",
      "10it [00:14,  1.13s/it]"
     ]
    },
    {
     "name": "stdout",
     "output_type": "stream",
     "text": [
      "[318,    10] Running Loss: 1.476\n",
      "cat_loss: 1.6073594451881945e-05\n",
      "box_loss: 0.44127127528190613\n",
      "off_loss: 0.023467523977160454\n",
      "Mask_loss: 0.8551915884017944\n",
      "Total_Loss: 1.3199464082717896\n"
     ]
    },
    {
     "name": "stderr",
     "output_type": "stream",
     "text": [
      "19it [00:24,  1.29s/it]\n",
      "10it [00:14,  1.11s/it]"
     ]
    },
    {
     "name": "stdout",
     "output_type": "stream",
     "text": [
      "[319,    10] Running Loss: 1.234\n",
      "cat_loss: 1.024143239192199e-05\n",
      "box_loss: 0.24980702996253967\n",
      "off_loss: 0.018827306106686592\n",
      "Mask_loss: 0.8550601005554199\n",
      "Total_Loss: 1.1237046718597412\n"
     ]
    },
    {
     "name": "stderr",
     "output_type": "stream",
     "text": [
      "19it [00:24,  1.28s/it]\n",
      "10it [00:14,  1.10s/it]"
     ]
    },
    {
     "name": "stdout",
     "output_type": "stream",
     "text": [
      "[320,    10] Running Loss: 1.328\n",
      "cat_loss: 7.298067430383526e-06\n",
      "box_loss: 1.0709550380706787\n",
      "off_loss: 0.03251535817980766\n",
      "Mask_loss: 0.8510857820510864\n",
      "Total_Loss: 1.9545634984970093\n"
     ]
    },
    {
     "name": "stderr",
     "output_type": "stream",
     "text": [
      "19it [00:24,  1.28s/it]\n",
      "10it [00:14,  1.10s/it]"
     ]
    },
    {
     "name": "stdout",
     "output_type": "stream",
     "text": [
      "[321,    10] Running Loss: 1.318\n",
      "cat_loss: 1.99316173166153e-06\n",
      "box_loss: 0.265633761882782\n",
      "off_loss: 0.035874661058187485\n",
      "Mask_loss: 0.832462728023529\n",
      "Total_Loss: 1.1339731216430664\n"
     ]
    },
    {
     "name": "stderr",
     "output_type": "stream",
     "text": [
      "19it [00:24,  1.30s/it]\n",
      "10it [00:14,  1.12s/it]"
     ]
    },
    {
     "name": "stdout",
     "output_type": "stream",
     "text": [
      "[322,    10] Running Loss: 1.309\n",
      "cat_loss: 9.126909390033688e-06\n",
      "box_loss: 0.31424379348754883\n",
      "off_loss: 0.02669503726065159\n",
      "Mask_loss: 0.8426463603973389\n",
      "Total_Loss: 1.1835943460464478\n"
     ]
    },
    {
     "name": "stderr",
     "output_type": "stream",
     "text": [
      "19it [00:24,  1.29s/it]\n",
      "10it [00:14,  1.11s/it]"
     ]
    },
    {
     "name": "stdout",
     "output_type": "stream",
     "text": [
      "[323,    10] Running Loss: 1.349\n",
      "cat_loss: 2.7572220915317303e-06\n",
      "box_loss: 0.610601007938385\n",
      "off_loss: 0.026437850669026375\n",
      "Mask_loss: 0.8255422115325928\n",
      "Total_Loss: 1.4625837802886963\n"
     ]
    },
    {
     "name": "stderr",
     "output_type": "stream",
     "text": [
      "19it [00:24,  1.29s/it]\n",
      "10it [00:14,  1.12s/it]"
     ]
    },
    {
     "name": "stdout",
     "output_type": "stream",
     "text": [
      "[324,    10] Running Loss: 2.098\n",
      "cat_loss: 1.3218748790677637e-05\n",
      "box_loss: 0.6213516592979431\n",
      "off_loss: 0.028456058353185654\n",
      "Mask_loss: 0.8632222414016724\n",
      "Total_Loss: 1.5130431652069092\n"
     ]
    },
    {
     "name": "stderr",
     "output_type": "stream",
     "text": [
      "19it [00:24,  1.29s/it]\n",
      "10it [00:14,  1.12s/it]"
     ]
    },
    {
     "name": "stdout",
     "output_type": "stream",
     "text": [
      "[325,    10] Running Loss: 1.396\n",
      "cat_loss: 2.006742033699993e-05\n",
      "box_loss: 0.6072955131530762\n",
      "off_loss: 0.025768985971808434\n",
      "Mask_loss: 0.8499159216880798\n",
      "Total_Loss: 1.4830005168914795\n"
     ]
    },
    {
     "name": "stderr",
     "output_type": "stream",
     "text": [
      "19it [00:24,  1.28s/it]\n",
      "10it [00:14,  1.13s/it]"
     ]
    },
    {
     "name": "stdout",
     "output_type": "stream",
     "text": [
      "[326,    10] Running Loss: 1.408\n",
      "cat_loss: 4.8306457756552845e-05\n",
      "box_loss: 0.3659384250640869\n",
      "off_loss: 0.024180078878998756\n",
      "Mask_loss: 0.8445113301277161\n",
      "Total_Loss: 1.2346781492233276\n"
     ]
    },
    {
     "name": "stderr",
     "output_type": "stream",
     "text": [
      "19it [00:24,  1.30s/it]\n",
      "10it [00:15,  1.15s/it]"
     ]
    },
    {
     "name": "stdout",
     "output_type": "stream",
     "text": [
      "[327,    10] Running Loss: 1.586\n",
      "cat_loss: 1.988166695809923e-05\n",
      "box_loss: 0.8124480247497559\n",
      "off_loss: 0.026658425107598305\n",
      "Mask_loss: 0.8321735858917236\n",
      "Total_Loss: 1.671299934387207\n"
     ]
    },
    {
     "name": "stderr",
     "output_type": "stream",
     "text": [
      "19it [00:25,  1.35s/it]\n",
      "10it [00:15,  1.12s/it]"
     ]
    },
    {
     "name": "stdout",
     "output_type": "stream",
     "text": [
      "[328,    10] Running Loss: 1.314\n",
      "cat_loss: 1.4580947208742145e-05\n",
      "box_loss: 0.4567241370677948\n",
      "off_loss: 0.0235042255371809\n",
      "Mask_loss: 0.8468248248100281\n",
      "Total_Loss: 1.3270677328109741\n"
     ]
    },
    {
     "name": "stderr",
     "output_type": "stream",
     "text": [
      "19it [00:24,  1.31s/it]\n",
      "10it [00:14,  1.13s/it]"
     ]
    },
    {
     "name": "stdout",
     "output_type": "stream",
     "text": [
      "[329,    10] Running Loss: 1.282\n",
      "cat_loss: 5.252832124824636e-06\n",
      "box_loss: 0.446454793214798\n",
      "off_loss: 0.02058853767812252\n",
      "Mask_loss: 0.8610554933547974\n",
      "Total_Loss: 1.328104019165039\n"
     ]
    },
    {
     "name": "stderr",
     "output_type": "stream",
     "text": [
      "19it [00:24,  1.29s/it]\n",
      "10it [00:14,  1.11s/it]"
     ]
    },
    {
     "name": "stdout",
     "output_type": "stream",
     "text": [
      "[330,    10] Running Loss: 1.658\n",
      "cat_loss: 1.77774163603317e-05\n",
      "box_loss: 0.8423703908920288\n",
      "off_loss: 0.027564840391278267\n",
      "Mask_loss: 0.874094545841217\n",
      "Total_Loss: 1.7440475225448608\n"
     ]
    },
    {
     "name": "stderr",
     "output_type": "stream",
     "text": [
      "19it [00:24,  1.28s/it]\n",
      "10it [00:14,  1.12s/it]"
     ]
    },
    {
     "name": "stdout",
     "output_type": "stream",
     "text": [
      "[331,    10] Running Loss: 1.473\n",
      "cat_loss: 7.277097756741568e-05\n",
      "box_loss: 0.5944012403488159\n",
      "off_loss: 0.025518469512462616\n",
      "Mask_loss: 0.8690110445022583\n",
      "Total_Loss: 1.4890035390853882\n"
     ]
    },
    {
     "name": "stderr",
     "output_type": "stream",
     "text": [
      "19it [00:24,  1.28s/it]\n",
      "10it [00:14,  1.10s/it]"
     ]
    },
    {
     "name": "stdout",
     "output_type": "stream",
     "text": [
      "[332,    10] Running Loss: 1.632\n",
      "cat_loss: 3.4125008824048564e-05\n",
      "box_loss: 1.2334052324295044\n",
      "off_loss: 0.029234377667307854\n",
      "Mask_loss: 0.8571244478225708\n",
      "Total_Loss: 2.119798183441162\n"
     ]
    },
    {
     "name": "stderr",
     "output_type": "stream",
     "text": [
      "19it [00:24,  1.28s/it]\n",
      "10it [00:14,  1.12s/it]"
     ]
    },
    {
     "name": "stdout",
     "output_type": "stream",
     "text": [
      "[333,    10] Running Loss: 1.347\n",
      "cat_loss: 7.113400897651445e-06\n",
      "box_loss: 0.4991719722747803\n",
      "off_loss: 0.029016446322202682\n",
      "Mask_loss: 0.866270124912262\n",
      "Total_Loss: 1.394465684890747\n"
     ]
    },
    {
     "name": "stderr",
     "output_type": "stream",
     "text": [
      "19it [00:24,  1.28s/it]\n",
      "10it [00:14,  1.12s/it]"
     ]
    },
    {
     "name": "stdout",
     "output_type": "stream",
     "text": [
      "[334,    10] Running Loss: 1.468\n",
      "cat_loss: 2.8110698622185737e-05\n",
      "box_loss: 0.5177574157714844\n",
      "off_loss: 0.024727454409003258\n",
      "Mask_loss: 0.8414463996887207\n",
      "Total_Loss: 1.383959412574768\n"
     ]
    },
    {
     "name": "stderr",
     "output_type": "stream",
     "text": [
      "19it [00:24,  1.29s/it]\n",
      "10it [00:16,  1.18s/it]"
     ]
    },
    {
     "name": "stdout",
     "output_type": "stream",
     "text": [
      "[335,    10] Running Loss: 1.295\n",
      "cat_loss: 1.5084955521160737e-05\n",
      "box_loss: 0.45184552669525146\n",
      "off_loss: 0.024976296350359917\n",
      "Mask_loss: 0.8597242832183838\n",
      "Total_Loss: 1.3365612030029297\n"
     ]
    },
    {
     "name": "stderr",
     "output_type": "stream",
     "text": [
      "19it [00:26,  1.39s/it]\n",
      "10it [00:14,  1.14s/it]"
     ]
    },
    {
     "name": "stdout",
     "output_type": "stream",
     "text": [
      "[336,    10] Running Loss: 1.329\n",
      "cat_loss: 8.70834082888905e-06\n",
      "box_loss: 0.335086852312088\n",
      "off_loss: 0.026070769876241684\n",
      "Mask_loss: 0.8666554689407349\n",
      "Total_Loss: 1.2278218269348145\n"
     ]
    },
    {
     "name": "stderr",
     "output_type": "stream",
     "text": [
      "19it [00:24,  1.29s/it]\n",
      "0it [00:00, ?it/s]"
     ]
    }
   ],
   "source": [
    "model.train()\n",
    "pidx=10\n",
    "allres=[]\n",
    "device=\"cuda\"\n",
    "for epoch in range(0,500):  # loop over the dataset multiple times\n",
    "    running_loss = 0.0\n",
    "    for i,batch in tqdm(enumerate(data_loader)):\n",
    "        \n",
    "        imgs=batch[\"img\"].to(device)\n",
    "        gt_centers=batch[\"pts\"]\n",
    "        gt_offsets=batch[\"offs\"]\n",
    "        gt_boxes=batch[\"bboxs\"].to(device)\n",
    "        gt_cats=batch[\"center\"].to(device)\n",
    "        gt_msks=batch [\"msks\"].to(device)\n",
    "        for j,item in enumerate(gt_centers):\n",
    "            gt_centers[j]=item.to(device)\n",
    "        for j,item in enumerate(gt_offsets):\n",
    "            gt_offsets[j]=item.to(device)\n",
    "            \n",
    "        optimizer.zero_grad()\n",
    "        \n",
    "        inp={\"img\":imgs}\n",
    "        labels={\"pts\":gt_centers,\"offs\":gt_offsets,\"bboxs\":gt_boxes,\"center\":gt_cats,\"msks\":gt_msks}\n",
    "        inp[\"labels\"]=labels\n",
    "        \n",
    "        pred_dict=model(inp)\n",
    "        \n",
    "        losses=pred_dict[\"loss\"]\n",
    "        loss=losses[\"Total_Loss\"]\n",
    "        \n",
    "        loss.backward()\n",
    "        optimizer.step()\n",
    "        running_loss += loss.item()\n",
    "        \n",
    "        if i % pidx == pidx-1:\n",
    "            print(f'[{epoch + 1}, {i + 1:5d}] Running Loss: {running_loss / pidx:.3f}')\n",
    "            #print(f\"LR,{scheduler._last_lr}\")\n",
    "            for k,v in losses.items():\n",
    "                print(f\"{k}: {v.item()}\")\n",
    "            running_loss = 0.0\n",
    "            \n",
    "        #scheduler.step()\n",
    "    if epoch % 2 == 1:\n",
    "        PATH=f\"./cnet_pos_ckpts/{epoch}.pth\"\n",
    "        torch.save(model.state_dict(), PATH)"
   ]
  },
  {
   "cell_type": "code",
   "execution_count": 54,
   "id": "aafd50b6",
   "metadata": {},
   "outputs": [
    {
     "data": {
      "text/plain": [
       "<All keys matched successfully>"
      ]
     },
     "execution_count": 54,
     "metadata": {},
     "output_type": "execute_result"
    }
   ],
   "source": [
    "model.load_state_dict(torch.load(\"./cnet_pos_ckpts/437.pth\"))"
   ]
  },
  {
   "cell_type": "code",
   "execution_count": null,
   "id": "fb1e3713",
   "metadata": {},
   "outputs": [],
   "source": [
    "#!rm -rf fcos_ckpts/*"
   ]
  },
  {
   "cell_type": "code",
   "execution_count": 55,
   "id": "ddc5e5b3",
   "metadata": {},
   "outputs": [
    {
     "data": {
      "text/plain": [
       "FCOS(\n",
       "  (backbone): ResNet(\n",
       "    (conv1): Conv2d(3, 64, kernel_size=(7, 7), stride=(2, 2), padding=(3, 3), bias=False)\n",
       "    (bn1): BatchNorm2d(64, eps=1e-05, momentum=0.1, affine=True, track_running_stats=True)\n",
       "    (act1): ReLU(inplace=True)\n",
       "    (maxpool): MaxPool2d(kernel_size=3, stride=2, padding=1, dilation=1, ceil_mode=False)\n",
       "    (layer1): Sequential(\n",
       "      (0): BasicBlock(\n",
       "        (conv1): Conv2d(64, 64, kernel_size=(3, 3), stride=(1, 1), padding=(1, 1), bias=False)\n",
       "        (bn1): BatchNorm2d(64, eps=1e-05, momentum=0.1, affine=True, track_running_stats=True)\n",
       "        (drop_block): Identity()\n",
       "        (act1): ReLU(inplace=True)\n",
       "        (aa): Identity()\n",
       "        (conv2): Conv2d(64, 64, kernel_size=(3, 3), stride=(1, 1), padding=(1, 1), bias=False)\n",
       "        (bn2): BatchNorm2d(64, eps=1e-05, momentum=0.1, affine=True, track_running_stats=True)\n",
       "        (act2): ReLU(inplace=True)\n",
       "      )\n",
       "      (1): BasicBlock(\n",
       "        (conv1): Conv2d(64, 64, kernel_size=(3, 3), stride=(1, 1), padding=(1, 1), bias=False)\n",
       "        (bn1): BatchNorm2d(64, eps=1e-05, momentum=0.1, affine=True, track_running_stats=True)\n",
       "        (drop_block): Identity()\n",
       "        (act1): ReLU(inplace=True)\n",
       "        (aa): Identity()\n",
       "        (conv2): Conv2d(64, 64, kernel_size=(3, 3), stride=(1, 1), padding=(1, 1), bias=False)\n",
       "        (bn2): BatchNorm2d(64, eps=1e-05, momentum=0.1, affine=True, track_running_stats=True)\n",
       "        (act2): ReLU(inplace=True)\n",
       "      )\n",
       "    )\n",
       "    (layer2): Sequential(\n",
       "      (0): BasicBlock(\n",
       "        (conv1): Conv2d(64, 128, kernel_size=(3, 3), stride=(2, 2), padding=(1, 1), bias=False)\n",
       "        (bn1): BatchNorm2d(128, eps=1e-05, momentum=0.1, affine=True, track_running_stats=True)\n",
       "        (drop_block): Identity()\n",
       "        (act1): ReLU(inplace=True)\n",
       "        (aa): Identity()\n",
       "        (conv2): Conv2d(128, 128, kernel_size=(3, 3), stride=(1, 1), padding=(1, 1), bias=False)\n",
       "        (bn2): BatchNorm2d(128, eps=1e-05, momentum=0.1, affine=True, track_running_stats=True)\n",
       "        (act2): ReLU(inplace=True)\n",
       "        (downsample): Sequential(\n",
       "          (0): Conv2d(64, 128, kernel_size=(1, 1), stride=(2, 2), bias=False)\n",
       "          (1): BatchNorm2d(128, eps=1e-05, momentum=0.1, affine=True, track_running_stats=True)\n",
       "        )\n",
       "      )\n",
       "      (1): BasicBlock(\n",
       "        (conv1): Conv2d(128, 128, kernel_size=(3, 3), stride=(1, 1), padding=(1, 1), bias=False)\n",
       "        (bn1): BatchNorm2d(128, eps=1e-05, momentum=0.1, affine=True, track_running_stats=True)\n",
       "        (drop_block): Identity()\n",
       "        (act1): ReLU(inplace=True)\n",
       "        (aa): Identity()\n",
       "        (conv2): Conv2d(128, 128, kernel_size=(3, 3), stride=(1, 1), padding=(1, 1), bias=False)\n",
       "        (bn2): BatchNorm2d(128, eps=1e-05, momentum=0.1, affine=True, track_running_stats=True)\n",
       "        (act2): ReLU(inplace=True)\n",
       "      )\n",
       "    )\n",
       "    (layer3): Sequential(\n",
       "      (0): BasicBlock(\n",
       "        (conv1): Conv2d(128, 256, kernel_size=(3, 3), stride=(1, 1), padding=(1, 1), bias=False)\n",
       "        (bn1): BatchNorm2d(256, eps=1e-05, momentum=0.1, affine=True, track_running_stats=True)\n",
       "        (drop_block): Identity()\n",
       "        (act1): ReLU(inplace=True)\n",
       "        (aa): Identity()\n",
       "        (conv2): Conv2d(256, 256, kernel_size=(3, 3), stride=(1, 1), padding=(2, 2), dilation=(2, 2), bias=False)\n",
       "        (bn2): BatchNorm2d(256, eps=1e-05, momentum=0.1, affine=True, track_running_stats=True)\n",
       "        (act2): ReLU(inplace=True)\n",
       "        (downsample): Sequential(\n",
       "          (0): Conv2d(128, 256, kernel_size=(1, 1), stride=(1, 1), bias=False)\n",
       "          (1): BatchNorm2d(256, eps=1e-05, momentum=0.1, affine=True, track_running_stats=True)\n",
       "        )\n",
       "      )\n",
       "      (1): BasicBlock(\n",
       "        (conv1): Conv2d(256, 256, kernel_size=(3, 3), stride=(1, 1), padding=(2, 2), dilation=(2, 2), bias=False)\n",
       "        (bn1): BatchNorm2d(256, eps=1e-05, momentum=0.1, affine=True, track_running_stats=True)\n",
       "        (drop_block): Identity()\n",
       "        (act1): ReLU(inplace=True)\n",
       "        (aa): Identity()\n",
       "        (conv2): Conv2d(256, 256, kernel_size=(3, 3), stride=(1, 1), padding=(2, 2), dilation=(2, 2), bias=False)\n",
       "        (bn2): BatchNorm2d(256, eps=1e-05, momentum=0.1, affine=True, track_running_stats=True)\n",
       "        (act2): ReLU(inplace=True)\n",
       "      )\n",
       "    )\n",
       "    (layer4): Sequential(\n",
       "      (0): BasicBlock(\n",
       "        (conv1): Conv2d(256, 512, kernel_size=(3, 3), stride=(1, 1), padding=(2, 2), dilation=(2, 2), bias=False)\n",
       "        (bn1): BatchNorm2d(512, eps=1e-05, momentum=0.1, affine=True, track_running_stats=True)\n",
       "        (drop_block): Identity()\n",
       "        (act1): ReLU(inplace=True)\n",
       "        (aa): Identity()\n",
       "        (conv2): Conv2d(512, 512, kernel_size=(3, 3), stride=(1, 1), padding=(4, 4), dilation=(4, 4), bias=False)\n",
       "        (bn2): BatchNorm2d(512, eps=1e-05, momentum=0.1, affine=True, track_running_stats=True)\n",
       "        (act2): ReLU(inplace=True)\n",
       "        (downsample): Sequential(\n",
       "          (0): Conv2d(256, 512, kernel_size=(1, 1), stride=(1, 1), bias=False)\n",
       "          (1): BatchNorm2d(512, eps=1e-05, momentum=0.1, affine=True, track_running_stats=True)\n",
       "        )\n",
       "      )\n",
       "      (1): BasicBlock(\n",
       "        (conv1): Conv2d(512, 512, kernel_size=(3, 3), stride=(1, 1), padding=(4, 4), dilation=(4, 4), bias=False)\n",
       "        (bn1): BatchNorm2d(512, eps=1e-05, momentum=0.1, affine=True, track_running_stats=True)\n",
       "        (drop_block): Identity()\n",
       "        (act1): ReLU(inplace=True)\n",
       "        (aa): Identity()\n",
       "        (conv2): Conv2d(512, 512, kernel_size=(3, 3), stride=(1, 1), padding=(4, 4), dilation=(4, 4), bias=False)\n",
       "        (bn2): BatchNorm2d(512, eps=1e-05, momentum=0.1, affine=True, track_running_stats=True)\n",
       "        (act2): ReLU(inplace=True)\n",
       "      )\n",
       "    )\n",
       "    (global_pool): SelectAdaptivePool2d (pool_type=, flatten=Identity())\n",
       "    (fc): Identity()\n",
       "  )\n",
       "  (class_head): Sequential(\n",
       "    (0): Conv2d(514, 256, kernel_size=(3, 3), stride=(1, 1), padding=(1, 1))\n",
       "    (1): ReLU()\n",
       "    (conv_0): Conv2d(256, 256, kernel_size=(3, 3), stride=(1, 1), padding=(1, 1))\n",
       "    (relu_0): ReLU()\n",
       "    (conv_1): Conv2d(256, 256, kernel_size=(3, 3), stride=(1, 1), padding=(1, 1))\n",
       "    (relu_1): ReLU()\n",
       "    (conv_2): Conv2d(256, 256, kernel_size=(3, 3), stride=(1, 1), padding=(1, 1))\n",
       "    (relu_2): ReLU()\n",
       "    (conv_3): Conv2d(256, 256, kernel_size=(3, 3), stride=(1, 1), padding=(1, 1))\n",
       "    (relu_3): ReLU()\n",
       "    (conv_4): Conv2d(256, 256, kernel_size=(3, 3), stride=(1, 1), padding=(1, 1))\n",
       "    (relu_4): ReLU()\n",
       "    (cls): Conv2d(256, 1, kernel_size=(1, 1), stride=(1, 1))\n",
       "  )\n",
       "  (box_head): Sequential(\n",
       "    (0): Conv2d(514, 256, kernel_size=(3, 3), stride=(1, 1), padding=(1, 1))\n",
       "    (1): ReLU()\n",
       "    (conv_0): Conv2d(256, 256, kernel_size=(3, 3), stride=(1, 1), padding=(1, 1))\n",
       "    (relu_0): ReLU()\n",
       "    (conv_1): Conv2d(256, 256, kernel_size=(3, 3), stride=(1, 1), padding=(1, 1))\n",
       "    (relu_1): ReLU()\n",
       "    (conv_2): Conv2d(256, 256, kernel_size=(3, 3), stride=(1, 1), padding=(1, 1))\n",
       "    (relu_2): ReLU()\n",
       "    (conv_3): Conv2d(256, 256, kernel_size=(3, 3), stride=(1, 1), padding=(1, 1))\n",
       "    (relu_3): ReLU()\n",
       "    (conv_4): Conv2d(256, 256, kernel_size=(3, 3), stride=(1, 1), padding=(1, 1))\n",
       "    (relu_4): ReLU()\n",
       "    (conv_5): Conv2d(256, 256, kernel_size=(3, 3), stride=(1, 1), padding=(1, 1))\n",
       "    (relu_5): ReLU()\n",
       "  )\n",
       "  (box): Conv2d(256, 4, kernel_size=(3, 3), stride=(1, 1), padding=(1, 1))\n",
       "  (offset_head): Sequential(\n",
       "    (0): Conv2d(514, 256, kernel_size=(3, 3), stride=(1, 1), padding=(1, 1))\n",
       "    (1): ReLU()\n",
       "    (conv_0): Conv2d(256, 256, kernel_size=(3, 3), stride=(1, 1), padding=(1, 1))\n",
       "    (relu_0): ReLU()\n",
       "    (conv_1): Conv2d(256, 256, kernel_size=(3, 3), stride=(1, 1), padding=(1, 1))\n",
       "    (relu_1): ReLU()\n",
       "    (conv_2): Conv2d(256, 256, kernel_size=(3, 3), stride=(1, 1), padding=(1, 1))\n",
       "    (relu_2): ReLU()\n",
       "    (conv_3): Conv2d(256, 256, kernel_size=(3, 3), stride=(1, 1), padding=(1, 1))\n",
       "    (relu_3): ReLU()\n",
       "    (conv_4): Conv2d(256, 256, kernel_size=(3, 3), stride=(1, 1), padding=(1, 1))\n",
       "    (relu_4): ReLU()\n",
       "    (conv_5): Conv2d(256, 256, kernel_size=(3, 3), stride=(1, 1), padding=(1, 1))\n",
       "    (relu_5): ReLU()\n",
       "  )\n",
       "  (offset): Conv2d(256, 2, kernel_size=(1, 1), stride=(1, 1))\n",
       "  (seg_head): Sequential(\n",
       "    (0): Conv2d(5, 256, kernel_size=(3, 3), stride=(1, 1), padding=(1, 1))\n",
       "    (1): ReLU()\n",
       "    (conv_0): Conv2d(256, 256, kernel_size=(3, 3), stride=(1, 1), padding=(1, 1))\n",
       "    (relu_0): ReLU()\n",
       "    (conv_1): Conv2d(256, 256, kernel_size=(3, 3), stride=(1, 1), padding=(1, 1))\n",
       "    (relu_1): ReLU()\n",
       "    (conv_2): Conv2d(256, 256, kernel_size=(3, 3), stride=(1, 1), padding=(1, 1))\n",
       "    (relu_2): ReLU()\n",
       "    (conv_3): Conv2d(256, 256, kernel_size=(3, 3), stride=(1, 1), padding=(1, 1))\n",
       "    (relu_3): ReLU()\n",
       "    (conv_4): Conv2d(256, 256, kernel_size=(3, 3), stride=(1, 1), padding=(1, 1))\n",
       "    (relu_4): ReLU()\n",
       "    (conv_5): Conv2d(256, 256, kernel_size=(3, 3), stride=(1, 1), padding=(1, 1))\n",
       "    (relu_5): ReLU()\n",
       "  )\n",
       "  (seg): Conv2d(256, 1, kernel_size=(1, 1), stride=(1, 1))\n",
       "  (DLoss): BinaryDiceLoss()\n",
       ")"
      ]
     },
     "execution_count": 55,
     "metadata": {},
     "output_type": "execute_result"
    }
   ],
   "source": [
    "model.cpu()\n",
    "model.eval()"
   ]
  },
  {
   "cell_type": "code",
   "execution_count": 56,
   "id": "f68fece0",
   "metadata": {},
   "outputs": [],
   "source": [
    "import matplotlib.pyplot as plt"
   ]
  },
  {
   "cell_type": "code",
   "execution_count": 63,
   "id": "41ab8a43",
   "metadata": {},
   "outputs": [],
   "source": [
    "from torch.utils.data import DataLoader\n",
    "test_loader = DataLoader(dataset=data, \n",
    "                         batch_size=1,\n",
    "                         num_workers=4,\n",
    "                         shuffle=True)"
   ]
  },
  {
   "cell_type": "code",
   "execution_count": 64,
   "id": "b614ed2b",
   "metadata": {},
   "outputs": [],
   "source": [
    "def vis_results(img,masks):\n",
    "    img=postprocess(img)\n",
    "    for i in range(len(masks)):\n",
    "        color=[np.random.randint(0,255) for _ in range(3)]\n",
    "        img[masks[i]!=0]=color\n",
    "    return img\n",
    "\n",
    "def vis_boxes(img,boxes):\n",
    "    img=postprocess(img)\n",
    "    img=img.copy()\n",
    "    for box in boxes:\n",
    "        cv2.rectangle(img, (box[0],box[1]), (box[2],box[3]), (255,0,0), 2)\n",
    "    return img\n",
    "\n",
    "def vis_masks(img,msks,boxes,msk_th=0.4):\n",
    "    imgh,imgw,_=img.shape\n",
    "    for i in range(msks.shape[0]):\n",
    "        box=boxes[i]\n",
    "        xmin=box[0].long().item()\n",
    "        xmax=box[2].long().item()\n",
    "        ymin=box[1].long().item()\n",
    "        ymax=box[3].long().item()\n",
    "        \n",
    "        xmin=max(0,xmin)\n",
    "        xmax=max(0,xmax)\n",
    "        ymin=max(0,ymin)\n",
    "        ymax=max(0,ymax)\n",
    "        ## To Take care of max mask\n",
    "        xmax=min(xmax+1,imgw)\n",
    "        ymax=min(ymax+1,imgh)\n",
    "        w=xmax-xmin\n",
    "        h=ymax-ymin\n",
    "        \n",
    "        msk=msks[i].unsqueeze(0)\n",
    "        msk=F.interpolate(msk, size=(h,w), mode='bicubic',align_corners=True)\n",
    "        msk[msk<msk_th]=0\n",
    "        msk=msk.squeeze(0).squeeze(0)\n",
    "        \n",
    "        bmsk=msk>0\n",
    "        color=[np.random.randint(0,255) for _ in range(3)]\n",
    "        img[ymin:ymax,xmin:xmax][bmsk]=color\n",
    "    return img"
   ]
  },
  {
   "cell_type": "code",
   "execution_count": 65,
   "id": "f35035a9",
   "metadata": {},
   "outputs": [
    {
     "name": "stdout",
     "output_type": "stream",
     "text": [
      "mkdir: cannot create directory ‘centernet/pos/’: File exists\r\n"
     ]
    }
   ],
   "source": [
    "!rm -rf centernet/pos/*\n",
    "!mkdir centernet/pos/\n",
    "res_dir=\"centernet/pos/\""
   ]
  },
  {
   "cell_type": "code",
   "execution_count": 81,
   "id": "61d6e66f",
   "metadata": {},
   "outputs": [
    {
     "name": "stderr",
     "output_type": "stream",
     "text": [
      "0it [00:02, ?it/s]\n"
     ]
    },
    {
     "data": {
      "image/png": "[encoded data removed]",
      "text/plain": [
       "<Figure size 432x288 with 1 Axes>"
      ]
     },
     "metadata": {
      "needs_background": "light"
     },
     "output_type": "display_data"
    },
    {
     "data": {
      "image/png": "[encoded data removed]",
      "text/plain": [
       "<Figure size 432x288 with 1 Axes>"
      ]
     },
     "metadata": {
      "needs_background": "light"
     },
     "output_type": "display_data"
    }
   ],
   "source": [
    "for i,batch in tqdm(enumerate(test_loader)):\n",
    "    preds=model(batch)\n",
    "    imgs=batch[\"img\"]\n",
    "    lbl=batch[\"center\"]\n",
    "    lbl_boxes=batch[\"bboxs\"]\n",
    "    boxes=preds[\"boxes\"]\n",
    "    pred_cats=preds[\"centers\"]\n",
    "    pred_msks=preds[\"masks\"]\n",
    "    bidx=0\n",
    "    ## Draw Preds\n",
    "    img=vis_boxes(imgs[bidx],boxes)\n",
    "    img=vis_masks(img.copy(),pred_msks,boxes)\n",
    "    ## Draw GT Boxes\n",
    "    nz=torch.nonzero(lbl)\n",
    "    for idx in range(len(nz)):\n",
    "        lbl_box=lbl_boxes[nz[idx][0],nz[idx][1],nz[idx][2]].numpy()\n",
    "        cv2.rectangle(img, (int(lbl_box[0]),int(lbl_box[1])), (int(lbl_box[2]),int(lbl_box[3])), (0,255,0), 2)\n",
    "    plt.figure(2)\n",
    "    plt.imshow(pred_cats.detach().squeeze(0).numpy())\n",
    "    plt.figure(3)\n",
    "    plt.imshow(img)\n",
    "    break\n",
    "    #cv2.imwrite(f\"{res_dir}{i}_seg.png\",img)\n",
    "    #cv2.imwrite(f\"{res_dir}{i}_cent.png\",pred_cats.detach().squeeze(0).numpy())\n",
    "    "
   ]
  },
  {
   "cell_type": "code",
   "execution_count": null,
   "id": "0f63be8d",
   "metadata": {},
   "outputs": [],
   "source": [
    "! tar -cvf cnet_res_v3.tar centernet/v3"
   ]
  },
  {
   "cell_type": "code",
   "execution_count": null,
   "id": "f4b8d48b",
   "metadata": {},
   "outputs": [],
   "source": [
    "## Evaluation"
   ]
  },
  {
   "cell_type": "code",
   "execution_count": 90,
   "id": "961a7e2a",
   "metadata": {},
   "outputs": [],
   "source": [
    "import torch.utils.data as data\n",
    "import torch\n",
    "## For single stage not FPN\n",
    "class valLoader(data.Dataset):\n",
    "    \n",
    "    def __init__(self, img_sz=512,grid_sz=64,seg_sz=64,data=None):\n",
    "        super(valLoader, self).__init__()\n",
    "        self.img_sz=img_sz\n",
    "        self.grid_sz=grid_sz\n",
    "        self.seg_sz=seg_sz\n",
    "        self.imgs=[]\n",
    "        self.label_pts=[]\n",
    "        self.label_off=[]\n",
    "        self.label_masks=[]\n",
    "        self.label_boxes=[]\n",
    "        self.getData(data)\n",
    "        \n",
    "    def getData(self,data):\n",
    "        for i,d in tqdm(enumerate(data)):\n",
    "            image=d.images.numpy()\n",
    "            image=cv2.resize(image,(self.img_sz,self.img_sz))\n",
    "            masks=d.masks.numpy().astype(np.uint8)*255\n",
    "            img_cs=set(())\n",
    "            mod_masks=[]\n",
    "            mod_boxes=[]\n",
    "            mod_centers=[]\n",
    "            mod_offsets=[]\n",
    "            grid=np.zeros((self.grid_sz,self.grid_sz),dtype=np.uint8)\n",
    "            for j in range(masks.shape[-1]):\n",
    "                mask=masks[...,j]\n",
    "                mask=cv2.resize(mask,(self.img_sz,self.img_sz),cv2.INTER_NEAREST)\n",
    "                cY,cX=find_center(mask)\n",
    "                if not mask[cY][cX]:\n",
    "                    cY,cX=fixed_points(cX,cY,mask)\n",
    "                cY,cX,offy,offx,img_cs=get_quantized_center(cX,cY,mask,dst_size=self.grid_sz,p_sofar=img_cs)\n",
    "                mod_centers.append([cY,cX])\n",
    "                mod_offsets.append([offy,offx])\n",
    "                nzeros=np.nonzero(mask)\n",
    "                ys=nzeros[0]\n",
    "                xs=nzeros[1]\n",
    "                ymin=min(ys)\n",
    "                ymax=max(ys)\n",
    "                xmin=min(xs)\n",
    "                xmax=max(xs)\n",
    "                croped_mask = mask[ymin : ymax , xmin: xmax]\n",
    "                ## resize masks to eventual size of masks to be predicted\n",
    "                croped_mask=cv2.resize(croped_mask,(self.seg_sz,self.seg_sz),cv2.INTER_NEAREST)\n",
    "                mod_masks.append(croped_mask)            \n",
    "                mod_boxes.append([xmin,ymin,xmax,ymax])\n",
    "                # Considering only one calss can add dict with value corresponding to class for multiclass\n",
    "            self.label_pts.append(mod_centers)\n",
    "            self.label_off.append(mod_offsets)\n",
    "            self.imgs.append(image)\n",
    "            self.label_masks.append(mod_masks)\n",
    "            self.label_boxes.append(mod_boxes)\n",
    "        \n",
    "    def __getitem__(self, index):\n",
    "        \n",
    "        tgt_img = self.imgs[index]\n",
    "        masks = self.label_masks[index]\n",
    "        boxes = self.label_boxes[index]\n",
    "        rgb=transform((torch.from_numpy(tgt_img).float()/255))\n",
    "        # There is only one class for now\n",
    "        labels= torch.ones((len(masks),), dtype=torch.int64)\n",
    "        iscrowd = torch.zeros((len(labels),), dtype=torch.int64)\n",
    "        ## convert to tensors\n",
    "        masks = torch.as_tensor(masks, dtype=torch.uint8)\n",
    "        boxes = torch.as_tensor(boxes, dtype=torch.float32)\n",
    "        image_id = torch.tensor([index])\n",
    "        area = (boxes[:, 3] - boxes[:, 1]) * (boxes[:, 2] - boxes[:, 0])\n",
    "        \n",
    "        target = {}\n",
    "        target[\"boxes\"] = boxes\n",
    "        target[\"masks\"] = masks//255\n",
    "        target[\"image_id\"] = image_id\n",
    "        target[\"area\"] = area\n",
    "        target[\"iscrowd\"] = iscrowd\n",
    "        target[\"labels\"] = labels\n",
    "        \n",
    "        return rgb, target\n",
    "    \n",
    "    def __len__(self):\n",
    "        return len(ds)"
   ]
  },
  {
   "cell_type": "code",
   "execution_count": 91,
   "id": "60ea231e",
   "metadata": {},
   "outputs": [
    {
     "name": "stderr",
     "output_type": "stream",
     "text": [
      "295it [00:23, 12.44it/s]\n"
     ]
    }
   ],
   "source": [
    "val_dataset = valLoader(data=ds)\n",
    "val_loader = torch.utils.data.DataLoader(\n",
    "                    dataset=val_dataset, num_workers=1, \n",
    "                    batch_size=1, shuffle=True)"
   ]
  },
  {
   "cell_type": "code",
   "execution_count": 92,
   "id": "8282f0e4",
   "metadata": {},
   "outputs": [
    {
     "name": "stdout",
     "output_type": "stream",
     "text": [
      "torch.Size([1, 3, 512, 512])\n",
      "dict_keys(['boxes', 'masks', 'image_id', 'area', 'iscrowd', 'labels'])\n",
      "boxes has shape torch.Size([1, 1, 4])\n",
      "masks has shape torch.Size([1, 1, 64, 64])\n",
      "image_id has shape torch.Size([1, 1])\n",
      "area has shape torch.Size([1, 1])\n",
      "iscrowd has shape torch.Size([1, 1])\n",
      "labels has shape torch.Size([1, 1])\n"
     ]
    }
   ],
   "source": [
    "for batch in val_loader:\n",
    "    rgb,target=batch\n",
    "    print(rgb.shape)\n",
    "    print(target.keys())\n",
    "    for k,v in target.items():\n",
    "        print(f\"{k} has shape {v.shape}\")\n",
    "    break"
   ]
  },
  {
   "cell_type": "code",
   "execution_count": 93,
   "id": "34a49dc7",
   "metadata": {},
   "outputs": [],
   "source": [
    "#!pip install pycocotools"
   ]
  },
  {
   "cell_type": "code",
   "execution_count": 94,
   "id": "33305ff5",
   "metadata": {},
   "outputs": [],
   "source": [
    "from coco_utils import get_coco_api_from_dataset, coco_to_excel"
   ]
  },
  {
   "cell_type": "code",
   "execution_count": 95,
   "id": "e64790f2",
   "metadata": {},
   "outputs": [
    {
     "name": "stderr",
     "output_type": "stream",
     "text": [
      "100%|██████████| 295/295 [00:00<00:00, 391.68it/s]"
     ]
    },
    {
     "name": "stdout",
     "output_type": "stream",
     "text": [
      "creating index...\n",
      "index created!\n"
     ]
    },
    {
     "name": "stderr",
     "output_type": "stream",
     "text": [
      "\n"
     ]
    }
   ],
   "source": [
    "coco = get_coco_api_from_dataset(val_loader.dataset)"
   ]
  },
  {
   "cell_type": "code",
   "execution_count": 96,
   "id": "07befbf5",
   "metadata": {},
   "outputs": [],
   "source": [
    "#device = torch.device(\"cuda\" if torch.cuda.is_available() else \"cpu\")\n",
    "device = torch.device(\"cpu\")"
   ]
  },
  {
   "cell_type": "code",
   "execution_count": 97,
   "id": "ee3f46ef",
   "metadata": {},
   "outputs": [],
   "source": [
    "iou_types = [\"bbox\"]\n",
    "iou_types.append(\"segm\")"
   ]
  },
  {
   "cell_type": "code",
   "execution_count": 98,
   "id": "feb04c46",
   "metadata": {},
   "outputs": [],
   "source": [
    "from coco_eval import CocoEvaluator\n",
    "import utils\n",
    "import time"
   ]
  },
  {
   "cell_type": "code",
   "execution_count": 99,
   "id": "db237a44",
   "metadata": {},
   "outputs": [],
   "source": [
    "@torch.no_grad() \n",
    "def evaluate(coco, model, data_loader, device):\n",
    "    n_threads = torch.get_num_threads()\n",
    "    # FIXME remove this and make paste_masks_in_image run on the GPU\n",
    "    torch.set_num_threads(1)\n",
    "    cpu_device = torch.device(\"cpu\")\n",
    "    model.eval()\n",
    "    model.to(device)\n",
    "    metric_logger = utils.MetricLogger(delimiter=\"  \")\n",
    "    header = 'Test:'\n",
    "\n",
    "    coco_evaluator = CocoEvaluator(coco, iou_types)\n",
    "\n",
    "    for image, targets in metric_logger.log_every(data_loader, 5, header):\n",
    "        #print(image.shape)\n",
    "        image = [image.to(device)]\n",
    "        #print(image[0].shape)\n",
    "        #targets = [{k: v.to(device) for k, v in t.items()} for t in targets]\n",
    "        targets = [{k: v.to(device) for k, v in targets.items()}]\n",
    "\n",
    "        torch.cuda.synchronize()\n",
    "        model_time = time.time()\n",
    "        outputs = model({\"img\":image[0]})\n",
    "\n",
    "        #outputs = [{k: v.to(cpu_device) for k, v in t.items()} for t in outputs]\n",
    "        outputs = [{k: v.to(cpu_device) for k, v in outputs.items()}]\n",
    "        model_time = time.time() - model_time\n",
    "\n",
    "        res = {target[\"image_id\"].item(): output for target, output in zip(targets, outputs)}\n",
    "        evaluator_time = time.time()\n",
    "        coco_evaluator.update(res)\n",
    "        evaluator_time = time.time() - evaluator_time\n",
    "        metric_logger.update(model_time=model_time, evaluator_time=evaluator_time)\n",
    "\n",
    "    # gather the stats from all processes\n",
    "    metric_logger.synchronize_between_processes()\n",
    "    print(\"Averaged stats:\", metric_logger)\n",
    "    coco_evaluator.synchronize_between_processes()\n",
    "\n",
    "    # accumulate predictions from all images\n",
    "    coco_evaluator.accumulate()\n",
    "    coco_evaluator.summarize()\n",
    "    torch.set_num_threads(n_threads)\n",
    "    return coco_evaluator"
   ]
  },
  {
   "cell_type": "code",
   "execution_count": 100,
   "id": "4921549d",
   "metadata": {},
   "outputs": [
    {
     "name": "stdout",
     "output_type": "stream",
     "text": [
      "Test:  [  0/295]  eta: 0:24:42  model_time: 4.9426 (4.9426)  evaluator_time: 0.0052 (0.0052)  time: 5.0241  data: 0.0759  max mem: 109\n",
      "Test:  [  5/295]  eta: 0:19:23  model_time: 3.5736 (3.9921)  evaluator_time: 0.0023 (0.0030)  time: 4.0122  data: 0.0165  max mem: 109\n",
      "Test:  [ 10/295]  eta: 0:18:26  model_time: 3.5736 (3.8675)  evaluator_time: 0.0022 (0.0027)  time: 3.8817  data: 0.0108  max mem: 109\n",
      "Test:  [ 15/295]  eta: 0:18:21  model_time: 3.5639 (3.9224)  evaluator_time: 0.0022 (0.0028)  time: 3.9347  data: 0.0087  max mem: 109\n",
      "Test:  [ 20/295]  eta: 0:17:48  model_time: 3.5638 (3.8727)  evaluator_time: 0.0022 (0.0027)  time: 3.8266  data: 0.0041  max mem: 109\n",
      "Test:  [ 25/295]  eta: 0:17:37  model_time: 3.5639 (3.9048)  evaluator_time: 0.0022 (0.0027)  time: 3.8861  data: 0.0040  max mem: 109\n",
      "Test:  [ 30/295]  eta: 0:17:16  model_time: 3.9265 (3.8996)  evaluator_time: 0.0026 (0.0027)  time: 3.9247  data: 0.0040  max mem: 109\n",
      "Test:  [ 35/295]  eta: 0:17:10  model_time: 3.9516 (3.9540)  evaluator_time: 0.0026 (0.0027)  time: 3.9868  data: 0.0040  max mem: 109\n",
      "Test:  [ 40/295]  eta: 0:16:43  model_time: 3.9516 (3.9265)  evaluator_time: 0.0026 (0.0027)  time: 3.9904  data: 0.0040  max mem: 109\n",
      "Test:  [ 45/295]  eta: 0:16:24  model_time: 3.9467 (3.9299)  evaluator_time: 0.0026 (0.0027)  time: 3.9699  data: 0.0039  max mem: 109\n",
      "Test:  [ 50/295]  eta: 0:16:23  model_time: 3.9442 (4.0058)  evaluator_time: 0.0026 (0.0028)  time: 4.1781  data: 0.0039  max mem: 109\n",
      "Test:  [ 55/295]  eta: 0:16:02  model_time: 3.9442 (4.0014)  evaluator_time: 0.0026 (0.0028)  time: 4.0943  data: 0.0039  max mem: 109\n",
      "Test:  [ 60/295]  eta: 0:15:35  model_time: 3.9442 (3.9709)  evaluator_time: 0.0026 (0.0027)  time: 4.0696  data: 0.0039  max mem: 109\n",
      "Test:  [ 65/295]  eta: 0:15:12  model_time: 3.9442 (3.9571)  evaluator_time: 0.0026 (0.0027)  time: 4.0271  data: 0.0039  max mem: 109\n",
      "Test:  [ 70/295]  eta: 0:14:48  model_time: 3.9410 (3.9388)  evaluator_time: 0.0026 (0.0027)  time: 3.7753  data: 0.0040  max mem: 109\n",
      "Test:  [ 75/295]  eta: 0:14:27  model_time: 3.5505 (3.9338)  evaluator_time: 0.0022 (0.0026)  time: 3.7517  data: 0.0040  max mem: 109\n",
      "Test:  [ 80/295]  eta: 0:14:07  model_time: 3.9404 (3.9349)  evaluator_time: 0.0026 (0.0026)  time: 3.8323  data: 0.0040  max mem: 109\n",
      "Test:  [ 85/295]  eta: 0:13:47  model_time: 3.9396 (3.9318)  evaluator_time: 0.0025 (0.0026)  time: 3.8557  data: 0.0040  max mem: 109\n",
      "Test:  [ 90/295]  eta: 0:13:26  model_time: 3.9396 (3.9279)  evaluator_time: 0.0026 (0.0026)  time: 3.8962  data: 0.0040  max mem: 109\n",
      "Test:  [ 95/295]  eta: 0:13:07  model_time: 3.9412 (3.9288)  evaluator_time: 0.0026 (0.0026)  time: 3.9171  data: 0.0039  max mem: 109\n",
      "Test:  [100/295]  eta: 0:12:45  model_time: 3.9396 (3.9175)  evaluator_time: 0.0026 (0.0026)  time: 3.8542  data: 0.0040  max mem: 109\n",
      "Test:  [105/295]  eta: 0:12:23  model_time: 3.9376 (3.9033)  evaluator_time: 0.0026 (0.0026)  time: 3.7882  data: 0.0040  max mem: 109\n",
      "Test:  [110/295]  eta: 0:12:04  model_time: 3.9390 (3.9054)  evaluator_time: 0.0026 (0.0026)  time: 3.8108  data: 0.0040  max mem: 109\n",
      "Test:  [115/295]  eta: 0:11:44  model_time: 3.5477 (3.9070)  evaluator_time: 0.0022 (0.0026)  time: 3.8097  data: 0.0041  max mem: 109\n",
      "Test:  [120/295]  eta: 0:11:23  model_time: 3.5421 (3.8983)  evaluator_time: 0.0022 (0.0026)  time: 3.8089  data: 0.0041  max mem: 109\n",
      "Test:  [125/295]  eta: 0:11:03  model_time: 3.9385 (3.8969)  evaluator_time: 0.0025 (0.0026)  time: 3.8707  data: 0.0041  max mem: 109\n",
      "Test:  [130/295]  eta: 0:10:44  model_time: 3.5569 (3.8935)  evaluator_time: 0.0022 (0.0026)  time: 3.8452  data: 0.0148  max mem: 109\n",
      "Test:  [135/295]  eta: 0:10:24  model_time: 3.9341 (3.8955)  evaluator_time: 0.0025 (0.0026)  time: 3.8471  data: 0.0147  max mem: 109\n",
      "Test:  [140/295]  eta: 0:10:06  model_time: 3.9474 (3.9005)  evaluator_time: 0.0026 (0.0026)  time: 3.9322  data: 0.0147  max mem: 109\n",
      "Test:  [145/295]  eta: 0:09:45  model_time: 3.9463 (3.8937)  evaluator_time: 0.0025 (0.0026)  time: 3.8915  data: 0.0147  max mem: 109\n",
      "Test:  [150/295]  eta: 0:09:26  model_time: 3.9493 (3.8957)  evaluator_time: 0.0026 (0.0026)  time: 3.9174  data: 0.0040  max mem: 109\n",
      "Test:  [155/295]  eta: 0:09:08  model_time: 3.9549 (3.9057)  evaluator_time: 0.0026 (0.0026)  time: 3.9821  data: 0.0040  max mem: 109\n",
      "Test:  [160/295]  eta: 0:08:47  model_time: 3.9480 (3.8968)  evaluator_time: 0.0026 (0.0026)  time: 3.8781  data: 0.0040  max mem: 109\n",
      "Test:  [165/295]  eta: 0:08:28  model_time: 3.9529 (3.9010)  evaluator_time: 0.0026 (0.0026)  time: 3.9615  data: 0.0039  max mem: 109\n",
      "Test:  [170/295]  eta: 0:08:08  model_time: 3.9477 (3.9001)  evaluator_time: 0.0026 (0.0026)  time: 3.9411  data: 0.0039  max mem: 109\n",
      "Test:  [175/295]  eta: 0:07:50  model_time: 3.9422 (3.9097)  evaluator_time: 0.0025 (0.0026)  time: 3.9484  data: 0.0040  max mem: 109\n",
      "Test:  [180/295]  eta: 0:07:31  model_time: 3.9509 (3.9132)  evaluator_time: 0.0025 (0.0026)  time: 4.0521  data: 0.0040  max mem: 109\n",
      "Test:  [185/295]  eta: 0:07:11  model_time: 3.9477 (3.9120)  evaluator_time: 0.0026 (0.0026)  time: 4.0105  data: 0.0040  max mem: 109\n",
      "Test:  [190/295]  eta: 0:06:51  model_time: 3.9487 (3.9130)  evaluator_time: 0.0025 (0.0026)  time: 4.0310  data: 0.0040  max mem: 109\n",
      "Test:  [195/295]  eta: 0:06:31  model_time: 3.9458 (3.9056)  evaluator_time: 0.0025 (0.0026)  time: 3.8770  data: 0.0040  max mem: 109\n",
      "Test:  [200/295]  eta: 0:06:11  model_time: 3.9458 (3.9068)  evaluator_time: 0.0025 (0.0026)  time: 3.8562  data: 0.0039  max mem: 109\n",
      "Test:  [205/295]  eta: 0:05:53  model_time: 3.9464 (3.9140)  evaluator_time: 0.0025 (0.0026)  time: 3.9404  data: 0.0040  max mem: 109\n",
      "Test:  [210/295]  eta: 0:05:33  model_time: 3.9450 (3.9149)  evaluator_time: 0.0025 (0.0026)  time: 3.9402  data: 0.0039  max mem: 109\n",
      "Test:  [215/295]  eta: 0:05:13  model_time: 3.9459 (3.9100)  evaluator_time: 0.0026 (0.0026)  time: 3.9604  data: 0.0039  max mem: 109\n",
      "Test:  [220/295]  eta: 0:04:54  model_time: 3.9470 (3.9134)  evaluator_time: 0.0026 (0.0026)  time: 3.9873  data: 0.0039  max mem: 109\n",
      "Test:  [225/295]  eta: 0:04:34  model_time: 3.9459 (3.9107)  evaluator_time: 0.0026 (0.0026)  time: 3.8838  data: 0.0039  max mem: 109\n",
      "Test:  [230/295]  eta: 0:04:14  model_time: 3.9486 (3.9117)  evaluator_time: 0.0026 (0.0026)  time: 3.8849  data: 0.0040  max mem: 109\n",
      "Test:  [235/295]  eta: 0:03:54  model_time: 3.9534 (3.9074)  evaluator_time: 0.0025 (0.0026)  time: 3.8869  data: 0.0040  max mem: 109\n",
      "Test:  [240/295]  eta: 0:03:35  model_time: 3.9488 (3.9101)  evaluator_time: 0.0026 (0.0026)  time: 3.8812  data: 0.0040  max mem: 109\n",
      "Test:  [245/295]  eta: 0:03:16  model_time: 3.9448 (3.9127)  evaluator_time: 0.0026 (0.0026)  time: 3.9425  data: 0.0040  max mem: 109\n",
      "Test:  [250/295]  eta: 0:02:57  model_time: 3.9448 (3.9283)  evaluator_time: 0.0026 (0.0026)  time: 4.1278  data: 0.0040  max mem: 109\n",
      "Test:  [255/295]  eta: 0:02:37  model_time: 3.9481 (3.9238)  evaluator_time: 0.0026 (0.0026)  time: 4.1252  data: 0.0039  max mem: 109\n",
      "Test:  [260/295]  eta: 0:02:17  model_time: 3.9481 (3.9292)  evaluator_time: 0.0026 (0.0026)  time: 4.1665  data: 0.0039  max mem: 109\n",
      "Test:  [265/295]  eta: 0:01:58  model_time: 3.9484 (3.9349)  evaluator_time: 0.0026 (0.0026)  time: 4.2166  data: 0.0041  max mem: 109\n",
      "Test:  [270/295]  eta: 0:01:38  model_time: 3.9485 (3.9368)  evaluator_time: 0.0026 (0.0026)  time: 4.0514  data: 0.0041  max mem: 109\n",
      "Test:  [275/295]  eta: 0:01:18  model_time: 3.9547 (3.9357)  evaluator_time: 0.0026 (0.0026)  time: 4.0956  data: 0.0041  max mem: 109\n",
      "Test:  [280/295]  eta: 0:00:59  model_time: 3.9555 (3.9375)  evaluator_time: 0.0026 (0.0026)  time: 4.0545  data: 0.0041  max mem: 109\n",
      "Test:  [285/295]  eta: 0:00:39  model_time: 3.9548 (3.9393)  evaluator_time: 0.0025 (0.0026)  time: 4.0056  data: 0.0040  max mem: 109\n",
      "Test:  [290/295]  eta: 0:00:19  model_time: 3.9486 (3.9339)  evaluator_time: 0.0025 (0.0026)  time: 3.9026  data: 0.0040  max mem: 109\n",
      "Test:  [294/295]  eta: 0:00:03  model_time: 3.9486 (3.9387)  evaluator_time: 0.0025 (0.0026)  time: 3.9891  data: 0.0040  max mem: 109\n",
      "Test: Total time: 0:19:24 (3.9479 s / it)\n",
      "Averaged stats: model_time: 3.9486 (3.9387)  evaluator_time: 0.0025 (0.0026)\n",
      "Accumulating evaluation results...\n",
      "DONE (t=0.03s).\n",
      "Accumulating evaluation results...\n",
      "DONE (t=0.03s).\n",
      "IoU metric: bbox\n",
      " Average Precision  (AP) @[ IoU=0.50:0.95 | area=   all | maxDets=100 ] = 0.888\n",
      " Average Precision  (AP) @[ IoU=0.50      | area=   all | maxDets=100 ] = 0.980\n",
      " Average Precision  (AP) @[ IoU=0.75      | area=   all | maxDets=100 ] = 0.980\n",
      " Average Precision  (AP) @[ IoU=0.50:0.95 | area= small | maxDets=100 ] = -1.000\n",
      " Average Precision  (AP) @[ IoU=0.50:0.95 | area=medium | maxDets=100 ] = 0.900\n",
      " Average Precision  (AP) @[ IoU=0.50:0.95 | area= large | maxDets=100 ] = 0.888\n",
      " Average Recall     (AR) @[ IoU=0.50:0.95 | area=   all | maxDets=  1 ] = 0.475\n",
      " Average Recall     (AR) @[ IoU=0.50:0.95 | area=   all | maxDets= 10 ] = 0.920\n",
      " Average Recall     (AR) @[ IoU=0.50:0.95 | area=   all | maxDets=100 ] = 0.920\n",
      " Average Recall     (AR) @[ IoU=0.50:0.95 | area= small | maxDets=100 ] = -1.000\n",
      " Average Recall     (AR) @[ IoU=0.50:0.95 | area=medium | maxDets=100 ] = 0.900\n",
      " Average Recall     (AR) @[ IoU=0.50:0.95 | area= large | maxDets=100 ] = 0.920\n",
      "IoU metric: segm\n",
      " Average Precision  (AP) @[ IoU=0.50:0.95 | area=   all | maxDets=100 ] = 0.880\n",
      " Average Precision  (AP) @[ IoU=0.50      | area=   all | maxDets=100 ] = 0.980\n",
      " Average Precision  (AP) @[ IoU=0.75      | area=   all | maxDets=100 ] = 0.980\n",
      " Average Precision  (AP) @[ IoU=0.50:0.95 | area= small | maxDets=100 ] = -1.000\n",
      " Average Precision  (AP) @[ IoU=0.50:0.95 | area=medium | maxDets=100 ] = 0.647\n",
      " Average Precision  (AP) @[ IoU=0.50:0.95 | area= large | maxDets=100 ] = 0.911\n",
      " Average Recall     (AR) @[ IoU=0.50:0.95 | area=   all | maxDets=  1 ] = 0.474\n",
      " Average Recall     (AR) @[ IoU=0.50:0.95 | area=   all | maxDets= 10 ] = 0.917\n",
      " Average Recall     (AR) @[ IoU=0.50:0.95 | area=   all | maxDets=100 ] = 0.917\n",
      " Average Recall     (AR) @[ IoU=0.50:0.95 | area= small | maxDets=100 ] = -1.000\n",
      " Average Recall     (AR) @[ IoU=0.50:0.95 | area=medium | maxDets=100 ] = 1.000\n",
      " Average Recall     (AR) @[ IoU=0.50:0.95 | area= large | maxDets=100 ] = 0.917\n"
     ]
    }
   ],
   "source": [
    "coco_evaluator = evaluate(coco, model, val_loader, device)"
   ]
  },
  {
   "cell_type": "code",
   "execution_count": null,
   "id": "fa9a3e0e",
   "metadata": {},
   "outputs": [],
   "source": []
  }
 ],
 "metadata": {
  "kernelspec": {
   "display_name": "conda_amazonei_pytorch_latest_p37",
   "language": "python",
   "name": "conda_amazonei_pytorch_latest_p37"
  },
  "language_info": {
   "codemirror_mode": {
    "name": "ipython",
    "version": 3
   },
   "file_extension": ".py",
   "mimetype": "text/x-python",
   "name": "python",
   "nbconvert_exporter": "python",
   "pygments_lexer": "ipython3",
   "version": "3.7.12"
  }
 },
 "nbformat": 4,
 "nbformat_minor": 5
}
